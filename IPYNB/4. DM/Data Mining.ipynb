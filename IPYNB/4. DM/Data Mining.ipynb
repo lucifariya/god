{
 "cells": [
  {
   "cell_type": "markdown",
   "id": "296d3fe5",
   "metadata": {},
   "source": [
    "# Data Mining Twitter \n",
    "### github : https://github.com/pdeitel/IntroToPython/tree/master/examples/ch13 \n",
    "### book   : http://localhost:8888/files/2241016309/Python%202/Python%20Book.pdf \n",
    "            (only works in lab comp)"
   ]
  },
  {
   "cell_type": "code",
   "execution_count": 2,
   "id": "7cc70802",
   "metadata": {},
   "outputs": [
    {
     "name": "stdout",
     "output_type": "stream",
     "text": [
      "Defaulting to user installation because normal site-packages is not writeable\n",
      "Requirement already satisfied: tweepy in /home/student/.local/lib/python3.11/site-packages (4.15.0)\n",
      "Requirement already satisfied: oauthlib<4,>=3.2.0 in /home/student/.local/lib/python3.11/site-packages (from tweepy) (3.2.2)\n",
      "Requirement already satisfied: requests<3,>=2.27.0 in /home/iter/anaconda3/lib/python3.11/site-packages (from tweepy) (2.31.0)\n",
      "Requirement already satisfied: requests-oauthlib<3,>=1.2.0 in /home/student/.local/lib/python3.11/site-packages (from tweepy) (2.0.0)\n",
      "Requirement already satisfied: charset-normalizer<4,>=2 in /home/iter/anaconda3/lib/python3.11/site-packages (from requests<3,>=2.27.0->tweepy) (2.0.4)\n",
      "Requirement already satisfied: idna<4,>=2.5 in /home/iter/anaconda3/lib/python3.11/site-packages (from requests<3,>=2.27.0->tweepy) (3.4)\n",
      "Requirement already satisfied: urllib3<3,>=1.21.1 in /home/iter/anaconda3/lib/python3.11/site-packages (from requests<3,>=2.27.0->tweepy) (1.26.16)\n",
      "Requirement already satisfied: certifi>=2017.4.17 in /home/iter/anaconda3/lib/python3.11/site-packages (from requests<3,>=2.27.0->tweepy) (2024.2.2)\n"
     ]
    }
   ],
   "source": [
    "!pip install tweepy"
   ]
  },
  {
   "cell_type": "code",
   "execution_count": 3,
   "id": "c7664785",
   "metadata": {},
   "outputs": [],
   "source": [
    "import tweepy"
   ]
  },
  {
   "cell_type": "code",
   "execution_count": null,
   "id": "0fdbac5c",
   "metadata": {},
   "outputs": [],
   "source": [
    "API_KEY = \"Lorem ipsum dolor sit amet, consectetur adipiscing elit\"\n",
    "API_SECRET = \"Phasellus egestas accumsan felis vitae rhoncus\"\n",
    "ACCESS_TOKEN = \"Fusce mollis eleifend odio sed rhoncus\"\n",
    "ACCESS_SECRET = \"Phasellus ut urna dui\"\n",
    "BEARER_TOKEN = \"Morbi maximus orci id nisl euismod, at maximus nulla gravida\"\n",
    "\n",
    "# Replace with real stuff by creating a twitter developers account (just google)"
   ]
  },
  {
   "cell_type": "code",
   "execution_count": 5,
   "id": "af679761",
   "metadata": {},
   "outputs": [],
   "source": [
    "client = tweepy.Client(bearer_token=BEARER_TOKEN)\n",
    "\n",
    "username = \"Jagadeeswar_Dev\"\n",
    "\n",
    "user = client.get_user(username=username, user_fields=[\"public_metrics\"])"
   ]
  },
  {
   "cell_type": "code",
   "execution_count": 6,
   "id": "fbed5609",
   "metadata": {},
   "outputs": [
    {
     "name": "stdout",
     "output_type": "stream",
     "text": [
      "User ID: 1900137333397348352\n",
      "Username: Jagadeeswar_Dev\n",
      "Name: Jagadeeswar Patro\n",
      "Followers Count: 0\n",
      "Location: None\n",
      "Bio: None\n",
      "Profile Image URL: None\n",
      "Verified: None\n",
      "Account Created At: None\n",
      "Protected Tweets: None\n"
     ]
    }
   ],
   "source": [
    "if user.data:\n",
    "    print(\"User ID:\", user.data.id)\n",
    "    print(\"Username:\", user.data.username)\n",
    "    print(\"Name:\", user.data.name)\n",
    "    print(\"Followers Count:\", user.data.public_metrics[\"followers_count\"])\n",
    "    print(\"Location:\", user.data.location)\n",
    "    print(\"Bio:\", user.data.description)\n",
    "    print(\"Profile Image URL:\", user.data.profile_image_url)\n",
    "    print(\"Verified:\", user.data.verified)\n",
    "    print(\"Account Created At:\", user.data.created_at)\n",
    "    print(\"Protected Tweets:\", user.data.protected)\n",
    "else:\n",
    "    print(\"User not found.\")"
   ]
  },
  {
   "cell_type": "code",
   "execution_count": 7,
   "id": "41ee0951",
   "metadata": {},
   "outputs": [],
   "source": [
    "query = \"Jagadeeswar Patro\"\n",
    "\n",
    "tweets = client.search_recent_tweets(query=query, max_results=15)"
   ]
  },
  {
   "cell_type": "code",
   "execution_count": 16,
   "id": "c0959c3e",
   "metadata": {},
   "outputs": [
    {
     "ename": "TypeError",
     "evalue": "'NoneType' object is not iterable",
     "output_type": "error",
     "traceback": [
      "\u001b[0;31m---------------------------------------------------------------------------\u001b[0m",
      "\u001b[0;31mTypeError\u001b[0m                                 Traceback (most recent call last)",
      "Cell \u001b[0;32mIn[16], line 1\u001b[0m\n\u001b[0;32m----> 1\u001b[0m \u001b[38;5;28;01mfor\u001b[39;00m tweet \u001b[38;5;129;01min\u001b[39;00m tweets\u001b[38;5;241m.\u001b[39mdata:\n\u001b[1;32m      2\u001b[0m     \u001b[38;5;28mprint\u001b[39m(\u001b[38;5;124mf\u001b[39m\u001b[38;5;124m\"\u001b[39m\u001b[38;5;124mTweet: \u001b[39m\u001b[38;5;132;01m{\u001b[39;00mtweet\u001b[38;5;241m.\u001b[39mtext\u001b[38;5;132;01m}\u001b[39;00m\u001b[38;5;130;01m\\n\u001b[39;00m\u001b[38;5;124m\"\u001b[39m)\n",
      "\u001b[0;31mTypeError\u001b[0m: 'NoneType' object is not iterable"
     ]
    }
   ],
   "source": [
    "for tweet in tweets.data:\n",
    "    print(f\"Tweet: {tweet.text}\\n\")"
   ]
  },
  {
   "cell_type": "code",
   "execution_count": 9,
   "id": "9c853251",
   "metadata": {},
   "outputs": [],
   "source": [
    "import requests"
   ]
  },
  {
   "cell_type": "code",
   "execution_count": 19,
   "id": "88d41126",
   "metadata": {},
   "outputs": [],
   "source": [
    "def get_user_info(username):\n",
    "    url=f\"https://api.twitter.com/2/users/by/username/{username}?user.fields=id, name, username, description, public_metrics\"\n",
    "    headers = {\n",
    "        \"Authorization\" : f\"Bearer {BEARER_TOKEN}\"\n",
    "    }\n",
    "\n",
    "    response = requests.get(url, headers=headers)\n",
    "\n",
    "    if response.status_code == 200:\n",
    "        user_data = response.json()[\"data\"]\n",
    "        print(\"User ID:\", user_data[\"id\"])\n",
    "        print(\"User Name:\", user_data[\"name\"])\n",
    "        print(\"Screen Name:\", user_data[\"username\"])\n",
    "        print(\"Description:\", user_data[\"description\"])\n",
    "        print(\"Followers Count:\", user_data[\"public_metrics\"][\"followers_count\"])\n",
    "    else:\n",
    "        print(\"Error:\", response.status_code, response.text)"
   ]
  },
  {
   "cell_type": "code",
   "execution_count": 20,
   "id": "46b92eaa",
   "metadata": {},
   "outputs": [
    {
     "name": "stdout",
     "output_type": "stream",
     "text": [
      "Error: 429 {\"title\":\"Too Many Requests\",\"detail\":\"Too Many Requests\",\"type\":\"about:blank\",\"status\":429}\n"
     ]
    }
   ],
   "source": [
    "get_user_info(\"Jagadeeswar_Dev\")"
   ]
  },
  {
   "cell_type": "code",
   "execution_count": null,
   "id": "2b536196",
   "metadata": {},
   "outputs": [],
   "source": []
  }
 ],
 "metadata": {
  "kernelspec": {
   "display_name": "Python 3 (ipykernel)",
   "language": "python",
   "name": "python3"
  },
  "language_info": {
   "codemirror_mode": {
    "name": "ipython",
    "version": 3
   },
   "file_extension": ".py",
   "mimetype": "text/x-python",
   "name": "python",
   "nbconvert_exporter": "python",
   "pygments_lexer": "ipython3",
   "version": "3.12.4"
  }
 },
 "nbformat": 4,
 "nbformat_minor": 5
}
