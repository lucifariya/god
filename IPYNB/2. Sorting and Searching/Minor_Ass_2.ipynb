{
 "cells": [
  {
   "cell_type": "markdown",
   "id": "7fca9aec",
   "metadata": {},
   "source": [
    "# MINOR ASSIGNMENT-2: COMPUTER SCIENCE THINKING: RECURSION, SEARCHING, SORTING AND BIG O  "
   ]
  },
  {
   "cell_type": "markdown",
   "id": "1f726f3b-8515-4c74-8ad8-5dd9884e8c72",
   "metadata": {},
   "source": [
    "<b>Question 1:</b>  \n",
    "Write a recursive function power(base, exponent) that, when called, returns\n",
    "> base^exponent\n",
    "  \n"
   ]
  },
  {
   "cell_type": "code",
   "execution_count": 1,
   "id": "403b898f",
   "metadata": {},
   "outputs": [
    {
     "data": {
      "text/plain": [
       "729"
      ]
     },
     "execution_count": 1,
     "metadata": {},
     "output_type": "execute_result"
    }
   ],
   "source": [
    "def power(base, exponent):\n",
    "    if exponent == 1:\n",
    "        return base\n",
    "    return base * power(base, exponent - 1)\n",
    "\n",
    "power(3, 6)"
   ]
  },
  {
   "cell_type": "markdown",
   "id": "6258ea5f-f1c4-49b6-99f9-a719dcc6fda2",
   "metadata": {},
   "source": [
    "<b>Question 2:</b>  \n",
    "The greatest common divisor of integers x and y is the largest integer that evenly divides into both x\n",
    "and y. Write and test a recursive function gcd that returns the greatest common divisor of x and y.\n",
    "The gcd of x and y is defined recursively as follows: If y is equal to 0, then gcd(x, y) is x; otherwise,\n",
    "gcd(x, y) is gcd(y, x%y)."
   ]
  },
  {
   "cell_type": "code",
   "execution_count": 2,
   "id": "c48f7960",
   "metadata": {},
   "outputs": [
    {
     "data": {
      "text/plain": [
       "6"
      ]
     },
     "execution_count": 2,
     "metadata": {},
     "output_type": "execute_result"
    }
   ],
   "source": [
    "def gcd(x, y):\n",
    "    if y == 0:\n",
    "        return x\n",
    "    return gcd(y, x % y)\n",
    "\n",
    "gcd(48, 18)"
   ]
  },
  {
   "cell_type": "markdown",
   "id": "deafed18-6e08-4088-b08d-0321beaaaba4",
   "metadata": {},
   "source": [
    "<b>Question 3:</b>  \n",
    "Write a recursive function that takes a number n as an input parameter and prints n-digit strictly\n",
    "increasing numbers."
   ]
  },
  {
   "cell_type": "code",
   "execution_count": 3,
   "id": "004c0331",
   "metadata": {
    "scrolled": true
   },
   "outputs": [
    {
     "name": "stdout",
     "output_type": "stream",
     "text": [
      "123 124 125 126 127 128 129 134 135 136 137 138 139 145 146 147 148 149 156 157 158 159 167 168 169 178 179 189 234 235 236 237 238 239 245 246 247 248 249 256 257 258 259 267 268 269 278 279 289 345 346 347 348 349 356 357 358 359 367 368 369 378 379 389 456 457 458 459 467 468 469 478 479 489 567 568 569 578 579 589 678 679 689 789 "
     ]
    }
   ],
   "source": [
    "def increase(n,st=1,curr=\"\"):\n",
    "    if len(curr)==n:\n",
    "        print(curr,end=\" \")\n",
    "        return\n",
    "    for i in range(st,10):\n",
    "        increase(n,i+1,curr+str(i))\n",
    "\n",
    "increase(3)"
   ]
  },
  {
   "cell_type": "markdown",
   "id": "be197e70-db31-408f-8033-aadad347326e",
   "metadata": {},
   "source": [
    "<b>Question 4:</b>  \n",
    "Implement a recursive solution for computing the nth Fibonacci number. Then, analyze its time\n",
    "complexity. Propose a more efficient solution and compare the two approaches."
   ]
  },
  {
   "cell_type": "code",
   "execution_count": 4,
   "id": "cbc45bcb",
   "metadata": {},
   "outputs": [
    {
     "data": {
      "text/plain": [
       "6765"
      ]
     },
     "execution_count": 4,
     "metadata": {},
     "output_type": "execute_result"
    }
   ],
   "source": [
    "# First Approach:\n",
    "\n",
    "def fibRec(n):\n",
    "    if n == 1 or n == 2:\n",
    "        return 1\n",
    "    return fibRec(n-1) + fibRec(n-2)\n",
    "\n",
    "fibRec(20)\n",
    "\n",
    "# Time Complexity: O(2^n)"
   ]
  },
  {
   "cell_type": "code",
   "execution_count": 5,
   "id": "090e80cb",
   "metadata": {},
   "outputs": [
    {
     "data": {
      "text/plain": [
       "6765"
      ]
     },
     "execution_count": 5,
     "metadata": {},
     "output_type": "execute_result"
    }
   ],
   "source": [
    "# Second Approach:\n",
    "\n",
    "def fibMem(n, memo = None):\n",
    "    if memo is None:\n",
    "        memo = {}\n",
    "        \n",
    "    if n in memo:\n",
    "        return memo[n]\n",
    "    \n",
    "    if n == 1 or n == 2:\n",
    "        return 1\n",
    "    \n",
    "    memo[n] = fibMem(n-1, memo) + fibMem(n-2, memo);\n",
    "    return memo[n]\n",
    "\n",
    "fibMem(20)\n",
    "\n",
    "# Time Complexity: O(n)"
   ]
  },
  {
   "cell_type": "markdown",
   "id": "a895e8ae-11d2-41d8-8601-da3963699287",
   "metadata": {},
   "source": [
    "<b>Question 5:</b>  \n",
    "Given an array of N elements, not necessarily in ascending order, devised an algorithm to find the kth largest one. It should run in O(N) time on random inputs."
   ]
  },
  {
   "cell_type": "code",
   "execution_count": 6,
   "id": "c58b240b",
   "metadata": {},
   "outputs": [
    {
     "data": {
      "text/plain": [
       "19"
      ]
     },
     "execution_count": 6,
     "metadata": {},
     "output_type": "execute_result"
    }
   ],
   "source": [
    "import random\n",
    "def partition(arr, low, high):\n",
    "    pivot = arr[high]\n",
    "    i = low - 1\n",
    "    for j in range(low, high):\n",
    "            i += 1\n",
    "            arr[i], arr[j] = arr[j], arr[i]\n",
    "    arr[i + 1], arr[high] = arr[high], arr[i + 1]\n",
    "    return i + 1\n",
    "\n",
    "def quickselect(arr, low, high, k):\n",
    "    if low <= high:\n",
    "        pivot_index = random.randint(low, high)\n",
    "        arr[pivot_index], arr[high] = arr[high], arr[pivot_index]\n",
    "        pi = partition(arr, low, high)\n",
    "        if pi == k:\n",
    "            return arr[pi]\n",
    "        elif pi > k:\n",
    "            return quickselect(arr, low, pi - 1, k)\n",
    "        else:\n",
    "            return quickselect(arr, pi + 1, high, k)\n",
    "\n",
    "def find_kth_largest(arr, k):\n",
    "    n = len(arr)\n",
    "    return quickselect(arr, 0, n - 1, n - k)\n",
    "\n",
    "arr = [12, -3, 5, 7, 19, 8]\n",
    "k = 4\n",
    "find_kth_largest(arr, k)"
   ]
  },
  {
   "cell_type": "markdown",
   "id": "92bd37fd-d852-4597-a45f-abb3575b4e25",
   "metadata": {},
   "source": [
    "<b>Question 6:</b>  \n",
    "For each of the following code snippets, determine the time complexity in terms of Big O. Explain your answer.  \n",
    "  \n",
    "**(a) :**  \n",
    "```python\n",
    "def example1(n):\n",
    "    for i in range(n):\n",
    "        for j in range(n):\n",
    "            print(i, j)\n",
    "```\n",
    "**Ans-** Time Complexity: O(n^2)  \n",
    "  \n",
    "**(b) :**  \n",
    "```python\n",
    "for i in range(n):\n",
    "    print(i)\n",
    "```  \n",
    "**Ans-** Time Complexity: O(n)  \n",
    "  \n",
    "**(c) :**  \n",
    "```python\n",
    "def recursive_function(n):\n",
    "    if n <= 1:\n",
    "        return 1\n",
    "    return recursive_function(n - 1) + recursive_function(n - 1)\n",
    "```\n",
    "**Ans-** Time Complexity: O(2^n)  \n",
    "  "
   ]
  },
  {
   "cell_type": "markdown",
   "id": "5d7babe1-a8f1-497c-b0c2-88fa31365a53",
   "metadata": {},
   "source": [
    "<b>Question 7:</b>  \n",
    "Given N points on a circle, centered at the origin, design an algorithm that determines whether there\n",
    "are two points that are antipodal, i.e., the line connecting the two points goes through the origin. Your\n",
    "algorithm should run in time proportional to NlogN."
   ]
  },
  {
   "cell_type": "code",
   "execution_count": 7,
   "id": "e8d5f28e-c241-480a-8a40-7018f4ef3cdb",
   "metadata": {},
   "outputs": [
    {
     "data": {
      "text/plain": [
       "True"
      ]
     },
     "execution_count": 7,
     "metadata": {},
     "output_type": "execute_result"
    }
   ],
   "source": [
    "import math\n",
    "def find_antipodal_points(p):\n",
    "    a=[]\n",
    "    for (x,y) in p:\n",
    "        a.append(math.atan2(y, x))\n",
    "    a.sort()\n",
    "    n = len(a)\n",
    "    for i in range(n):\n",
    "        t = (a[i] + math.pi) % (2 * math.pi)\n",
    "        left, right = i + 1, n - 1\n",
    "        while left <= right:\n",
    "            m = (left + right) // 2\n",
    "            if a[m] == t:\n",
    "                return True\n",
    "            elif a[m] < t:\n",
    "                left = m + 1\n",
    "            else:\n",
    "                right = m - 1\n",
    "    return False\n",
    "\n",
    "p = [(1, 0), (0, 1), (-1, 0), (0, -1)]\n",
    "find_antipodal_points(p)"
   ]
  },
  {
   "cell_type": "markdown",
   "id": "d48662bb-6a6f-4531-81b8-a109a0c68d63",
   "metadata": {},
   "source": [
    "<b>Question 8:</b>  \n",
    "The **quicksort algorithm** is a recursive sorting technique that follows these steps:  \n",
    "1. **Partition Step:** Choose the first element of the array as the pivot and determine its final position\n",
    "in the sorted array by ensuring all elements to its left are smaller and all elements to its right are larger.  \n",
    "1. **Recursive Step:** Recursively repeat the partitioning process on the subarrays created on either side of the pivot.\n",
    "   \n",
    "As an example, consider the array [37, 2, 6, 4, 89, 8, 10, 12, 68, 45] with 37 as the pivot. Using the partitioning logic, the pivot eventually moves to its correct position, resulting in two subarrays: [12, 2, 6, 4, 10, 8] and [89, 68, 45]. The algorithm continues recursively until the entire array is sorted.  \n",
    "  \n",
    "Write a Python function quick_sort that implements the quicksort algorithm. The function should include a helper function quick_sort_helper to handle recursion. The helper function must take a starting and ending index as arguments and sort the array in-place. Demonstrate the function by sorting the given array and printing the sorted output."
   ]
  },
  {
   "cell_type": "code",
   "execution_count": 8,
   "id": "d205c6dd-c7a1-46e6-a6c1-629f8f6da8f7",
   "metadata": {},
   "outputs": [
    {
     "data": {
      "text/plain": [
       "[2, 4, 6, 8, 10, 12, 37, 45, 68, 89]"
      ]
     },
     "execution_count": 8,
     "metadata": {},
     "output_type": "execute_result"
    }
   ],
   "source": [
    "def partition(arr, low, high):\n",
    "    pivot = arr[low]\n",
    "    i = low + 1\n",
    "    for j in range(low + 1, high + 1):\n",
    "        if arr[j] < pivot:\n",
    "            arr[i], arr[j] = arr[j], arr[i]\n",
    "            i += 1\n",
    "    arr[low], arr[i - 1] = arr[i - 1], arr[low]\n",
    "    return i - 1\n",
    "\n",
    "def quick_sort_helper(arr, low, high):\n",
    "    if low < high:\n",
    "        pi = partition(arr, low, high)\n",
    "        quick_sort_helper(arr, low, pi - 1)\n",
    "        quick_sort_helper(arr, pi + 1, high)\n",
    "\n",
    "def quick_sort(arr):\n",
    "    quick_sort_helper(arr, 0, len(arr) - 1)\n",
    "\n",
    "arr = [37, 2, 6, 4, 89, 8, 10, 12, 68, 45]\n",
    "quick_sort(arr)\n",
    "arr"
   ]
  },
  {
   "cell_type": "markdown",
   "id": "f7c6abcb-b858-43ce-9e13-277d13884368",
   "metadata": {},
   "source": [
    "<b>Question 9:</b>  \n",
    "You are given the following list of famous personalities with their net worth:  \n",
    "• Elon Musk: 433.9 Billion  \n",
    "• Jeff Bezos: 239.4 Billion  \n",
    "• Mark Zuckerberg: 211.8 Billion  \n",
    "• Larry Ellison: 204.6 Billion  \n",
    "• Bernard Arnault & Family: 181.3  \n",
    "• Larry Page: 161.4 Billion\n",
    "     \n",
    "Develop a program to sort the aforementioned details on the basis of net worth using  \n",
    "a. Selection sort  \n",
    "b. Bubble sort  \n",
    "c. Insertion sort.  \n",
    "  \n",
    "The final sorted data should be the same for all cases. After you obtain the sorted data, present the result in the form of the following dictionary:  \n",
    "{’name1’:networth1, ’name2’:networth2,...}"
   ]
  },
  {
   "cell_type": "code",
   "execution_count": 16,
   "id": "20fb7a96-0e5f-4da2-8d16-53f14259f2ce",
   "metadata": {},
   "outputs": [],
   "source": [
    "data = [\n",
    "    (\"Elon Musk\", 433.9),\n",
    "    (\"Jeff Bezos\", 239.4),\n",
    "    (\"Mark Zuckerberg\", 211.8),\n",
    "    (\"Larry Ellison\", 204.6),\n",
    "    (\"Bernard Arnault & Family\", 181.3),\n",
    "    (\"Larry Page\", 161.4)\n",
    "]"
   ]
  },
  {
   "cell_type": "code",
   "execution_count": 10,
   "id": "fde44912-69a8-4813-a2c5-589966162fcc",
   "metadata": {},
   "outputs": [],
   "source": [
    "# Selection Sort:\n",
    "def selection_sort(data):\n",
    "    for i in range(len(data)):\n",
    "        min_index = i\n",
    "        for j in range(i + 1, len(data)):\n",
    "            if data[j][1] > data[min_index][1]: \n",
    "                min_index = j\n",
    "        data[i], data[min_index] = data[min_index], data[i]\n",
    "    return data"
   ]
  },
  {
   "cell_type": "code",
   "execution_count": 11,
   "id": "4bb99908-48e9-4877-9ec4-fc1682137fe1",
   "metadata": {},
   "outputs": [
    {
     "name": "stdout",
     "output_type": "stream",
     "text": [
      "Selection Sort Result:\n"
     ]
    },
    {
     "data": {
      "text/plain": [
       "{'Elon Musk': 433.9,\n",
       " 'Jeff Bezos': 239.4,\n",
       " 'Mark Zuckerberg': 211.8,\n",
       " 'Larry Ellison': 204.6,\n",
       " 'Bernard Arnault & Family': 181.3,\n",
       " 'Larry Page': 161.4}"
      ]
     },
     "execution_count": 11,
     "metadata": {},
     "output_type": "execute_result"
    }
   ],
   "source": [
    "selection_sorted = selection_sort(data.copy())\n",
    "print(\"Selection Sort Result:\")\n",
    "selection_sorted_dict = {name: networth for name, networth in selection_sorted}\n",
    "selection_sorted_dict"
   ]
  },
  {
   "cell_type": "code",
   "execution_count": 12,
   "id": "ff04dc41-3751-49ad-885f-29a83e9d8204",
   "metadata": {},
   "outputs": [],
   "source": [
    "# Bubble Sort:\n",
    "def bubble_sort(data):\n",
    "    n = len(data)\n",
    "    for i in range(n):\n",
    "        for j in range(0, n - i - 1):\n",
    "            if data[j][1] < data[j + 1][1]:\n",
    "                data[j], data[j + 1] = data[j + 1], data[j]\n",
    "    return data"
   ]
  },
  {
   "cell_type": "code",
   "execution_count": 14,
   "id": "cf4b5444-5ae1-4391-92d5-8124fc7d2ea9",
   "metadata": {},
   "outputs": [
    {
     "name": "stdout",
     "output_type": "stream",
     "text": [
      "\n",
      "Bubble Sort Result:\n"
     ]
    },
    {
     "data": {
      "text/plain": [
       "{'Elon Musk': 433.9,\n",
       " 'Jeff Bezos': 239.4,\n",
       " 'Mark Zuckerberg': 211.8,\n",
       " 'Larry Ellison': 204.6,\n",
       " 'Bernard Arnault & Family': 181.3,\n",
       " 'Larry Page': 161.4}"
      ]
     },
     "execution_count": 14,
     "metadata": {},
     "output_type": "execute_result"
    }
   ],
   "source": [
    "bubble_sorted = bubble_sort(data.copy())\n",
    "print(\"\\nBubble Sort Result:\")\n",
    "bubble_sorted_dict = {name: networth for name, networth in bubble_sorted}\n",
    "bubble_sorted_dict"
   ]
  },
  {
   "cell_type": "code",
   "execution_count": 15,
   "id": "535782a9-8a70-41aa-8ae5-3227ab4e1f5d",
   "metadata": {},
   "outputs": [],
   "source": [
    "# Insertion Sort\n",
    "def insertion_sort(data):\n",
    "    for i in range(1, len(data)):\n",
    "        key = data[i]\n",
    "        j = i - 1\n",
    "        while j >= 0 and key[1] > data[j][1]:  # Sort by net worth (descending order)\n",
    "            data[j + 1] = data[j]\n",
    "            j -= 1\n",
    "        data[j + 1] = key\n",
    "    return data"
   ]
  },
  {
   "cell_type": "code",
   "execution_count": 17,
   "id": "83076c22-ba5a-4e56-aee7-426c00fde5bc",
   "metadata": {},
   "outputs": [
    {
     "name": "stdout",
     "output_type": "stream",
     "text": [
      "\n",
      "Insertion Sort Result:\n"
     ]
    },
    {
     "data": {
      "text/plain": [
       "{'Elon Musk': 433.9,\n",
       " 'Jeff Bezos': 239.4,\n",
       " 'Mark Zuckerberg': 211.8,\n",
       " 'Larry Ellison': 204.6,\n",
       " 'Bernard Arnault & Family': 181.3,\n",
       " 'Larry Page': 161.4}"
      ]
     },
     "execution_count": 17,
     "metadata": {},
     "output_type": "execute_result"
    }
   ],
   "source": [
    "insertion_sorted = insertion_sort(data.copy())\n",
    "print(\"\\nInsertion Sort Result:\")\n",
    "insertion_sorted_dict = {name: networth for name, networth in insertion_sorted}\n",
    "insertion_sorted_dict"
   ]
  },
  {
   "cell_type": "markdown",
   "id": "193f302a-e602-4f2b-beb1-e7d7d26ddde6",
   "metadata": {},
   "source": [
    "<b>Question 10:</b>  \n",
    "Use Merge Sort to sort a list of strings alphabetically. Example:  \n",
    "Input: [’apple’, ’orange’, ’banana’, ’grape’]  \n",
    "Output: [’apple’, ’banana’, ’grape’, ’orange’]"
   ]
  },
  {
   "cell_type": "code",
   "execution_count": 18,
   "id": "d0115e69-8473-4883-ae67-7266f50d3407",
   "metadata": {},
   "outputs": [],
   "source": [
    "def ms(arr):\n",
    "    if len(arr) <= 1:\n",
    "        return arr\n",
    "    mid = len(arr) // 2\n",
    "    left = arr[:mid]\n",
    "    right = arr[mid:]\n",
    "    return merge(ms(left), ms(right))"
   ]
  },
  {
   "cell_type": "code",
   "execution_count": 19,
   "id": "41a7fc66-03d6-46e3-8330-73b4317ba2e8",
   "metadata": {},
   "outputs": [],
   "source": [
    "def merge(left, right):\n",
    "    res = []\n",
    "    i = j = 0\n",
    "    while i < len(left) and j < len(right):\n",
    "        if left[i] < right[j]:\n",
    "            res.append(left[i])\n",
    "            i += 1\n",
    "        else:\n",
    "            res.append(right[j])\n",
    "            j += 1\n",
    "    res.extend(left[i:])\n",
    "    res.extend(right[j:])\n",
    "    return res"
   ]
  },
  {
   "cell_type": "code",
   "execution_count": 20,
   "id": "e1e1b691-d774-4fd7-befb-b60a86aa2aaa",
   "metadata": {},
   "outputs": [
    {
     "data": {
      "text/plain": [
       "['apple', 'banana', 'grape', 'orange']"
      ]
     },
     "execution_count": 20,
     "metadata": {},
     "output_type": "execute_result"
    }
   ],
   "source": [
    "lst = ['apple', 'orange', 'banana', 'grape']\n",
    "ms(lst)"
   ]
  },
  {
   "cell_type": "markdown",
   "id": "6e58a952-7df0-43af-84cf-46dfeaba2892",
   "metadata": {},
   "source": [
    "<b>Question 11:</b>  \n",
    "Without using the built-in sorted() function, write a Python program to merge two pre-sorted lists into a single sorted list using the logic of Merge Sort. Example:  \n",
    "Input: [1, 3, 5, 7] and [2, 4, 6, 8]  \n",
    "Output: [1, 2, 3, 4, 5, 6, 7, 8]"
   ]
  },
  {
   "cell_type": "code",
   "execution_count": 21,
   "id": "4eb7dec4-3372-4126-b9ac-a2fd924adebc",
   "metadata": {},
   "outputs": [],
   "source": [
    "def merge_sorted_lists(list1, list2):\n",
    "    i = j = 0\n",
    "    merged_list = []\n",
    "    \n",
    "    while i < len(list1) and j < len(list2):\n",
    "        if list1[i] < list2[j]:\n",
    "            merged_list.append(list1[i])\n",
    "            i += 1\n",
    "        else:\n",
    "            merged_list.append(list2[j])\n",
    "            j += 1\n",
    "    \n",
    "    merged_list.extend(list1[i:])\n",
    "    merged_list.extend(list2[j:])\n",
    "    \n",
    "    return merged_list"
   ]
  },
  {
   "cell_type": "code",
   "execution_count": 22,
   "id": "b3b157a7-e4fe-4b2c-9959-0d076ceb886e",
   "metadata": {},
   "outputs": [
    {
     "data": {
      "text/plain": [
       "[1, 2, 3, 4, 5, 6, 7, 8]"
      ]
     },
     "execution_count": 22,
     "metadata": {},
     "output_type": "execute_result"
    }
   ],
   "source": [
    "list1 = [1, 3, 5, 7]\n",
    "list2 = [2, 4, 6, 8]\n",
    "merge_sorted_lists(list1, list2)"
   ]
  }
 ],
 "metadata": {
  "kernelspec": {
   "display_name": "Python 3 (ipykernel)",
   "language": "python",
   "name": "python3"
  },
  "language_info": {
   "codemirror_mode": {
    "name": "ipython",
    "version": 3
   },
   "file_extension": ".py",
   "mimetype": "text/x-python",
   "name": "python",
   "nbconvert_exporter": "python",
   "pygments_lexer": "ipython3",
   "version": "3.12.4"
  }
 },
 "nbformat": 4,
 "nbformat_minor": 5
}
