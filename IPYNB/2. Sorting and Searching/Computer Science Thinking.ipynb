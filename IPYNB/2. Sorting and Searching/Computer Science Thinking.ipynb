{
 "cells": [
  {
   "cell_type": "markdown",
   "id": "79f3f641",
   "metadata": {},
   "source": [
    "# Computer Science Thinking: Recursion, Searching, Sorting and Big O\n",
    "### github : https://github.com/pdeitel/IntroToPython/tree/master/examples/ch11 \n",
    "### book   : http://localhost:8888/files/2241016309/Python/Python%202/Python%20Book.pdf \n",
    "            (only works in lab comp)"
   ]
  },
  {
   "cell_type": "markdown",
   "id": "a1dd1d16",
   "metadata": {},
   "source": [
    "### Factorials\n",
    "**Iterative Factorial Approach:**"
   ]
  },
  {
   "cell_type": "code",
   "execution_count": 1,
   "id": "249434c5",
   "metadata": {},
   "outputs": [
    {
     "name": "stdout",
     "output_type": "stream",
     "text": [
      "120\n"
     ]
    }
   ],
   "source": [
    "factorial = 1\n",
    "for number in range(5, 0, -1):\n",
    "    factorial *= number\n",
    "print(factorial)"
   ]
  },
  {
   "cell_type": "markdown",
   "id": "6eb7c307",
   "metadata": {},
   "source": [
    "<hr>  </hr>  \n",
    "  \n",
    "**Recursive Faqctorial Approach:**"
   ]
  },
  {
   "cell_type": "code",
   "execution_count": 2,
   "id": "bbcf3c5f",
   "metadata": {},
   "outputs": [
    {
     "name": "stdout",
     "output_type": "stream",
     "text": [
      "0! = 1\n",
      "1! = 1\n",
      "2! = 2\n",
      "3! = 6\n",
      "4! = 24\n",
      "5! = 120\n",
      "6! = 720\n",
      "7! = 5040\n",
      "8! = 40320\n",
      "9! = 362880\n",
      "10! = 3628800\n"
     ]
    }
   ],
   "source": [
    "def factorial(number):\n",
    "    \"\"\"Return factorial of number.\"\"\"\n",
    "    if number <= 1:\n",
    "        return 1\n",
    "    return number * factorial(number - 1)  # recursive call\n",
    "\n",
    "for i in range(11):\n",
    "    print(f'{i}! = {factorial(i)}')"
   ]
  },
  {
   "cell_type": "code",
   "execution_count": 4,
   "id": "ff8cc3ee",
   "metadata": {},
   "outputs": [
    {
     "data": {
      "text/plain": [
       "30414093201713378043612608166064768844377641568960512000000000000"
      ]
     },
     "execution_count": 4,
     "metadata": {},
     "output_type": "execute_result"
    }
   ],
   "source": [
    "factorial(50)\n",
    "\n",
    "# Java’s int type can represent only values in the range –2,147,483,648 to+2,147,483,647.\n",
    "# But Python allows integers to become arbitrarily large. "
   ]
  },
  {
   "cell_type": "markdown",
   "id": "8d1d70ea",
   "metadata": {},
   "source": [
    "<hr>  </hr>  \n",
    "  \n",
    "### Fibonacci Series: \n",
    "**Recursive Fibonacci Series Example:**"
   ]
  },
  {
   "cell_type": "code",
   "execution_count": 5,
   "id": "fd33c9a4",
   "metadata": {},
   "outputs": [
    {
     "name": "stdout",
     "output_type": "stream",
     "text": [
      "Fibonacci(0) = 0\n",
      "Fibonacci(1) = 1\n",
      "Fibonacci(2) = 1\n",
      "Fibonacci(3) = 2\n",
      "Fibonacci(4) = 3\n",
      "Fibonacci(5) = 5\n",
      "Fibonacci(6) = 8\n",
      "Fibonacci(7) = 13\n",
      "Fibonacci(8) = 21\n",
      "Fibonacci(9) = 34\n",
      "Fibonacci(10) = 55\n",
      "Fibonacci(11) = 89\n",
      "Fibonacci(12) = 144\n",
      "Fibonacci(13) = 233\n",
      "Fibonacci(14) = 377\n",
      "Fibonacci(15) = 610\n",
      "Fibonacci(16) = 987\n",
      "Fibonacci(17) = 1597\n",
      "Fibonacci(18) = 2584\n",
      "Fibonacci(19) = 4181\n",
      "Fibonacci(20) = 6765\n",
      "Fibonacci(21) = 10946\n",
      "Fibonacci(22) = 17711\n",
      "Fibonacci(23) = 28657\n",
      "Fibonacci(24) = 46368\n",
      "Fibonacci(25) = 75025\n",
      "Fibonacci(26) = 121393\n",
      "Fibonacci(27) = 196418\n",
      "Fibonacci(28) = 317811\n",
      "Fibonacci(29) = 514229\n",
      "Fibonacci(30) = 832040\n",
      "Fibonacci(31) = 1346269\n",
      "Fibonacci(32) = 2178309\n",
      "Fibonacci(33) = 3524578\n",
      "Fibonacci(34) = 5702887\n",
      "Fibonacci(35) = 9227465\n",
      "Fibonacci(36) = 14930352\n",
      "Fibonacci(37) = 24157817\n",
      "Fibonacci(38) = 39088169\n",
      "Fibonacci(39) = 63245986\n",
      "Fibonacci(40) = 102334155\n"
     ]
    }
   ],
   "source": [
    "def fibonacci(n):\n",
    "    if n in (0, 1):  # base cases\n",
    "        return n\n",
    "    else:\n",
    "        return fibonacci(n - 1) + fibonacci(n - 2)\n",
    "    \n",
    "for n in range(41):\n",
    "    print(f'Fibonacci({n}) = {fibonacci(n)}')"
   ]
  },
  {
   "cell_type": "markdown",
   "id": "b770ff5d",
   "metadata": {},
   "source": [
    "> speed of the calculation slows substantially as we get near the end of the loop. The variable n indicates which Fibonacci number to calculate in each iteration of the loop.  \n",
    "  \n",
    "<hr>  </hr>  \n",
    "  \n",
    "**Iterative Fibonacci:**"
   ]
  },
  {
   "cell_type": "code",
   "execution_count": 6,
   "id": "f78bb99d",
   "metadata": {},
   "outputs": [],
   "source": [
    "def iterative_fibonacci(n):\n",
    "    result = 0\n",
    "    temp = 1\n",
    "    for j in range(0, n):\n",
    "        temp, result = result, result + temp\n",
    "    return result"
   ]
  },
  {
   "cell_type": "code",
   "execution_count": 7,
   "id": "8e9b0b4f",
   "metadata": {},
   "outputs": [
    {
     "name": "stdout",
     "output_type": "stream",
     "text": [
      "529 ms ± 25.8 ms per loop (mean ± std. dev. of 7 runs, 1 loop each)\n"
     ]
    }
   ],
   "source": [
    "%timeit fibonacci(32)"
   ]
  },
  {
   "cell_type": "code",
   "execution_count": 8,
   "id": "e1c7b9f4",
   "metadata": {},
   "outputs": [
    {
     "name": "stdout",
     "output_type": "stream",
     "text": [
      "1.12 µs ± 62.6 ns per loop (mean ± std. dev. of 7 runs, 1,000,000 loops each)\n"
     ]
    }
   ],
   "source": [
    "%timeit iterative_fibonacci(32)"
   ]
  },
  {
   "cell_type": "code",
   "execution_count": 9,
   "id": "06b751be",
   "metadata": {},
   "outputs": [
    {
     "name": "stdout",
     "output_type": "stream",
     "text": [
      "1.3 s ± 23.5 ms per loop (mean ± std. dev. of 7 runs, 1 loop each)\n"
     ]
    }
   ],
   "source": [
    "%timeit fibonacci(34)"
   ]
  },
  {
   "cell_type": "code",
   "execution_count": 10,
   "id": "8d1c9869",
   "metadata": {},
   "outputs": [
    {
     "name": "stdout",
     "output_type": "stream",
     "text": [
      "1.27 µs ± 122 ns per loop (mean ± std. dev. of 7 runs, 1,000,000 loops each)\n"
     ]
    }
   ],
   "source": [
    "%timeit iterative_fibonacci(34)"
   ]
  },
  {
   "cell_type": "markdown",
   "id": "93e15966",
   "metadata": {},
   "source": [
    "<hr>  </hr>  \n",
    "  \n",
    "### Searching and Sorting\n",
    "**Linear Search Implementation:**"
   ]
  },
  {
   "cell_type": "code",
   "execution_count": 11,
   "id": "a8901358",
   "metadata": {},
   "outputs": [
    {
     "data": {
      "text/plain": [
       "array([35, 73, 90, 65, 23, 86, 43, 81, 34, 58])"
      ]
     },
     "execution_count": 11,
     "metadata": {},
     "output_type": "execute_result"
    }
   ],
   "source": [
    "def linear_search(data, search_key):\n",
    "    for index, value in enumerate(data):\n",
    "        if value == search_key:\n",
    "            return index\n",
    "    return -1\n",
    "\n",
    "import numpy as np\n",
    "\n",
    "np.random.seed(11)\n",
    "\n",
    "values = np.random.randint(10, 91, 10)\n",
    "\n",
    "values"
   ]
  },
  {
   "cell_type": "code",
   "execution_count": 12,
   "id": "fd65d7fa",
   "metadata": {},
   "outputs": [
    {
     "data": {
      "text/plain": [
       "4"
      ]
     },
     "execution_count": 12,
     "metadata": {},
     "output_type": "execute_result"
    }
   ],
   "source": [
    "linear_search(values, 23)"
   ]
  },
  {
   "cell_type": "code",
   "execution_count": 13,
   "id": "3872f299",
   "metadata": {},
   "outputs": [
    {
     "data": {
      "text/plain": [
       "-1"
      ]
     },
     "execution_count": 13,
     "metadata": {},
     "output_type": "execute_result"
    }
   ],
   "source": [
    "linear_search(values, 61)"
   ]
  },
  {
   "cell_type": "code",
   "execution_count": 14,
   "id": "ba5ef855",
   "metadata": {},
   "outputs": [
    {
     "data": {
      "text/plain": [
       "8"
      ]
     },
     "execution_count": 14,
     "metadata": {},
     "output_type": "execute_result"
    }
   ],
   "source": [
    "linear_search(values, 34)"
   ]
  },
  {
   "cell_type": "markdown",
   "id": "53c2523b",
   "metadata": {},
   "source": [
    "<hr>  </hr>  \n",
    "  \n",
    "  **Binary Search Implementation:**"
   ]
  },
  {
   "cell_type": "code",
   "execution_count": 3,
   "id": "0b36f762",
   "metadata": {},
   "outputs": [
    {
     "name": "stdout",
     "output_type": "stream",
     "text": [
      "[21 21 22 22 23 25 28 29 29 42 52 53 66 77 85] \n",
      "\n"
     ]
    },
    {
     "name": "stdin",
     "output_type": "stream",
     "text": [
      "Enter an integer value (-1 to quit):  10\n"
     ]
    },
    {
     "name": "stdout",
     "output_type": "stream",
     "text": [
      "21 21 22 22 23 25 28 29 29 42 52 53 66 77 85\n",
      "                      * \n",
      "21 21 22 22 23 25 28\n",
      "          * \n",
      "21 21 22\n",
      "    * \n",
      "21\n",
      " * \n",
      "10 was not found\n",
      "\n"
     ]
    },
    {
     "name": "stdin",
     "output_type": "stream",
     "text": [
      "Enter an integer value (-1 to quit):  -1\n"
     ]
    }
   ],
   "source": [
    "import numpy as np\n",
    "\n",
    "def binary_search(data, key):\n",
    "    low = 0\n",
    "    high = len(data) - 1\n",
    "    middle = (low + high + 1) // 2\n",
    "    location = -1\n",
    "\n",
    "    while low <= high and location == -1:\n",
    "        print(remaining_elements(data, low, high))\n",
    "        print('   ' * middle + ' * ')\n",
    "\n",
    "        if key == data[middle]:\n",
    "            location = middle\n",
    "        elif key < data[middle]:\n",
    "            high = middle - 1\n",
    "        else:\n",
    "            low = middle + 1\n",
    "\n",
    "        middle = (low + high + 1) // 2\n",
    "\n",
    "    return location\n",
    "\n",
    "def remaining_elements(data, low, high):\n",
    "    return '   ' * low + ' '.join(str(s) for s in data[low:high + 1])\n",
    "\n",
    "def main():\n",
    "    data = np.random.randint(10, 91, 15)\n",
    "    data.sort()\n",
    "    print(data, '\\n')\n",
    "\n",
    "    search_key = int(input('Enter an integer value (-1 to quit): '))\n",
    "    while search_key != -1:\n",
    "        location = binary_search(data, search_key)\n",
    "        if location == -1:\n",
    "            print(f'{search_key} was not found\\n')\n",
    "        else:\n",
    "            print(f'{search_key} found in position {location}\\n')\n",
    "\n",
    "        search_key = int(input('Enter an integer value (-1 to quit): '))\n",
    "        \n",
    "main()"
   ]
  },
  {
   "cell_type": "markdown",
   "id": "0a4c98ee",
   "metadata": {},
   "source": [
    "<hr>  </hr>  \n",
    "  \n",
    "**Selection Sort Implementation:**"
   ]
  },
  {
   "cell_type": "code",
   "execution_count": 5,
   "id": "552d0eaf",
   "metadata": {},
   "outputs": [],
   "source": [
    "def print_pass(data, pass_number, index): \n",
    "    label = f'after pass {pass_number}: '\n",
    "    print(label, end='')\n",
    "\n",
    "    print('  '.join(str(d) for d in data[:index]), end='  ' if index != 0 else '') \n",
    "    print(f'{data[index]}* ', end='')\n",
    "    print('  '.join(str(d) for d in data[index + 1:]))\n",
    "    print(f'{\" \" * len(label)}{\"--  \" * pass_number}')  \n"
   ]
  },
  {
   "cell_type": "code",
   "execution_count": 11,
   "id": "b550283a",
   "metadata": {},
   "outputs": [
    {
     "name": "stdout",
     "output_type": "stream",
     "text": [
      "Unsorted array: [34 56 14 20 77 51 93 30 15 52]\n",
      "\n",
      "after pass 1: 14  56  34* 20  77  51  93  30  15  52\n",
      "              --  \n",
      "after pass 2: 14  15  34  20  77  51  93  30  56* 52\n",
      "              --  --  \n",
      "after pass 3: 14  15  20  34* 77  51  93  30  56  52\n",
      "              --  --  --  \n",
      "after pass 4: 14  15  20  30  77  51  93  34* 56  52\n",
      "              --  --  --  --  \n",
      "after pass 5: 14  15  20  30  34  51  93  77* 56  52\n",
      "              --  --  --  --  --  \n",
      "after pass 6: 14  15  20  30  34  51* 93  77  56  52\n",
      "              --  --  --  --  --  --  \n",
      "after pass 7: 14  15  20  30  34  51  52  77  56  93* \n",
      "              --  --  --  --  --  --  --  \n",
      "after pass 8: 14  15  20  30  34  51  52  56  77* 93\n",
      "              --  --  --  --  --  --  --  --  \n",
      "after pass 9: 14  15  20  30  34  51  52  56  77* 93\n",
      "              --  --  --  --  --  --  --  --  --  \n",
      "\n",
      "Sorted array: [14 15 20 30 34 51 52 56 77 93]\n",
      "\n"
     ]
    }
   ],
   "source": [
    "import numpy as np\n",
    "\n",
    "def selection_sort(data):\n",
    "    for index1 in range(len(data) - 1):\n",
    "        smallest = index1\n",
    "        for index2 in range(index1 + 1, len(data)): \n",
    "            if data[index2] < data[smallest]:\n",
    "                smallest = index2\n",
    "        data[smallest], data[index1] = data[index1], data[smallest]  \n",
    "        print_pass(data, index1 + 1, smallest)\n",
    "\n",
    "def main(): \n",
    "    data = np.array([34, 56, 14, 20, 77, 51, 93, 30, 15, 52])\n",
    "    print(f'Unsorted array: {data}\\n')\n",
    "    selection_sort(data) \n",
    "    print(f'\\nSorted array: {data}\\n')\n",
    "    \n",
    "main()\n"
   ]
  },
  {
   "cell_type": "markdown",
   "id": "78cd6ded",
   "metadata": {},
   "source": [
    "**Insertion Sort Implementation:** "
   ]
  },
  {
   "cell_type": "code",
   "execution_count": 14,
   "id": "38ee8792",
   "metadata": {},
   "outputs": [
    {
     "name": "stdout",
     "output_type": "stream",
     "text": [
      "Unsorted array: [34 56 14 20 77 51 93 30 15 52]\n",
      "\n",
      "after pass 1: 34  56* 14  20  77  51  93  30  15  52\n",
      "              --  \n",
      "after pass 2: 14* 34  56  20  77  51  93  30  15  52\n",
      "              --  --  \n",
      "after pass 3: 14  20* 34  56  77  51  93  30  15  52\n",
      "              --  --  --  \n",
      "after pass 4: 14  20  34  56  77* 51  93  30  15  52\n",
      "              --  --  --  --  \n",
      "after pass 5: 14  20  34  51* 56  77  93  30  15  52\n",
      "              --  --  --  --  --  \n",
      "after pass 6: 14  20  34  51  56  77  93* 30  15  52\n",
      "              --  --  --  --  --  --  \n",
      "after pass 7: 14  20  30* 34  51  56  77  93  15  52\n",
      "              --  --  --  --  --  --  --  \n",
      "after pass 8: 14  15* 20  30  34  51  56  77  93  52\n",
      "              --  --  --  --  --  --  --  --  \n",
      "after pass 9: 14  15  20  30  34  51  52* 56  77  93\n",
      "              --  --  --  --  --  --  --  --  --  \n",
      "\n",
      "Sorted array: [14 15 20 30 34 51 52 56 77 93]\n",
      "\n"
     ]
    }
   ],
   "source": [
    "import numpy as np\n",
    "\n",
    "def insertion_sort(data):\n",
    "    for next in range(1, len(data)):\n",
    "        insert = data[next]\n",
    "        move_item = next\n",
    "\n",
    "        while move_item > 0 and data[move_item - 1] > insert:\n",
    "            data[move_item] = data[move_item - 1]\n",
    "            move_item -= 1\n",
    "\n",
    "        data[move_item] = insert\n",
    "        print_pass(data, next, move_item)\n",
    "\n",
    "def main(): \n",
    "    data = np.array([34, 56, 14, 20, 77, 51, 93, 30, 15, 52])\n",
    "    print(f'Unsorted array: {data}\\n')\n",
    "    insertion_sort(data)\n",
    "    print(f'\\nSorted array: {data}\\n')\n",
    "\n",
    "main()\n"
   ]
  },
  {
   "cell_type": "markdown",
   "id": "e6b7cc25",
   "metadata": {},
   "source": [
    "<hr>  </hr>  \n",
    "  \n",
    "**Merge Sort Implementation:** "
   ]
  },
  {
   "cell_type": "code",
   "execution_count": 16,
   "id": "b31de1db",
   "metadata": {},
   "outputs": [
    {
     "name": "stdout",
     "output_type": "stream",
     "text": [
      "Unsorted array: [34 56 14 20 77 51 93 30 15 52]\n",
      "\n",
      "split:   34 56 14 20 77 51 93 30 15 52\n",
      "         34 56 14 20 77\n",
      "                        51 93 30 15 52\n",
      "\n",
      "split:   34 56 14 20 77\n",
      "         34 56 14\n",
      "                  20 77\n",
      "\n",
      "split:   34 56 14\n",
      "         34 56\n",
      "               14\n",
      "\n",
      "split:   34 56\n",
      "         34\n",
      "            56\n",
      "\n",
      "merge:   34\n",
      "            56\n",
      "         34 56\n",
      "\n",
      "merge:   34 56\n",
      "               14\n",
      "         14 34 56\n",
      "\n",
      "split:            20 77\n",
      "                  20\n",
      "                     77\n",
      "\n",
      "merge:            20\n",
      "                     77\n",
      "                  20 77\n",
      "\n",
      "merge:   14 34 56\n",
      "                  20 77\n",
      "         14 20 34 56 77\n",
      "\n",
      "split:                  51 93 30 15 52\n",
      "                        51 93 30\n",
      "                                 15 52\n",
      "\n",
      "split:                  51 93 30\n",
      "                        51 93\n",
      "                              30\n",
      "\n",
      "split:                  51 93\n",
      "                        51\n",
      "                           93\n",
      "\n",
      "merge:                  51\n",
      "                           93\n",
      "                        51 93\n",
      "\n",
      "merge:                  51 93\n",
      "                              30\n",
      "                        30 51 93\n",
      "\n",
      "split:                           15 52\n",
      "                                 15\n",
      "                                    52\n",
      "\n",
      "merge:                           15\n",
      "                                    52\n",
      "                                 15 52\n",
      "\n",
      "merge:                  30 51 93\n",
      "                                 15 52\n",
      "                        15 30 51 52 93\n",
      "\n",
      "merge:   14 20 34 56 77\n",
      "                        15 30 51 52 93\n",
      "         14 15 20 30 34 51 52 56 77 93\n",
      "\n",
      "\n",
      "Sorted array: [14 15 20 30 34 51 52 56 77 93]\n",
      "\n"
     ]
    }
   ],
   "source": [
    "import numpy as np\n",
    "\n",
    "def merge_sort(data):\n",
    "    sort_array(data, 0, len(data) - 1)\n",
    "\n",
    "def sort_array(data, low, high):\n",
    "    if (high - low) >= 1:\n",
    "        middle1 = (low + high) // 2\n",
    "        middle2 = middle1 + 1\n",
    "\n",
    "        print(f'split:   {subarray_string(data, low, high)}') \n",
    "        print(f'         {subarray_string(data, low, middle1)}') \n",
    "        print(f'         {subarray_string(data, middle2, high)}\\n') \n",
    "\n",
    "        sort_array(data, low, middle1)\n",
    "        sort_array(data, middle2, high)\n",
    "\n",
    "        merge(data, low, middle1, middle2, high)\n",
    "\n",
    "def merge(data, left, middle1, middle2, right):\n",
    "    left_index = left\n",
    "    right_index = middle2\n",
    "    combined_index = left\n",
    "    merged = [0] * len(data)\n",
    "\n",
    "    print(f'merge:   {subarray_string(data, left, middle1)}') \n",
    "    print(f'         {subarray_string(data, middle2, right)}')\n",
    "\n",
    "    while left_index <= middle1 and right_index <= right:\n",
    "        if data[left_index] <= data[right_index]:\n",
    "            merged[combined_index] = data[left_index]\n",
    "            left_index += 1\n",
    "        else:\n",
    "            merged[combined_index] = data[right_index]\n",
    "            right_index += 1\n",
    "        combined_index += 1\n",
    "\n",
    "    if left_index == middle2:\n",
    "        merged[combined_index:right + 1] = data[right_index:right + 1]\n",
    "    else:\n",
    "        merged[combined_index:right + 1] = data[left_index:middle1 + 1]\n",
    "\n",
    "    data[left:right + 1] = merged[left:right + 1]\n",
    "\n",
    "    print(f'         {subarray_string(data, left, right)}\\n')\n",
    "\n",
    "def subarray_string(data, low, high):\n",
    "    return '   ' * low + ' '.join(str(item) for item in data[low:high + 1])\n",
    "\n",
    "def main():\n",
    "    data = np.array([34, 56, 14, 20, 77, 51, 93, 30, 15, 52])\n",
    "    print(f'Unsorted array: {data}\\n')\n",
    "    merge_sort(data)\n",
    "    print(f'\\nSorted array: {data}\\n')\n",
    "\n",
    "main()\n"
   ]
  },
  {
   "cell_type": "markdown",
   "id": "bde42717",
   "metadata": {},
   "source": [
    "<hr></hr>\n",
    "  \n",
    "**Implementing the Selection Sort Animation:**"
   ]
  },
  {
   "cell_type": "code",
   "execution_count": 23,
   "id": "36324726",
   "metadata": {},
   "outputs": [
    {
     "ename": "ModuleNotFoundError",
     "evalue": "No module named 'pysine'",
     "output_type": "error",
     "traceback": [
      "\u001b[0;31m---------------------------------------------------------------------------\u001b[0m",
      "\u001b[0;31mModuleNotFoundError\u001b[0m                       Traceback (most recent call last)",
      "Cell \u001b[0;32mIn[23], line 2\u001b[0m\n\u001b[1;32m      1\u001b[0m \u001b[38;5;124;03m\"\"\"Functions to play sounds.\"\"\"\u001b[39;00m\n\u001b[0;32m----> 2\u001b[0m \u001b[38;5;28;01mfrom\u001b[39;00m \u001b[38;5;21;01mpysine\u001b[39;00m \u001b[38;5;28;01mimport\u001b[39;00m sine\n\u001b[1;32m      4\u001b[0m TWELFTH_ROOT_2 \u001b[38;5;241m=\u001b[39m \u001b[38;5;241m1.059463094359\u001b[39m  \u001b[38;5;66;03m# 12th root of 2\u001b[39;00m\n\u001b[1;32m      5\u001b[0m A3 \u001b[38;5;241m=\u001b[39m \u001b[38;5;241m220\u001b[39m  \u001b[38;5;66;03m# hertz frequency for musical note A from third octave \u001b[39;00m\n",
      "\u001b[0;31mModuleNotFoundError\u001b[0m: No module named 'pysine'"
     ]
    }
   ],
   "source": [
    "\"\"\"Functions to play sounds.\"\"\"\n",
    "from pysine import sine\n",
    "\n",
    "TWELFTH_ROOT_2 = 1.059463094359  # 12th root of 2\n",
    "A3 = 220  # hertz frequency for musical note A from third octave \n",
    "\n",
    "def play_sound(i, seconds=0.1):\n",
    "    \"\"\"Play a note representing a bar's magnitude. Calculation \n",
    "    based on https://pages.mtu.edu/~suits/NoteFreqCalcs.html.\"\"\"\n",
    "    sine(frequency=(A3 * TWELFTH_ROOT_2 ** i), duration=seconds)\n",
    "    \n",
    "def play_found_sound(seconds=0.1):\n",
    "    \"\"\"Play sequence of notes indicating a found item.\"\"\"\n",
    "    sine(frequency=523.25, duration=seconds) # C5\n",
    "    sine(frequency=698.46, duration=seconds) # F5\n",
    "    sine(frequency=783.99, duration=seconds) # G5\n",
    "\n",
    "def play_not_found_sound(seconds=0.3):\n",
    "    \"\"\"Play a note indicating an item was not found.\"\"\"\n",
    "    sine(frequency=220, duration=seconds) # A3"
   ]
  },
  {
   "cell_type": "code",
   "execution_count": null,
   "id": "0daa7464",
   "metadata": {},
   "outputs": [],
   "source": []
  },
  {
   "cell_type": "code",
   "execution_count": null,
   "id": "25074886",
   "metadata": {},
   "outputs": [],
   "source": []
  }
 ],
 "metadata": {
  "kernelspec": {
   "display_name": "Python 3 (ipykernel)",
   "language": "python",
   "name": "python3"
  },
  "language_info": {
   "codemirror_mode": {
    "name": "ipython",
    "version": 3
   },
   "file_extension": ".py",
   "mimetype": "text/x-python",
   "name": "python",
   "nbconvert_exporter": "python",
   "pygments_lexer": "ipython3",
   "version": "3.12.4"
  }
 },
 "nbformat": 4,
 "nbformat_minor": 5
}
