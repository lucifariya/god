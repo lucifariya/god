{
 "cells": [
  {
   "cell_type": "markdown",
   "id": "b21714b5-8709-41e4-88b2-381c94d079cf",
   "metadata": {},
   "source": [
    "# MINOR ASSIGNMENT-1: OBJECT-ORIENTED PROGRAMMING (OOP)"
   ]
  },
  {
   "cell_type": "markdown",
   "id": "d2bf6e2b-0d66-433b-8195-2f789d2ebe08",
   "metadata": {},
   "source": [
    "<b>Question 1:</b>  \n",
    "What is the significance of classes in Python programming, and how do they contribute to object oriented programming?\n"
   ]
  },
  {
   "cell_type": "markdown",
   "id": "bf81da31-1062-40dc-bb6e-c68fafe1d006",
   "metadata": {},
   "source": [
    "<b>Solution:</b>\n",
    "Classes in Python provide a blueprint for creating objects. They encapsulate data (attributes) and behavior (methods), promoting code reuse, modularity, and organization. Object-oriented programming (OOP) enables concepts like encapsulation, inheritance, and polymorphism, making code more maintainable and scalable."
   ]
  },
  {
   "cell_type": "markdown",
   "id": "c38bdc05-a1c4-4479-a7b5-72a32f7fbe95",
   "metadata": {},
   "source": [
    "<b>Question 2:</b>  \n",
    "Create a custom Python class for managing a bank account with basic functionalities like deposit and\r\n",
    "withdrawal?"
   ]
  },
  {
   "cell_type": "code",
   "execution_count": 1,
   "id": "1b077708-b6c5-48be-937c-c9a9ba6cd051",
   "metadata": {
    "scrolled": true
   },
   "outputs": [
    {
     "name": "stdout",
     "output_type": "stream",
     "text": [
      "Output:\n",
      "1300\n"
     ]
    }
   ],
   "source": [
    "class BankAccount:\n",
    "    def __init__(self, balance=0):\n",
    "        self.balance = balance\n",
    "\n",
    "    def deposit(self, amount):\n",
    "        self.balance += amount\n",
    "\n",
    "    def withdraw(self, amount):\n",
    "        if amount > self.balance:\n",
    "            return 'Insufficient funds'\n",
    "        self.balance -= amount\n",
    "\n",
    "    def get_balance(self):\n",
    "        return self.balance\n",
    "\n",
    "acc = BankAccount(1000)\n",
    "acc.deposit(500)\n",
    "acc.withdraw(200)\n",
    "print(\"Output:\")\n",
    "print(acc.get_balance())"
   ]
  },
  {
   "cell_type": "markdown",
   "id": "b9cb1124-0ecb-4115-ab80-c34841f0018a",
   "metadata": {},
   "source": [
    "<b>Question 3:</b>  \n",
    "Create a Book class that contains multiple Chapters, where each Chapter has a title and page count. Write code to initialize a Book object with three chapters and display the total page count of the book."
   ]
  },
  {
   "cell_type": "code",
   "execution_count": 4,
   "id": "30725d80-9411-4d8d-a33e-23ac6881d1e9",
   "metadata": {},
   "outputs": [
    {
     "name": "stdout",
     "output_type": "stream",
     "text": [
      "Output:\n",
      "Total no. of pages in the book \" Python Book \" is:  45\n"
     ]
    }
   ],
   "source": [
    "class Chapter:\n",
    "    def __init__(self, title, pages):\n",
    "        self.title = title\n",
    "        self.pages = pages\n",
    "\n",
    "class Book:\n",
    "    def __init__(self, title, chapters):\n",
    "        self.title = title\n",
    "        self.chapters = chapters\n",
    "\n",
    "    def totPages(self):\n",
    "        return sum(ch.pages for ch in self.chapters)\n",
    "\n",
    "chapters = [Chapter('Intro', 10), Chapter('Functions', 20), Chapter('OOPs', 15)]\n",
    "book = Book('Python Book', chapters)\n",
    "\n",
    "print(\"Output:\")\n",
    "print(\"Total no. of pages in the book \\\"\", book.title, \"\\\" is: \", book.totPages())"
   ]
  },
  {
   "cell_type": "markdown",
   "id": "a48d6d86-dded-4c18-ab33-f01687bdf41a",
   "metadata": {},
   "source": [
    "<b>Question 4:</b>  \n",
    "How does Python enforce access control to class attributes, and what is the difference between public, protected, and private attributes?"
   ]
  },
  {
   "cell_type": "markdown",
   "id": "378a29d1-22a6-482e-8bc3-d36822d6a36c",
   "metadata": {},
   "source": [
    "<b>Answer:</b><br>\n",
    "* Public attributes (e.g., self.name) can be accessed from anywhere.\n",
    "* Protected attributes (e.g., self._name) should not be accessed outside the class but can be.\n",
    "* Private attributes (e.g., self.__name) are name-mangled to _ClassName__name and should not be accessed directly."
   ]
  },
  {
   "cell_type": "markdown",
   "id": "904726ea-bd6b-4923-976d-836e9d2d43b1",
   "metadata": {},
   "source": [
    "<b>Question 5:</b>  \n",
    "Write a Python program using a Time class to input a given time in 24-hour format and convert it to a 12-hour format with AM/PM. The program should also validate time strings to ensure they are in the correct HH:MM:SS format. Implement a method to check if the time is valid and return an appropriate message."
   ]
  },
  {
   "cell_type": "code",
   "execution_count": 10,
   "id": "8696887c-e254-4964-8d30-9ff4c0cfa907",
   "metadata": {},
   "outputs": [
    {
     "name": "stdout",
     "output_type": "stream",
     "text": [
      "Output:\n",
      "Time in HH:MM:SS format =  11:15:45 PM\n"
     ]
    }
   ],
   "source": [
    "import re\n",
    "\n",
    "class Time:\n",
    "    def __init__(self, time_str):\n",
    "        if self.is_valid(time_str):\n",
    "            self.hours, self.minutes, self.seconds = map(int, time_str.split(\":\"))\n",
    "        else:\n",
    "            raise ValueError(\"Invalid time format\")\n",
    "\n",
    "    @staticmethod\n",
    "    def is_valid(time_str):\n",
    "        return bool(re.fullmatch(r\"\\d{2}:\\d{2}:\\d{2}\", time_str))\n",
    "\n",
    "    def convert(self):\n",
    "        suffix = \"AM\" if self.hours < 12 else \"PM\"\n",
    "        hours = self.hours % 12 or 12\n",
    "        return f\"{hours}:{self.minutes:02d}:{self.seconds:02d} {suffix}\"\n",
    "\n",
    "t = Time(\"23:15:45\")\n",
    "print(\"Output:\")\n",
    "print(\"Time in HH:MM:SS format = \", t.convert())"
   ]
  },
  {
   "cell_type": "markdown",
   "id": "466835ed-3756-426d-b584-c6ea0a1e53ae",
   "metadata": {},
   "source": [
    "<b>Question 6:</b>  \n",
    "Write a Python program that uses private attributes for creating a BankAccount class. Implement methods to deposit, withdraw, and display the balance, ensuring direct access to the balance attribute is restricted. Explain why using private attributes can help improve data security and prevent accidental modifications."
   ]
  },
  {
   "cell_type": "code",
   "execution_count": 12,
   "id": "d18bc1f0-979f-4239-8b63-b0cc6e570c20",
   "metadata": {},
   "outputs": [
    {
     "name": "stdout",
     "output_type": "stream",
     "text": [
      "Output:\n",
      "Balance =  1000\n"
     ]
    }
   ],
   "source": [
    "class BankAccount:\n",
    "    def __init__(self, balance=0):\n",
    "        self.__balance = balance\n",
    "\n",
    "    def deposit(self, amount):\n",
    "        self.__balance += amount\n",
    "\n",
    "    def withdraw(self, amount):\n",
    "        if amount > self.__balance:\n",
    "            return \"Insufficient funds\"\n",
    "        self.__balance -= amount\n",
    "\n",
    "    def get_balance(self):\n",
    "        return self.__balance\n",
    "\n",
    "acc = BankAccount(1000)\n",
    "print(\"Output:\")\n",
    "print(\"Balance = \", acc.get_balance())"
   ]
  },
  {
   "cell_type": "markdown",
   "id": "4411f5e0-d0b3-4486-a496-5f0f5601412e",
   "metadata": {},
   "source": [
    "**Why Use Private Attributes?**  \n",
    "* Data Security: Prevents unauthorized access or modification of sensitive data (e.g., account balance).\n",
    "* Prevent Accidental Modifications: Ensures that the balance can only be modified through controlled methods (deposit and withdraw),\n",
    "* reducing the risk of bugs or unintended changes.\n",
    "* Encapsulation: Hides the internal implementation details, allowing changes to the class internals without affecting external code."
   ]
  },
  {
   "cell_type": "markdown",
   "id": "35a8bc9d-ac81-4a5a-bb38-7908825dc834",
   "metadata": {},
   "source": [
    "<b>Question 7:</b>  \n",
    "Write a Python program to simulate a card game using object-oriented principles. The program should include a Card class to represent individual playing cards, a Deck class to represent a deck of cards, and a Player class to represent players receiving cards. Implement a shuffle method in the Deck class to shuffle the cards and a deal method to distribute cards to players. Display each player’s hand after dealing."
   ]
  },
  {
   "cell_type": "code",
   "execution_count": 19,
   "id": "fa776c7d-ff48-46b2-a66d-70a534591aec",
   "metadata": {},
   "outputs": [
    {
     "name": "stdout",
     "output_type": "stream",
     "text": [
      "Output:\n",
      "Jagadeeswar's hand: 9 of Hearts, 10 of Diamonds, 5 of Diamonds, 10 of Hearts, 3 of Clubs\n",
      "Arman's hand: 4 of Hearts, 8 of Diamonds, 6 of Diamonds, Jack of Spades, Queen of Spades\n",
      "Subham's hand: Queen of Diamonds, 6 of Clubs, Queen of Clubs, 9 of Spades, Ace of Clubs\n"
     ]
    }
   ],
   "source": [
    "import random\n",
    "\n",
    "class Card:\n",
    "    def __init__(self, s, r):\n",
    "        self.suit, self.rank = s, r\n",
    "        \n",
    "    def __str__(self):\n",
    "        return f\"{self.rank} of {self.suit}\"\n",
    "        \n",
    "class Deck:\n",
    "    def __init__(self):\n",
    "        self.cards = []\n",
    "        suits = [\"Hearts\", \"Diamonds\", \"Clubs\", \"Spades\"]\n",
    "        ranks = [\"2\", \"3\", \"4\", \"5\", \"6\", \"7\", \"8\", \"9\", \"10\", \"Jack\", \"Queen\", \"King\", \"Ace\"]\n",
    "        for s in suits:\n",
    "            for r in ranks:\n",
    "                self.cards.append(Card(s, r))\n",
    "                \n",
    "    def shuffle(self):\n",
    "        random.shuffle(self.cards)\n",
    "        \n",
    "    def deal(self, p_count, c_count):\n",
    "        hands = [[] for _ in range(p_count)]\n",
    "        for _ in range(c_count):\n",
    "            for j in range(p_count):\n",
    "                if self.cards:\n",
    "                    hands[j].append(self.cards.pop())\n",
    "        return hands\n",
    "        \n",
    "class Player:\n",
    "    def __init__(self, n):\n",
    "        self.name, self.hand = n, []\n",
    "        \n",
    "    def receive(self, c):\n",
    "        self.hand.extend(c)\n",
    "        \n",
    "    def show(self):\n",
    "        print(f\"{self.name}'s hand: {', '.join(str(card) for card in self.hand)}\")\n",
    "\n",
    "print(\"Output:\")\n",
    "deck = Deck()\n",
    "deck.shuffle()\n",
    "players = [Player(\"Jagadeeswar\"), Player(\"Arman\"), Player(\"Subham\")]\n",
    "hands = deck.deal(len(players), 5)\n",
    "for p, h in zip(players, hands):\n",
    " p.receive(h)\n",
    " p.show()"
   ]
  },
  {
   "cell_type": "markdown",
   "id": "ed197745-9ffb-4a1a-ad82-303abd232836",
   "metadata": {},
   "source": [
    "<b>Question 8:</b>  \n",
    "Write a Python program that defines a base class Vehicle with attributes make and model, and a method display info(). Create a subclass Car that inherits from Vehicle and adds an additional attribute num doors. Instantiate both Vehicle and Car objects, call their display info() methods, and explain how the subclass inherits and extends the functionality of the base class."
   ]
  },
  {
   "cell_type": "code",
   "execution_count": 25,
   "id": "4afad087-9847-4b43-85a7-a6575f17d9f6",
   "metadata": {},
   "outputs": [
    {
     "name": "stdout",
     "output_type": "stream",
     "text": [
      "Output:\n",
      "Make: Ford, Model: Mustang\n",
      "Make: Toyota, Model: Corolla\n",
      "Doors: 4\n"
     ]
    }
   ],
   "source": [
    "class Vehicle:\n",
    "    def __init__(self, make, model):\n",
    "        self.make = make\n",
    "        self.model = model\n",
    "\n",
    "    def display(self):\n",
    "        print(f\"Make: {self.make}, Model: {self.model}\")\n",
    "\n",
    "class Car(Vehicle):\n",
    "    def __init__(self, make, model, doors):\n",
    "        super().__init__(make, model)\n",
    "        self.doors = doors\n",
    "\n",
    "    def display(self):\n",
    "        super().display()\n",
    "        print(f\"Doors: {self.doors}\")\n",
    "\n",
    "print(\"Output:\")\n",
    "v = Vehicle(\"Ford\", \"Mustang\")\n",
    "v.display()\n",
    "c = Car(\"Toyota\", \"Corolla\", 4)\n",
    "c.display()"
   ]
  },
  {
   "cell_type": "markdown",
   "id": "49416985-31df-4f57-b892-8a668865d00e",
   "metadata": {},
   "source": [
    "Explanation:  \n",
    "> Inheritance: Car inherits make, model, and show() from Vehicle  \n",
    "> Method Extension: Car overrides show() to include doors while callingn super().show()  \n",
    "> Encapsulation: Vehicle holds common attributes, while Car adds extra functionality   y.\r"
   ]
  },
  {
   "cell_type": "markdown",
   "id": "8ce3dbb0-f2e1-42c2-abaa-ba5b74262f8e",
   "metadata": {},
   "source": [
    "<b>Question 9:</b>  \n",
    "Write a Python program demonstrating polymorphism by creating a base class Shape with a method area(), and two subclasses Circle and Rectangle that override the area() method. Instantiate objects of both subclasses and call the area() method. Explain how polymorphism simplifies working with different shapes in an inheritance hierarchy."
   ]
  },
  {
   "cell_type": "code",
   "execution_count": 48,
   "id": "daa994e3-2d58-4327-bf90-3f8c18454a98",
   "metadata": {},
   "outputs": [
    {
     "name": "stdout",
     "output_type": "stream",
     "text": [
      "Output:\n",
      "Area =  78.5\n",
      "Area =  24\n"
     ]
    }
   ],
   "source": [
    "class Shape:\n",
    "    def area(self):\n",
    "        pass\n",
    "\n",
    "class Circle(Shape):\n",
    "    def __init__(self, radius):\n",
    "        self.radius = radius\n",
    "\n",
    "    def area(self):\n",
    "        return 3.14 * self.radius**2\n",
    "\n",
    "class Rectangle(Shape):\n",
    "    def __init__(self, width, height):\n",
    "        self.width = width\n",
    "        self.height = height\n",
    "\n",
    "    def area(self):\n",
    "        return self.width * self.height\n",
    "\n",
    "shapes = [Circle(5), Rectangle(4, 6)]\n",
    "print(\"Output:\")\n",
    "for shape in shapes:\n",
    "    print(\"Area = \", shape.area())"
   ]
  },
  {
   "cell_type": "markdown",
   "id": "06e18b61-3073-4555-9d8c-4430ba093cb2",
   "metadata": {},
   "source": [
    "Explanation:\n",
    "* Polymorphism: The area() method is overridden in both Circle and Rectangle.  \n",
    "* Dynamic Method Resolution: Calling area() on Shape objects invokes the correct subclass method.  \n",
    "* Code Reusability: Allows handling different shapes uniformly in loops or functions.  "
   ]
  },
  {
   "cell_type": "markdown",
   "id": "1229c0f3-64c2-49a0-b1e2-f05b2e51f2df",
   "metadata": {},
   "source": [
    "<b>Question 10:</b>  \n",
    "Implement the CommissionEmployee class with __init__ , earnings, and __repr__ methods. Include properties for personal details and sales data. Create a test script to instantiate the object, display earnings, modify sales data, and handle data validation errors for negative values."
   ]
  },
  {
   "cell_type": "code",
   "execution_count": 61,
   "id": "5e784a23-aa33-4fc2-9c6f-613784ae69cd",
   "metadata": {},
   "outputs": [
    {
     "name": "stdout",
     "output_type": "stream",
     "text": [
      "Output:\n",
      "Earnings: $500.00\n",
      "Updated Earnings: $750.00\n"
     ]
    }
   ],
   "source": [
    "class CommissionEmployee:\n",
    "    def __init__(self, n, i, s, c):\n",
    "        self.name = n\n",
    "        self.id = i\n",
    "        self._sales = s\n",
    "        self.commission_rate = c\n",
    "        \n",
    "    @property\n",
    "    def sales(self):\n",
    "        return self._sales\n",
    "        \n",
    "    @sales.setter\n",
    "    def sales(self, v):\n",
    "        self._sales = max(0, v)\n",
    "        \n",
    "    def earnings(self):\n",
    "        return self._sales * self.commission_rate\n",
    "        \n",
    "    def __repr__(self):\n",
    "        return f\"CommissionEmployee(name={self.name}, id={self.id}, sales={self._sales}, commission_rate={self.commission_rate})\"\n",
    "        \n",
    "print(\"Output:\")\n",
    "e = CommissionEmployee(\"John\", 101, 10000, 0.05)\n",
    "print(f\"Earnings: ${e.earnings():.2f}\")\n",
    "e.sales = 15000\n",
    "print(f\"Updated Earnings: ${e.earnings():.2f}\")\n",
    "e.sales = -5000"
   ]
  },
  {
   "cell_type": "markdown",
   "id": "3ec0cca3-fb5b-4020-bad5-8a990c903f55",
   "metadata": {},
   "source": [
    "<b>Question 11:</b>  \n",
    "What is duck typing in Python? Write a Python program demonstrating duck typing by creating a function describe() that accepts any object with a speak() method. Implement two classes, Dog and Robot, each with a speak() method. Pass instances of both classes to the describe() function and explain how duck typing allows the function to work without checking the object’s type.  \n",
    "\n",
    "**Answer:**  \n",
    "Duck typing in Python means that the type or class of an object is less important than the \n",
    "methods it implements. If an object has a method (e.g.  speak()), it can be used in a function tha \r\n",
    "calls that method, regardless of the object's clas  .\r"
   ]
  },
  {
   "cell_type": "code",
   "execution_count": 64,
   "id": "3c66fbf6-4df8-4689-b36f-d611438965a7",
   "metadata": {},
   "outputs": [
    {
     "name": "stdout",
     "output_type": "stream",
     "text": [
      "Bhow Bhow\n",
      "Beep Boop\n"
     ]
    }
   ],
   "source": [
    "class Dog:\n",
    "    def speak(self):\n",
    "        return \"Bhow Bhow\"\n",
    "\n",
    "class Robot:\n",
    "    def speak(self):\n",
    "        return \"Beep Boop\"\n",
    "\n",
    "def describe(obj):\n",
    "    print(obj.speak())\n",
    "\n",
    "describe(Dog())\n",
    "describe(Robot())"
   ]
  },
  {
   "cell_type": "markdown",
   "id": "f5a01eef-5aa0-4998-bf6b-beed961d4811",
   "metadata": {},
   "source": [
    "<b>Question 12:</b>  \n",
    "WAP to overload the + operator to perform addition of two complex numbers using a custom Complex class?"
   ]
  },
  {
   "cell_type": "code",
   "execution_count": 69,
   "id": "517057b9-02bb-4f74-8ef0-13cd08bf868c",
   "metadata": {},
   "outputs": [
    {
     "name": "stdout",
     "output_type": "stream",
     "text": [
      "Output:\n",
      "3 + 7i\n"
     ]
    }
   ],
   "source": [
    "class Complex:\n",
    "    def __init__(self, real, imag):\n",
    "        self.real = real\n",
    "        self.imag = imag\n",
    "\n",
    "    def __add__(self, other):\n",
    "        return Complex(self.real + other.real, self.imag + other.imag)\n",
    "\n",
    "    def __str__(self):\n",
    "        return f\"{self.real} + {self.imag}i\"\n",
    "\n",
    "c1 = Complex(2, 3)\n",
    "c2 = Complex(1, 4)\n",
    "print(\"Output:\")\n",
    "print(c1 + c2)"
   ]
  },
  {
   "cell_type": "markdown",
   "id": "fd8b8992-05e8-4fc4-8a0d-dddc0da1797e",
   "metadata": {},
   "source": [
    "<b>Question 13:</b>  \n",
    "WAP to create a custom exception class in Python that displays the balance and withdrawal amount when an error occurs due to insufficient funds?"
   ]
  },
  {
   "cell_type": "code",
   "execution_count": 71,
   "id": "1629f4bd-06c8-4279-81d4-1ea41338d22c",
   "metadata": {},
   "outputs": [
    {
     "name": "stdout",
     "output_type": "stream",
     "text": [
      "Output:\n",
      "2000.0\n",
      "3000.0\n"
     ]
    },
    {
     "ename": "CustomException",
     "evalue": "Amount must be within your account balance",
     "output_type": "error",
     "traceback": [
      "\u001b[1;31m---------------------------------------------------------------------------\u001b[0m",
      "\u001b[1;31mCustomException\u001b[0m                           Traceback (most recent call last)",
      "Cell \u001b[1;32mIn[71], line 28\u001b[0m\n\u001b[0;32m     26\u001b[0m account1\u001b[38;5;241m.\u001b[39mdeposit(\u001b[38;5;241m1000.0\u001b[39m)\n\u001b[0;32m     27\u001b[0m account1\u001b[38;5;241m.\u001b[39mget_balance()\n\u001b[1;32m---> 28\u001b[0m account1\u001b[38;5;241m.\u001b[39mwithdraw(\u001b[38;5;241m50000.0\u001b[39m)\n\u001b[0;32m     29\u001b[0m account1\u001b[38;5;241m.\u001b[39mget_balance()\n",
      "Cell \u001b[1;32mIn[71], line 16\u001b[0m, in \u001b[0;36maccount.withdraw\u001b[1;34m(self, amount)\u001b[0m\n\u001b[0;32m     14\u001b[0m \u001b[38;5;28;01mdef\u001b[39;00m \u001b[38;5;21mwithdraw\u001b[39m(\u001b[38;5;28mself\u001b[39m,amount):\n\u001b[0;32m     15\u001b[0m     \u001b[38;5;28;01mif\u001b[39;00m amount \u001b[38;5;241m>\u001b[39m \u001b[38;5;28mself\u001b[39m\u001b[38;5;241m.\u001b[39m__balance:\n\u001b[1;32m---> 16\u001b[0m         \u001b[38;5;28;01mraise\u001b[39;00m CustomException(\u001b[38;5;124m'\u001b[39m\u001b[38;5;124mAmount must be within your account balance\u001b[39m\u001b[38;5;124m'\u001b[39m)\n\u001b[0;32m     17\u001b[0m     \u001b[38;5;28;01melif\u001b[39;00m amount \u001b[38;5;241m<\u001b[39m \u001b[38;5;241m0.0\u001b[39m:\n\u001b[0;32m     18\u001b[0m         \u001b[38;5;28;01mraise\u001b[39;00m \u001b[38;5;167;01mValueError\u001b[39;00m(\u001b[38;5;124m'\u001b[39m\u001b[38;5;124mAmount must be >=0.0\u001b[39m\u001b[38;5;124m'\u001b[39m)\n",
      "\u001b[1;31mCustomException\u001b[0m: Amount must be within your account balance"
     ]
    }
   ],
   "source": [
    "class CustomException(Exception):\n",
    "    def __init__(self,message):\n",
    "        self.message=message\n",
    "        \n",
    "class account:\n",
    "    def __init__(self,name,balance):\n",
    "        if balance < 0.0:\n",
    "            raise ValueError('Initial Balance must be >=0.0')\n",
    "        self.__balance=balance\n",
    "        self.name=name\n",
    "    def deposit(self,amount):\n",
    "        if amount < 0.0:\n",
    "            raise ValueError('Amount must be >=0.0')\n",
    "        self.__balance+=amount\n",
    "    def withdraw(self,amount):\n",
    "        if amount > self.__balance:\n",
    "            raise CustomException('Amount must be within your account balance')\n",
    "        elif amount < 0.0:\n",
    "            raise ValueError('Amount must be >=0.0')\n",
    "        self.__balance-=amount\n",
    "    def get_balance(self):\n",
    "        print(self.__balance)\n",
    "\n",
    "print(\"Output:\")\n",
    "account1=account('John Green',2000.0)\n",
    "account1.get_balance()\n",
    "account1.deposit(1000.0)\n",
    "account1.get_balance()\n",
    "account1.withdraw(50000.0)\n",
    "account1.get_balance()"
   ]
  },
  {
   "cell_type": "markdown",
   "id": "0b303f23-39d6-48e2-8035-3c4a6aed5b13",
   "metadata": {},
   "source": [
    "<b>Question 14:</b>  \n",
    "Write a Python program using the Card data class to simulate dealing 5 cards to a player from a shuffled deck of standard playing cards. The program should print the player’s hand and the number of remaining cards in the deck after the deal."
   ]
  },
  {
   "cell_type": "code",
   "execution_count": 73,
   "id": "6cc85576-3dd1-450f-bb6f-4eee1a4b3d9c",
   "metadata": {},
   "outputs": [
    {
     "name": "stdout",
     "output_type": "stream",
     "text": [
      "Output: \n",
      "[Card(suit='Clubs', value='Q'), Card(suit='Hearts', value='6'), Card(suit='Hearts', value='7'), Card(suit='Hearts', value='10'), Card(suit='Clubs', value='4')]\n",
      "Remaining cards in deck: 47\n"
     ]
    }
   ],
   "source": [
    "import random\n",
    "from dataclasses import dataclass\n",
    "\n",
    "@dataclass\n",
    "class Card:\n",
    "    suit: str\n",
    "    value: str\n",
    "\n",
    "class Deck:\n",
    "    def __init__(self):\n",
    "        suits = [\"Hearts\", \"Diamonds\", \"Clubs\", \"Spades\"]\n",
    "        values = [\"A\", \"2\", \"3\", \"4\", \"5\", \"6\", \"7\", \"8\", \"9\", \"10\", \"J\", \"Q\", \"K\"]\n",
    "        self.cards = [Card(suit, value) for suit in suits for value in values]\n",
    "        random.shuffle(self.cards)\n",
    "\n",
    "    def deal(self, num):\n",
    "        return [self.cards.pop() for _ in range(num)]\n",
    "\n",
    "print(\"Output: \")\n",
    "deck = Deck()\n",
    "player = deck.deal(5)\n",
    "print(player)\n",
    "print(f\"Remaining cards in deck: {len(deck.cards)}\")"
   ]
  },
  {
   "cell_type": "markdown",
   "id": "4f775174-c2bc-4790-813a-89985528cf7d",
   "metadata": {},
   "source": [
    "<b>Question 15:</b>  \n",
    "How do Python data classes provide advantages over named tuples in terms of flexibility and functionality? Give an example using python code."
   ]
  },
  {
   "cell_type": "code",
   "execution_count": 77,
   "id": "08504fb6-97c8-4b1a-8f36-35ddd992af0a",
   "metadata": {},
   "outputs": [
    {
     "name": "stdout",
     "output_type": "stream",
     "text": [
      "Output: \n",
      "Person(name='Bob', age=26)\n"
     ]
    }
   ],
   "source": [
    "from collections import namedtuple\n",
    "from dataclasses import dataclass\n",
    "\n",
    "PersonTuple = namedtuple(\"Person\", [\"name\", \"age\"])\n",
    "person1 = PersonTuple(\"Alice\", 30)\n",
    "\n",
    "@dataclass\n",
    "class Person:\n",
    "    name: str\n",
    "    age: int\n",
    "\n",
    "person2 = Person(\"Bob\", 25)\n",
    "person2.age = 26\n",
    "print(\"Output: \")\n",
    "print(person2)"
   ]
  },
  {
   "cell_type": "markdown",
   "id": "33a3ff62-14f1-4f28-8b51-d0792befd00d",
   "metadata": {},
   "source": [
    "<b>Advantages of data classes: </b>\n",
    "<br>\n",
    "* Mutability (named tuples are immutable).\n",
    "* Default values and type hints.\n",
    "* Easier readability and debugging."
   ]
  },
  {
   "cell_type": "markdown",
   "id": "1e2d0b3b-4a4b-4dcd-bce0-e698b4eca240",
   "metadata": {},
   "source": [
    "<b>Question 16:</b>  \n",
    "Write a Python program that demonstrates unit testing directly within a function’s docstring using the doctest module. Create a function add(a, b) that returns the sum of two numbers and includes multiple test cases in its docstring. Implement a way to automatically run the tests when the script is executed."
   ]
  },
  {
   "cell_type": "code",
   "execution_count": 3,
   "id": "1010ad20-cb47-46b4-95ff-71c9d4ca6c83",
   "metadata": {},
   "outputs": [
    {
     "name": "stdout",
     "output_type": "stream",
     "text": [
      "Output: \n",
      "\n",
      "Trying:\n",
      "    add(2, 3)\n",
      "Expecting:\n",
      "    5\n",
      "ok\n",
      "Trying:\n",
      "    add(-1, 1)\n",
      "Expecting:\n",
      "    0\n",
      "ok\n",
      "Trying:\n",
      "    add(0, 0)\n",
      "Expecting:\n",
      "    0\n",
      "ok\n",
      "Trying:\n",
      "    add(10, -5)\n",
      "Expecting:\n",
      "    5\n",
      "ok\n",
      "7 items had no tests:\n",
      "    __main__\n",
      "    __main__.dataframe_columns\n",
      "    __main__.dataframe_hash\n",
      "    __main__.dtypes_str\n",
      "    __main__.get_dataframes\n",
      "    __main__.import_pandas_safely\n",
      "    __main__.is_data_frame\n",
      "1 items passed all tests:\n",
      "   4 tests in __main__.add\n",
      "4 tests in 8 items.\n",
      "4 passed and 0 failed.\n",
      "Test passed.\n"
     ]
    }
   ],
   "source": [
    "import doctest\n",
    "def add(a, b):\n",
    "    \"\"\"\n",
    "    Returns the sum of two numbers.\n",
    "\n",
    "    >>> add(2, 3)\n",
    "    5\n",
    "    >>> add(-1, 1)\n",
    "    0\n",
    "    >>> add(0, 0)\n",
    "    0\n",
    "    >>> add(10, -5)\n",
    "    5\n",
    "    \"\"\"\n",
    "    return a + b\n",
    "\n",
    "print(\"Output: \\n\")\n",
    "if __name__ == \"__main__\":\n",
    "    doctest.testmod(verbose=True)\n"
   ]
  },
  {
   "cell_type": "markdown",
   "id": "7a0b0574-7fa2-4156-9da7-e97b468eb83e",
   "metadata": {},
   "source": [
    "<b>Question 17:</b>  \n",
    "Scope Resolution: object’s namespace → class namespace → global namespace → built-in namespace.\n",
    "\n",
    "```python\n",
    "species = Global Species\n",
    "class Animal:\n",
    "    species = Class Species\n",
    "\n",
    "    def __init__(self, species):\n",
    "        self.species = species\n",
    "\n",
    "    def display_species(self):\n",
    "        print(\"Instance species:\", self.species)\n",
    "        print(\"Class species:\", Animal.species)\n",
    "        print(\"Global species:\", globals()['species'])\n",
    "\n",
    "a = Animal(\"Instance Species\")\n",
    "a.display_species()\n",
    "```\n",
    "What will be the output when the above program is executed? Explain the scope resolution process step by step."
   ]
  },
  {
   "cell_type": "code",
   "execution_count": 5,
   "id": "d6a7fd81-462c-42f5-9334-831ed66dc2ba",
   "metadata": {},
   "outputs": [
    {
     "name": "stdout",
     "output_type": "stream",
     "text": [
      "Output: \n",
      "Instance species: Instance Species\n",
      "Class species: Class Species\n",
      "Global species: Global Species\n"
     ]
    }
   ],
   "source": [
    "species = \"Global Species\"\n",
    "\n",
    "class Animal:\n",
    "    species = \"Class Species\"\n",
    "\n",
    "    def __init__(self, species):\n",
    "        self.species = species\n",
    "\n",
    "    def display_species(self):\n",
    "        print(\"Instance species:\", self.species)\n",
    "        print(\"Class species:\", Animal.species)\n",
    "        print(\"Global species:\", globals()['species'])\n",
    "\n",
    "a = Animal(\"Instance Species\")\n",
    "print(\"Output: \")\n",
    "a.display_species()"
   ]
  },
  {
   "cell_type": "markdown",
   "id": "a3741251-4a56-4440-b741-99a1baa8877b",
   "metadata": {},
   "source": [
    "<b>Explanation:</b><br>\n",
    "Python follows scope resolution in this order:  \n",
    "1. Instance Namespace (self.species)  \n",
    "1. Class Namespace (Animal.species)  \n",
    "1. Global Namespace (globals()['species'])  "
   ]
  },
  {
   "cell_type": "markdown",
   "id": "6c478cb6-b41b-45e7-b156-a0ae906047c4",
   "metadata": {},
   "source": [
    "<b>Question 18:</b>  \n",
    "Write a Python program using a lambda function to convert temperatures from Celsius to Kelvin, store the data in a tabular format using pandas, and visualize the data using a plot."
   ]
  },
  {
   "cell_type": "code",
   "execution_count": 92,
   "id": "662acfd4-8a7c-43c7-a758-7798317aebac",
   "metadata": {},
   "outputs": [
    {
     "name": "stdout",
     "output_type": "stream",
     "text": [
      "    Celsius  Kelvin\n",
      "0         0  273.15\n",
      "1        10  283.15\n",
      "2        20  293.15\n",
      "3        30  303.15\n",
      "4        40  313.15\n",
      "5        50  323.15\n",
      "6        60  333.15\n",
      "7        70  343.15\n",
      "8        80  353.15\n",
      "9        90  363.15\n",
      "10      100  373.15\n"
     ]
    },
    {
     "data": {
      "image/png": "[encoded data removed]",
      "text/plain": [
       "<Figure size 640x480 with 1 Axes>"
      ]
     },
     "metadata": {},
     "output_type": "display_data"
    }
   ],
   "source": [
    "import pandas as pd\n",
    "import matplotlib.pyplot as plt\n",
    "\n",
    "c_to_k = lambda c: c + 273.15\n",
    "\n",
    "data = {\"Celsius\": list(range(0, 101, 10))}\n",
    "data[\"Kelvin\"] = list(map(c_to_k, data[\"Celsius\"]))\n",
    "df = pd.DataFrame(data)\n",
    "\n",
    "print(df)\n",
    "\n",
    "plt.plot(df[\"Celsius\"], df[\"Kelvin\"], marker=\"o\")\n",
    "plt.xlabel(\"Celsius\")\n",
    "plt.ylabel(\"Kelvin\")\n",
    "plt.title(\"Celsius to Kelvin Conversion\")\n",
    "plt.grid()\n",
    "plt.show()"
   ]
  }
 ],
 "metadata": {
  "kernelspec": {
   "display_name": "Python 3 (ipykernel)",
   "language": "python",
   "name": "python3"
  },
  "language_info": {
   "codemirror_mode": {
    "name": "ipython",
    "version": 3
   },
   "file_extension": ".py",
   "mimetype": "text/x-python",
   "name": "python",
   "nbconvert_exporter": "python",
   "pygments_lexer": "ipython3",
   "version": "3.12.4"
  }
 },
 "nbformat": 4,
 "nbformat_minor": 5
}
