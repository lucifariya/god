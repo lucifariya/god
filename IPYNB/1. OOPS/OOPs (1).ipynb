{
 "cells": [
  {
   "cell_type": "markdown",
   "id": "451f2606",
   "metadata": {},
   "source": [
    "### github : https://github.com/pdeitel/IntroToPython/tree/master/examples/ch10 \n",
    "### book   : http://localhost:8888/files/2241016309/Python/Python%202/Python%20Book.pdf \n",
    "            (only works in lab comp)"
   ]
  },
  {
   "cell_type": "markdown",
   "id": "15e3c535",
   "metadata": {},
   "source": [
    "# Code 1:"
   ]
  },
  {
   "cell_type": "code",
   "execution_count": 1,
   "id": "decd1c77",
   "metadata": {},
   "outputs": [],
   "source": [
    "from decimal import Decimal\n",
    "\n",
    "class Account:                                               #Account class for maintaining a bank account balance.\n",
    "    \n",
    "    def __init__(self, name, balance):                       #Initialize an Account object.(_<name>_ is a special function)\n",
    "        if balance < Decimal('0.00'):                        #if balance is less than 0.00, raise an exception\n",
    "            raise ValueError('Initial balance must be >= to 0.00.')\n",
    "\n",
    "        self.name = name\n",
    "        self.balance = balance\n",
    "\n",
    "    def deposit(self, amount):                               #Deposit money to the account.\n",
    "        if amount < Decimal('0.00'):                         # if amount is less than 0.00, raise an exception\n",
    "            raise ValueError('amount must be positive.')\n",
    "\n",
    "        self.balance += amount\n",
    "    \n",
    "    def withdraw(self, amount):\n",
    "        if amount < Decimal('0.00'):\n",
    "            raise ValueError('amount must be positive.')\n",
    "        self.balance -= amount\n",
    "        \n",
    "    def showBalance(self):\n",
    "        print(\"Current Account Balance: \", self.balance)"
   ]
  },
  {
   "cell_type": "code",
   "execution_count": 2,
   "id": "d539c286",
   "metadata": {},
   "outputs": [],
   "source": [
    "account1 = Account('John', 1000)"
   ]
  },
  {
   "cell_type": "code",
   "execution_count": 3,
   "id": "8411f2cb",
   "metadata": {},
   "outputs": [
    {
     "name": "stdout",
     "output_type": "stream",
     "text": [
      "2000.00\n"
     ]
    }
   ],
   "source": [
    "account1.deposit(Decimal('1000.00'))\n",
    "print(account1.balance)"
   ]
  },
  {
   "cell_type": "code",
   "execution_count": 4,
   "id": "c38f4773",
   "metadata": {},
   "outputs": [
    {
     "name": "stdout",
     "output_type": "stream",
     "text": [
      "-18000.00\n"
     ]
    }
   ],
   "source": [
    "account1.withdraw(Decimal('20000.00'))\n",
    "print(account1.balance)"
   ]
  },
  {
   "cell_type": "code",
   "execution_count": 5,
   "id": "bcf22869",
   "metadata": {},
   "outputs": [
    {
     "name": "stdout",
     "output_type": "stream",
     "text": [
      "Current Account Balance:  -18000.00\n"
     ]
    }
   ],
   "source": [
    "account1.showBalance()"
   ]
  },
  {
   "cell_type": "markdown",
   "id": "05b7f27a",
   "metadata": {},
   "source": [
    "# Code 2:\n",
    "[ restart kernel here ]"
   ]
  },
  {
   "cell_type": "code",
   "execution_count": 1,
   "id": "589af8dc",
   "metadata": {},
   "outputs": [],
   "source": [
    "class Time:\n",
    "    \"\"\"Class Time with read-write properties.\"\"\"\n",
    "    \n",
    "    def __init__(self, hour=0, minute=0, second=0):\n",
    "        \"\"\"Initialize each attribute.\"\"\"\n",
    "        self.hour = hour # 0-23\n",
    "        self.minute = minute # 0-59\n",
    "        self.second = second # 0-59\n",
    "        \n",
    "    @property\n",
    "    def hour(self):\n",
    "        \"\"\"Return the hour.\"\"\"\n",
    "        return self._hour\n",
    "\n",
    "    @hour.setter\n",
    "    def hour(self, hour):\n",
    "        \"\"\"Set the hour.\"\"\"\n",
    "        if not (0 <= hour < 24):\n",
    "            raise ValueError(f'Hour ({hour}) must be 0-23')\n",
    "        self._hour = hour\n",
    "    \n",
    "    @property\n",
    "    def minute(self):\n",
    "        \"\"\"Return the minute.\"\"\"\n",
    "        return self._minute\n",
    "    \n",
    "    @minute.setter\n",
    "    def minute(self, minute):\n",
    "        \"\"\"Set the minute.\"\"\"\n",
    "        if not (0 <= minute < 60):\n",
    "            raise ValueError(f'Minute ({minute}) must be 0-59')\n",
    "\n",
    "        self._minute = minute\n",
    "\n",
    "    @property\n",
    "    def second(self):\n",
    "        \"\"\"Return the second.\"\"\"\n",
    "        return self._second\n",
    "\n",
    "    @second.setter\n",
    "    def second(self, second):\n",
    "        \"\"\"Set the second.\"\"\"\n",
    "        if not (0 <= second < 60):\n",
    "            raise ValueError(f'Second ({second}) must be 0-59')\n",
    "\n",
    "        self._second = second\n",
    "\n",
    "    def set_time(self, hour=0, minute=0, second=0):\n",
    "        \"\"\"Set values of hour, minute, and second.\"\"\"\n",
    "        self.hour = hour\n",
    "        self.minute = minute\n",
    "        self.second = second\n",
    "\n",
    "    def __repr__(self):\n",
    "        \"\"\"Return Time string for repr().\"\"\"\n",
    "        return (f'Time(hour={self.hour}, minute={self.minute}, ' + \n",
    "                f'second={self.second})')\n",
    "\n",
    "    def __str__(self):\n",
    "        \"\"\"Print Time in 12-hour clock format.\"\"\"\n",
    "        return (('12' if self.hour in (0, 12) else str(self.hour % 12)) + \n",
    "                f':{self.minute:0>2}:{self.second:0>2}' + \n",
    "                (' AM' if self.hour < 12 else ' PM'))\n",
    "    @property\n",
    "    def time(self):\n",
    "        \"\"\"Return hour, minute and second as a tuple.\"\"\"\n",
    "        return (self.hour, self.minute, self.second)\n",
    "    \n",
    "    @time.setter\n",
    "    def time(self, time_tuple):\n",
    "        \"\"\"Set time from a tuple containing hour, minute and second.\"\"\"\n",
    "        self.set_time(time_tuple[0], time_tuple[1], time_tuple[2])"
   ]
  },
  {
   "cell_type": "code",
   "execution_count": 2,
   "id": "9b0c4f08",
   "metadata": {},
   "outputs": [],
   "source": [
    "t = Time()"
   ]
  },
  {
   "cell_type": "code",
   "execution_count": 3,
   "id": "605ae03a",
   "metadata": {},
   "outputs": [
    {
     "data": {
      "text/plain": [
       "Time(hour=0, minute=0, second=0)"
      ]
     },
     "execution_count": 3,
     "metadata": {},
     "output_type": "execute_result"
    }
   ],
   "source": [
    "t"
   ]
  },
  {
   "cell_type": "code",
   "execution_count": 4,
   "id": "5e6b3e5a",
   "metadata": {},
   "outputs": [],
   "source": [
    "t.time = (12, 30, 45)"
   ]
  },
  {
   "cell_type": "code",
   "execution_count": 5,
   "id": "b85a7c98",
   "metadata": {},
   "outputs": [
    {
     "data": {
      "text/plain": [
       "Time(hour=12, minute=30, second=45)"
      ]
     },
     "execution_count": 5,
     "metadata": {},
     "output_type": "execute_result"
    }
   ],
   "source": [
    "t"
   ]
  },
  {
   "cell_type": "code",
   "execution_count": 6,
   "id": "50d616e8",
   "metadata": {},
   "outputs": [
    {
     "data": {
      "text/plain": [
       "(12, 30, 45)"
      ]
     },
     "execution_count": 6,
     "metadata": {},
     "output_type": "execute_result"
    }
   ],
   "source": [
    "t.time"
   ]
  },
  {
   "cell_type": "markdown",
   "id": "ea0fd3f1",
   "metadata": {},
   "source": [
    "# Code 3:"
   ]
  },
  {
   "cell_type": "code",
   "execution_count": 7,
   "id": "435c852b",
   "metadata": {},
   "outputs": [],
   "source": [
    "class Time:\n",
    "    def __init__(self, hour=0, minute=0, second=0):\n",
    "        self.__hour = hour                                 #private attribute\n",
    "        self.minute = minute\n",
    "        \n",
    "    def sum(self):\n",
    "        return self.__hour             #accessing a private var"
   ]
  },
  {
   "cell_type": "code",
   "execution_count": 8,
   "id": "08fe263a",
   "metadata": {},
   "outputs": [],
   "source": [
    "t1 = Time(14, 30, 45)"
   ]
  },
  {
   "cell_type": "code",
   "execution_count": 9,
   "id": "c9f788ed",
   "metadata": {},
   "outputs": [
    {
     "ename": "AttributeError",
     "evalue": "'Time' object has no attribute '_hour'",
     "output_type": "error",
     "traceback": [
      "\u001b[0;31m---------------------------------------------------------------------------\u001b[0m",
      "\u001b[0;31mAttributeError\u001b[0m                            Traceback (most recent call last)",
      "Cell \u001b[0;32mIn[9], line 1\u001b[0m\n\u001b[0;32m----> 1\u001b[0m \u001b[38;5;28mprint\u001b[39m(t1\u001b[38;5;241m.\u001b[39m_hour)\n",
      "\u001b[0;31mAttributeError\u001b[0m: 'Time' object has no attribute '_hour'"
     ]
    }
   ],
   "source": [
    "print(t1._hour)"
   ]
  },
  {
   "cell_type": "code",
   "execution_count": 10,
   "id": "63f11935",
   "metadata": {},
   "outputs": [
    {
     "name": "stdout",
     "output_type": "stream",
     "text": [
      "30\n"
     ]
    }
   ],
   "source": [
    "print(t1.minute)"
   ]
  },
  {
   "cell_type": "code",
   "execution_count": 11,
   "id": "1a301d0a",
   "metadata": {},
   "outputs": [
    {
     "name": "stdout",
     "output_type": "stream",
     "text": [
      "14\n"
     ]
    }
   ],
   "source": [
    "print(t1.sum())"
   ]
  },
  {
   "cell_type": "markdown",
   "id": "b23c34a4",
   "metadata": {},
   "source": [
    "[ Restart Kernel Here ]\n",
    "### 29 Jan, 25\n",
    "# Private Attributes:"
   ]
  },
  {
   "cell_type": "code",
   "execution_count": 1,
   "id": "adc3cd17",
   "metadata": {},
   "outputs": [],
   "source": [
    "class PrivateClass:                         #Class with public and private attributes.\n",
    "    def __init__(self):                     #Initialize the public and private attributes.\n",
    "        self.public_data = \"public\"         # public attribute\n",
    "        self.__private_data = \"private\"     # private attribute"
   ]
  },
  {
   "cell_type": "code",
   "execution_count": 2,
   "id": "394ba1d2",
   "metadata": {},
   "outputs": [],
   "source": [
    "my_object = PrivateClass()"
   ]
  },
  {
   "cell_type": "code",
   "execution_count": 3,
   "id": "a6091ed3",
   "metadata": {},
   "outputs": [
    {
     "data": {
      "text/plain": [
       "'public'"
      ]
     },
     "execution_count": 3,
     "metadata": {},
     "output_type": "execute_result"
    }
   ],
   "source": [
    "my_object.public_data"
   ]
  },
  {
   "cell_type": "code",
   "execution_count": 4,
   "id": "5df4f191",
   "metadata": {},
   "outputs": [
    {
     "ename": "AttributeError",
     "evalue": "'PrivateClass' object has no attribute '__private_data'",
     "output_type": "error",
     "traceback": [
      "\u001b[0;31m---------------------------------------------------------------------------\u001b[0m",
      "\u001b[0;31mAttributeError\u001b[0m                            Traceback (most recent call last)",
      "Cell \u001b[0;32mIn[4], line 1\u001b[0m\n\u001b[0;32m----> 1\u001b[0m my_object\u001b[38;5;241m.\u001b[39m__private_data\n",
      "\u001b[0;31mAttributeError\u001b[0m: 'PrivateClass' object has no attribute '__private_data'"
     ]
    }
   ],
   "source": [
    "my_object.__private_data"
   ]
  },
  {
   "cell_type": "code",
   "execution_count": 5,
   "id": "fd5271b1",
   "metadata": {},
   "outputs": [
    {
     "data": {
      "text/plain": [
       "'private'"
      ]
     },
     "execution_count": 5,
     "metadata": {},
     "output_type": "execute_result"
    }
   ],
   "source": [
    "my_object._PrivateClass__private_data  #name mangling: name of pvt atrbute is changed like this"
   ]
  },
  {
   "cell_type": "code",
   "execution_count": 6,
   "id": "1e207738",
   "metadata": {},
   "outputs": [],
   "source": [
    "my_object._PrivateClass__private_data = 'modified'"
   ]
  },
  {
   "cell_type": "code",
   "execution_count": 7,
   "id": "930dbce8",
   "metadata": {},
   "outputs": [
    {
     "data": {
      "text/plain": [
       "'modified'"
      ]
     },
     "execution_count": 7,
     "metadata": {},
     "output_type": "execute_result"
    }
   ],
   "source": [
    "my_object._PrivateClass__private_data"
   ]
  },
  {
   "cell_type": "markdown",
   "id": "2cdaa7d4",
   "metadata": {},
   "source": [
    "[ Restart Kernel Here ]\n",
    "# Introducing Class Attributes:"
   ]
  },
  {
   "cell_type": "code",
   "execution_count": 1,
   "id": "ea790ccf",
   "metadata": {},
   "outputs": [],
   "source": [
    "# card.py\n",
    "# Card class that represents a playing card and its image file name.\n",
    "\n",
    "class Card:\n",
    "    FACES = ['Ace', '2', '3', '4', '5', '6',\n",
    "             '7', '8', '9', '10', 'Jack', 'Queen', 'King']\n",
    "    SUITS = ['Hearts', 'Diamonds', 'Clubs', 'Spades']\n",
    "\n",
    "    def __init__(self, face, suit):\n",
    "            self._face = face           #Initialize a Card with a face and suit.\n",
    "            self._suit = suit\n",
    "\n",
    "    @property\n",
    "    def face(self):  \n",
    "        return self._face               #Return the Card's self._face value.\n",
    "\n",
    "    @property\n",
    "    def suit(self):\n",
    "        return self._suit               #Return the Card's self._suit value.\n",
    "\n",
    "    @property\n",
    "    def image_name(self):\n",
    "        return str(self).replace(' ', '_') + '.png'          #Return the Card's image file name.\n",
    "\n",
    "    def __repr__(self):\n",
    "        return f\"Card(face='{self.face}', suit='{self.suit}')\"     #Return string representation for repr().\n",
    "\n",
    "    def __str__(self):\n",
    "        return f'{self.face} of {self.suit}'                       #Return string representation for str().\n",
    "\n",
    "    def __format__(self, format):\n",
    "        return f'{str(self):{format}}'                     #Return formatted string representation for str()."
   ]
  },
  {
   "cell_type": "code",
   "execution_count": 2,
   "id": "e7308212",
   "metadata": {},
   "outputs": [],
   "source": [
    "# deck.py\n",
    "# Deck class represents a deck of Cards.\n",
    "\n",
    "import random \n",
    "\n",
    "class DeckOfCards:\n",
    "    NUMBER_OF_CARDS = 52                            # constant number of Cards\n",
    "\n",
    "    def __init__(self):                             # Initialize the deck.\n",
    "        self._current_card = 0\n",
    "        self._deck = []\n",
    "\n",
    "        for count in range(DeckOfCards.NUMBER_OF_CARDS):  \n",
    "            self._deck.append(Card(Card.FACES[count % 13], Card.SUITS[count // 13]))\n",
    "\n",
    "    def shuffle(self):\n",
    "        self._current_card = 0\n",
    "        random.shuffle(self._deck)\n",
    "\n",
    "    def deal_card(self):\n",
    "        try:\n",
    "            card = self._deck[self._current_card]\n",
    "            self._current_card += 1\n",
    "            return card\n",
    "        except:\n",
    "            return None\n",
    "\n",
    "    def __str__(self):\n",
    "        #Return a string representation of the current _deck.\n",
    "        s = ''\n",
    "\n",
    "        for index, card in enumerate(self._deck):\n",
    "            s += f'{self._deck[index]:<19}'\n",
    "            if (index + 1) % 4 == 0:\n",
    "                s += '\\n'\n",
    "        \n",
    "        return s"
   ]
  },
  {
   "cell_type": "code",
   "execution_count": 3,
   "id": "aab1158d",
   "metadata": {},
   "outputs": [],
   "source": [
    "deck_of_cards = DeckOfCards()"
   ]
  },
  {
   "cell_type": "code",
   "execution_count": 4,
   "id": "0b88815c",
   "metadata": {},
   "outputs": [
    {
     "name": "stdout",
     "output_type": "stream",
     "text": [
      "Ace of Hearts      2 of Hearts        3 of Hearts        4 of Hearts        \n",
      "5 of Hearts        6 of Hearts        7 of Hearts        8 of Hearts        \n",
      "9 of Hearts        10 of Hearts       Jack of Hearts     Queen of Hearts    \n",
      "King of Hearts     Ace of Diamonds    2 of Diamonds      3 of Diamonds      \n",
      "4 of Diamonds      5 of Diamonds      6 of Diamonds      7 of Diamonds      \n",
      "8 of Diamonds      9 of Diamonds      10 of Diamonds     Jack of Diamonds   \n",
      "Queen of Diamonds  King of Diamonds   Ace of Clubs       2 of Clubs         \n",
      "3 of Clubs         4 of Clubs         5 of Clubs         6 of Clubs         \n",
      "7 of Clubs         8 of Clubs         9 of Clubs         10 of Clubs        \n",
      "Jack of Clubs      Queen of Clubs     King of Clubs      Ace of Spades      \n",
      "2 of Spades        3 of Spades        4 of Spades        5 of Spades        \n",
      "6 of Spades        7 of Spades        8 of Spades        9 of Spades        \n",
      "10 of Spades       Jack of Spades     Queen of Spades    King of Spades     \n",
      "\n"
     ]
    }
   ],
   "source": [
    "print(deck_of_cards)"
   ]
  },
  {
   "cell_type": "code",
   "execution_count": 5,
   "id": "806fd7e2",
   "metadata": {},
   "outputs": [
    {
     "name": "stdout",
     "output_type": "stream",
     "text": [
      "6 of Clubs         9 of Diamonds      5 of Diamonds      4 of Clubs         \n",
      "9 of Spades        King of Clubs      3 of Spades        Queen of Hearts    \n",
      "Jack of Spades     7 of Hearts        10 of Spades       8 of Hearts        \n",
      "10 of Clubs        7 of Spades        8 of Clubs         2 of Hearts        \n",
      "4 of Spades        8 of Spades        2 of Clubs         7 of Clubs         \n",
      "3 of Hearts        Jack of Hearts     Ace of Diamonds    10 of Hearts       \n",
      "2 of Diamonds      Jack of Clubs      Jack of Diamonds   5 of Hearts        \n",
      "7 of Diamonds      Queen of Spades    Ace of Spades      2 of Spades        \n",
      "4 of Hearts        6 of Spades        King of Hearts     9 of Hearts        \n",
      "Ace of Hearts      6 of Diamonds      3 of Clubs         3 of Diamonds      \n",
      "King of Diamonds   6 of Hearts        4 of Diamonds      Queen of Clubs     \n",
      "9 of Clubs         Queen of Diamonds  5 of Clubs         5 of Spades        \n",
      "Ace of Clubs       8 of Diamonds      10 of Diamonds     King of Spades     \n",
      "\n"
     ]
    }
   ],
   "source": [
    "deck_of_cards.shuffle()\n",
    "print(deck_of_cards)"
   ]
  },
  {
   "cell_type": "code",
   "execution_count": 6,
   "id": "fcb78bd9",
   "metadata": {},
   "outputs": [
    {
     "data": {
      "text/plain": [
       "Card(face='6', suit='Clubs')"
      ]
     },
     "execution_count": 6,
     "metadata": {},
     "output_type": "execute_result"
    }
   ],
   "source": [
    "deck_of_cards.deal_card()"
   ]
  },
  {
   "cell_type": "code",
   "execution_count": 7,
   "id": "aa272382",
   "metadata": {},
   "outputs": [
    {
     "data": {
      "text/plain": [
       "'9 of Diamonds'"
      ]
     },
     "execution_count": 7,
     "metadata": {},
     "output_type": "execute_result"
    }
   ],
   "source": [
    "card = deck_of_cards.deal_card()\n",
    "str(card)"
   ]
  },
  {
   "cell_type": "code",
   "execution_count": 8,
   "id": "5ff076d1",
   "metadata": {},
   "outputs": [
    {
     "data": {
      "text/plain": [
       "'9_of_Diamonds.png'"
      ]
     },
     "execution_count": 8,
     "metadata": {},
     "output_type": "execute_result"
    }
   ],
   "source": [
    "card.image_name"
   ]
  },
  {
   "cell_type": "markdown",
   "id": "3cda0990",
   "metadata": {},
   "source": [
    "[ Restart Kernel Here ]\n",
    "### 30 Jan, 25\n",
    "# Inheritance: "
   ]
  },
  {
   "cell_type": "markdown",
   "id": "e9e22ab2",
   "metadata": {},
   "source": [
    "### Sub class inherits base class' methods and data"
   ]
  },
  {
   "cell_type": "markdown",
   "id": "4839f811",
   "metadata": {},
   "source": [
    "### Building an Inheritance Hierarchy; Introducing Polymorphism"
   ]
  },
  {
   "cell_type": "code",
   "execution_count": 1,
   "id": "88a21858",
   "metadata": {},
   "outputs": [],
   "source": [
    "# commmissionemployee.py\n",
    "\"\"\"CommissionEmployee base class.\"\"\"\n",
    "from decimal import Decimal\n",
    "\n",
    "class CommissionEmployee:\n",
    "    \"\"\"An employee who gets paid commission based on gross sales.\"\"\"\n",
    "\n",
    "    def __init__(self, first_name, last_name, ssn, \n",
    "                 gross_sales, commission_rate):\n",
    "        \"\"\"Initialize CommissionEmployee's attributes.\"\"\"\n",
    "        self._first_name = first_name\n",
    "        self._last_name = last_name\n",
    "        self._ssn = ssn\n",
    "        self.gross_sales = gross_sales  # validate via property\n",
    "        self.commission_rate = commission_rate  # validate via property\n",
    "\n",
    "    @property\n",
    "    def first_name(self):\n",
    "        return self._first_name\n",
    "\n",
    "    @property\n",
    "    def last_name(self):\n",
    "        return self._last_name\n",
    "\n",
    "    @property\n",
    "    def ssn(self):\n",
    "        return self._ssn\n",
    "\n",
    "    @property\n",
    "    def gross_sales(self):\n",
    "        return self._gross_sales\n",
    "\n",
    "    @gross_sales.setter\n",
    "    def gross_sales(self, sales):\n",
    "        \"\"\"Set gross sales or raise ValueError if invalid.\"\"\"\n",
    "        if sales < Decimal('0.00'):\n",
    "            raise ValueError('Gross sales must be >= to 0')\n",
    "        \n",
    "        self._gross_sales = sales\n",
    "        \n",
    "    @property\n",
    "    def commission_rate(self):\n",
    "        return self._commission_rate\n",
    "\n",
    "    @commission_rate.setter\n",
    "    def commission_rate(self, rate):\n",
    "        \"\"\"Set commission rate or raise ValueError if invalid.\"\"\"\n",
    "        if not (Decimal('0.0') < rate < Decimal('1.0')):\n",
    "            raise ValueError(\n",
    "               'Interest rate must be greater than 0 and less than 1')\n",
    "        \n",
    "        self._commission_rate = rate\n",
    "\n",
    "    def earnings(self):\n",
    "        \"\"\"Calculate earnings.\"\"\"   \n",
    "        return self.gross_sales * self.commission_rate\n",
    "\n",
    "    def __repr__(self):\n",
    "        \"\"\"Return string representation for repr().\"\"\"\n",
    "        return ('CommissionEmployee: ' + \n",
    "            f'{self.first_name} {self.last_name}\\n' +\n",
    "            f'social security number: {self.ssn}\\n' +\n",
    "            f'gross sales: {self.gross_sales:.2f}\\n' +\n",
    "            f'commission rate: {self.commission_rate:.2f}')\n",
    "\n",
    "# All Classes Inherit Directly or Indirectly from Class `object`"
   ]
  },
  {
   "cell_type": "code",
   "execution_count": 2,
   "id": "f446e5f6",
   "metadata": {},
   "outputs": [],
   "source": [
    "# basepluscommissionemployee.py\n",
    "\"\"\"SalariedCommissionEmployee derived from CommissionEmployee.\"\"\"\n",
    "class SalariedCommissionEmployee(CommissionEmployee):\n",
    "    \"\"\"An employee who gets paid a salary plus \n",
    "    commission based on gross sales.\"\"\"\n",
    "\n",
    "    def __init__(self, first_name, last_name, ssn, \n",
    "                 gross_sales, commission_rate, base_salary):\n",
    "        \"\"\"Initialize SalariedCommissionEmployee's attributes.\"\"\"\n",
    "        super().__init__(first_name, last_name, ssn, \n",
    "                         gross_sales, commission_rate)\n",
    "        self.base_salary = base_salary  # validate via property\n",
    "\n",
    "    @property\n",
    "    def base_salary(self):\n",
    "        return self._base_salary\n",
    "\n",
    "    @base_salary.setter\n",
    "    def base_salary(self, salary):\n",
    "        \"\"\"Set base salary or raise ValueError if invalid.\"\"\"\n",
    "        if salary < Decimal('0.00'):\n",
    "            raise ValueError('Base salary must be >= to 0')\n",
    "        \n",
    "        self._base_salary = salary\n",
    "\n",
    "    def earnings(self):\n",
    "        \"\"\"Calculate earnings.\"\"\"   \n",
    "        return super().earnings() + self.base_salary\n",
    "\n",
    "    def __repr__(self):\n",
    "        \"\"\"Return string representation for repr().\"\"\"\n",
    "        return ('Salaried' + super().__repr__() +      \n",
    "            f'\\nbase salary: {self.base_salary:.2f}')\n",
    "\n",
    "\n",
    "# Inheriting from Class `CommissionEmployee`\n",
    "# Method `__init__` and Built-In Function `super` \n",
    "# Overriding Method `earnings`\n",
    "# Overriding Method `__repr__`"
   ]
  },
  {
   "cell_type": "markdown",
   "id": "4062bbaa",
   "metadata": {},
   "source": [
    "### Testing Class `CommissionEmployee`"
   ]
  },
  {
   "cell_type": "code",
   "execution_count": 3,
   "id": "ea6012d2",
   "metadata": {},
   "outputs": [],
   "source": [
    "# from commissionemployee import CommissionEmployee\n",
    "# from decimal import Decimal"
   ]
  },
  {
   "cell_type": "code",
   "execution_count": 4,
   "id": "ebb3f752",
   "metadata": {},
   "outputs": [],
   "source": [
    "c = CommissionEmployee('Sue', 'Jones', '333-33-3333', Decimal('10000.00'), Decimal('0.06'))"
   ]
  },
  {
   "cell_type": "code",
   "execution_count": 5,
   "id": "5eca3812",
   "metadata": {},
   "outputs": [
    {
     "data": {
      "text/plain": [
       "CommissionEmployee: Sue Jones\n",
       "social security number: 333-33-3333\n",
       "gross sales: 10000.00\n",
       "commission rate: 0.06"
      ]
     },
     "execution_count": 5,
     "metadata": {},
     "output_type": "execute_result"
    }
   ],
   "source": [
    "c"
   ]
  },
  {
   "cell_type": "code",
   "execution_count": 6,
   "id": "2a33fa1c",
   "metadata": {},
   "outputs": [
    {
     "name": "stdout",
     "output_type": "stream",
     "text": [
      "600.00\n"
     ]
    }
   ],
   "source": [
    "print(f'{c.earnings():,.2f}')"
   ]
  },
  {
   "cell_type": "code",
   "execution_count": 7,
   "id": "0daaecd8",
   "metadata": {},
   "outputs": [
    {
     "name": "stdout",
     "output_type": "stream",
     "text": [
      "2,000.00\n"
     ]
    }
   ],
   "source": [
    "c.gross_sales = Decimal('20000.00')\n",
    "c.commission_rate = Decimal('0.1')\n",
    "print(f'{c.earnings():,.2f}')"
   ]
  },
  {
   "cell_type": "markdown",
   "id": "bec8e5a7",
   "metadata": {},
   "source": [
    "### Testing Class `SalariedCommissionEmployee` "
   ]
  },
  {
   "cell_type": "code",
   "execution_count": 8,
   "id": "af904001",
   "metadata": {},
   "outputs": [],
   "source": [
    "# from salariedcommissionemployee import SalariedCommissionEmployee"
   ]
  },
  {
   "cell_type": "code",
   "execution_count": 9,
   "id": "b43f47e2",
   "metadata": {},
   "outputs": [
    {
     "name": "stdout",
     "output_type": "stream",
     "text": [
      "Bob Lewis 444-44-4444 5000.00 0.04 300.00\n"
     ]
    }
   ],
   "source": [
    "s = SalariedCommissionEmployee('Bob', 'Lewis', '444-44-4444',\n",
    "         Decimal('5000.00'), Decimal('0.04'), Decimal('300.00'))\n",
    "print(s.first_name, s.last_name, s.ssn, s.gross_sales, \n",
    "       s.commission_rate, s.base_salary)"
   ]
  },
  {
   "cell_type": "code",
   "execution_count": 10,
   "id": "60c25ff7",
   "metadata": {},
   "outputs": [
    {
     "name": "stdout",
     "output_type": "stream",
     "text": [
      "500.00\n"
     ]
    }
   ],
   "source": [
    "print(f'{s.earnings():,.2f}')"
   ]
  },
  {
   "cell_type": "code",
   "execution_count": 11,
   "id": "d4972ebe",
   "metadata": {},
   "outputs": [
    {
     "name": "stdout",
     "output_type": "stream",
     "text": [
      "SalariedCommissionEmployee: Bob Lewis\n",
      "social security number: 444-44-4444\n",
      "gross sales: 10000.00\n",
      "commission rate: 0.05\n",
      "base salary: 1000.00\n"
     ]
    }
   ],
   "source": [
    "s.gross_sales = Decimal('10000.00')\n",
    "s.commission_rate = Decimal('0.05')\n",
    "s.base_salary = Decimal('1000.00')\n",
    "print(s)"
   ]
  },
  {
   "cell_type": "code",
   "execution_count": 12,
   "id": "30fc64cf",
   "metadata": {},
   "outputs": [
    {
     "name": "stdout",
     "output_type": "stream",
     "text": [
      "1,500.00\n"
     ]
    }
   ],
   "source": [
    "print(f'{s.earnings():,.2f}')"
   ]
  },
  {
   "cell_type": "markdown",
   "id": "0d8fa77c",
   "metadata": {},
   "source": [
    "### Testing the “is a” Relationship"
   ]
  },
  {
   "cell_type": "code",
   "execution_count": 13,
   "id": "3947b082",
   "metadata": {},
   "outputs": [
    {
     "data": {
      "text/plain": [
       "True"
      ]
     },
     "execution_count": 13,
     "metadata": {},
     "output_type": "execute_result"
    }
   ],
   "source": [
    "issubclass(SalariedCommissionEmployee, CommissionEmployee)"
   ]
  },
  {
   "cell_type": "code",
   "execution_count": 14,
   "id": "3162a717",
   "metadata": {},
   "outputs": [
    {
     "data": {
      "text/plain": [
       "True"
      ]
     },
     "execution_count": 14,
     "metadata": {},
     "output_type": "execute_result"
    }
   ],
   "source": [
    "isinstance(s, CommissionEmployee)"
   ]
  },
  {
   "cell_type": "code",
   "execution_count": 15,
   "id": "9deaac1c",
   "metadata": {},
   "outputs": [
    {
     "data": {
      "text/plain": [
       "True"
      ]
     },
     "execution_count": 15,
     "metadata": {},
     "output_type": "execute_result"
    }
   ],
   "source": [
    "isinstance(s, SalariedCommissionEmployee)"
   ]
  },
  {
   "cell_type": "markdown",
   "id": "976ccb43",
   "metadata": {},
   "source": [
    "# Duck Typing and Polymorphism\n",
    "## [same function call by unrelated classes]"
   ]
  },
  {
   "cell_type": "code",
   "execution_count": 16,
   "id": "a284b7eb",
   "metadata": {},
   "outputs": [],
   "source": [
    "class WellPaidDuck:\n",
    "    def __repr__(self):\n",
    "        return 'I am a well-paid duck'\n",
    "    def earnings(self):\n",
    "        return Decimal('1_000_000.00')"
   ]
  },
  {
   "cell_type": "code",
   "execution_count": 17,
   "id": "5f4f0357",
   "metadata": {},
   "outputs": [],
   "source": [
    "# from decimal import Decimal\n",
    "# from commissionemployee import CommissionEmployee\n",
    "# from salariedcommissionemployee import SalariedCommissionEmployee"
   ]
  },
  {
   "cell_type": "code",
   "execution_count": 18,
   "id": "d04b9433",
   "metadata": {},
   "outputs": [
    {
     "name": "stdout",
     "output_type": "stream",
     "text": [
      "CommissionEmployee: Sue Jones\n",
      "social security number: 333-33-3333\n",
      "gross sales: 10000.00\n",
      "commission rate: 0.06\n",
      "600.00\n",
      "\n",
      "SalariedCommissionEmployee: Bob Lewis\n",
      "social security number: 444-44-4444\n",
      "gross sales: 5000.00\n",
      "commission rate: 0.04\n",
      "base salary: 300.00\n",
      "500.00\n",
      "\n",
      "I am a well-paid duck\n",
      "1,000,000.00\n",
      "\n"
     ]
    }
   ],
   "source": [
    "c = CommissionEmployee('Sue', 'Jones', '333-33-3333', Decimal('10000.00'), Decimal('0.06'))\n",
    "\n",
    "s = SalariedCommissionEmployee('Bob', 'Lewis', '444-44-4444', Decimal('5000.00'), Decimal('0.04'), Decimal('300.00'))\n",
    "\n",
    "d = WellPaidDuck()\n",
    "\n",
    "employees = [c, s, d]\n",
    "\n",
    "# Processing CommissionEmployees and SalariedCommissionEmployees Polymorphically\n",
    "\n",
    "for employee in employees:\n",
    "    print(employee)\n",
    "    print(f'{employee.earnings():,.2f}\\n')"
   ]
  },
  {
   "cell_type": "code",
   "execution_count": 19,
   "id": "a9aa9c1d",
   "metadata": {},
   "outputs": [
    {
     "name": "stdout",
     "output_type": "stream",
     "text": [
      "1\n",
      "<class 'int'>\n",
      "2.5\n",
      "<class 'float'>\n",
      "abc\n",
      "<class 'str'>\n"
     ]
    }
   ],
   "source": [
    "random = [1, 2.5, \"abc\"]\n",
    "for v in random:\n",
    "    print(v)\n",
    "    print(type(v))"
   ]
  },
  {
   "cell_type": "markdown",
   "id": "b02055e7",
   "metadata": {},
   "source": [
    "# Operator Overloading\n",
    "[Restart Kernel Here]"
   ]
  },
  {
   "cell_type": "code",
   "execution_count": 1,
   "id": "8e77428b",
   "metadata": {},
   "outputs": [],
   "source": [
    "# complexnumber.py\n",
    "\"\"\"Complex class with overloaded operators.\"\"\"\n",
    "\n",
    "class Complex:\n",
    "    \"\"\"Complex class that represents a complex number \n",
    "    with real and imaginary parts.\"\"\"\n",
    "\n",
    "    def __init__(self, real, imaginary):\n",
    "        \"\"\"Initialize Complex class's attributes.\"\"\"\n",
    "        self.real = real\n",
    "        self.imaginary = imaginary\n",
    "        \n",
    "    #Overloaded + Operator\n",
    "    def __add__(self, right):\n",
    "        \"\"\"Overrides the + operator.\"\"\"\n",
    "        return Complex(self.real + right.real, self.imaginary + right.imaginary)\n",
    "    \n",
    "    def __iadd__(self, right):\n",
    "        \"\"\"Overrides the += operator.\"\"\"\n",
    "        self.real += right.real\n",
    "        self.imaginary += right.imaginary\n",
    "        return self\n",
    "    \n",
    "    def __sub__(self, right):\n",
    "        \"\"\"Overrides the - operator.\"\"\"\n",
    "        return Complex(self.real - right.real, self.imaginary - right.imaginary)\n",
    "\n",
    "    def __isub__(self, right):\n",
    "        \"\"\"Overrides the -= operator.\"\"\"\n",
    "        self.real -= right.real\n",
    "        self.imaginary -= right.imaginary\n",
    "        return self\n",
    "\n",
    "    #Method __repr__\n",
    "    def __repr__(self):\n",
    "        return (f'({self.real} ' + ('+' if self.imaginary >= 0 else '-') + f' {abs(self.imaginary)}i)')"
   ]
  },
  {
   "cell_type": "code",
   "execution_count": 2,
   "id": "39b69e60",
   "metadata": {},
   "outputs": [],
   "source": [
    "x = Complex(real=2, imaginary=4)\n",
    "\n",
    "y = Complex(real=5, imaginary=-1)"
   ]
  },
  {
   "cell_type": "code",
   "execution_count": 3,
   "id": "3b3a994f",
   "metadata": {},
   "outputs": [
    {
     "data": {
      "text/plain": [
       "(7 + 3i)"
      ]
     },
     "execution_count": 3,
     "metadata": {},
     "output_type": "execute_result"
    }
   ],
   "source": [
    "x+y"
   ]
  },
  {
   "cell_type": "code",
   "execution_count": 4,
   "id": "97e24cea",
   "metadata": {},
   "outputs": [
    {
     "data": {
      "text/plain": [
       "(-3 + 5i)"
      ]
     },
     "execution_count": 4,
     "metadata": {},
     "output_type": "execute_result"
    }
   ],
   "source": [
    "x-y"
   ]
  },
  {
   "cell_type": "code",
   "execution_count": 5,
   "id": "34850bfa",
   "metadata": {},
   "outputs": [
    {
     "data": {
      "text/plain": [
       "(2 + 4i)"
      ]
     },
     "execution_count": 5,
     "metadata": {},
     "output_type": "execute_result"
    }
   ],
   "source": [
    "x"
   ]
  },
  {
   "cell_type": "code",
   "execution_count": 6,
   "id": "c4f2f3f3",
   "metadata": {},
   "outputs": [
    {
     "data": {
      "text/plain": [
       "(5 - 1i)"
      ]
     },
     "execution_count": 6,
     "metadata": {},
     "output_type": "execute_result"
    }
   ],
   "source": [
    "y"
   ]
  },
  {
   "cell_type": "markdown",
   "id": "301a3dbb",
   "metadata": {},
   "source": [
    "# Named Tupple\n",
    "[ Restart Kernel Here ]"
   ]
  },
  {
   "cell_type": "code",
   "execution_count": 1,
   "id": "5eb5d2c9",
   "metadata": {},
   "outputs": [],
   "source": [
    "from collections import namedtuple\n",
    "Card = namedtuple('Card', ['face', 'suit'])\n",
    "card = Card(face='Ace', suit='Spades')"
   ]
  },
  {
   "cell_type": "code",
   "execution_count": 2,
   "id": "3b2fee9b",
   "metadata": {},
   "outputs": [
    {
     "data": {
      "text/plain": [
       "'Ace'"
      ]
     },
     "execution_count": 2,
     "metadata": {},
     "output_type": "execute_result"
    }
   ],
   "source": [
    "card.face"
   ]
  },
  {
   "cell_type": "code",
   "execution_count": 3,
   "id": "ee230808",
   "metadata": {},
   "outputs": [
    {
     "data": {
      "text/plain": [
       "'Spades'"
      ]
     },
     "execution_count": 3,
     "metadata": {},
     "output_type": "execute_result"
    }
   ],
   "source": [
    " card.suit"
   ]
  },
  {
   "cell_type": "code",
   "execution_count": 4,
   "id": "62a51e08",
   "metadata": {},
   "outputs": [
    {
     "data": {
      "text/plain": [
       "Card(face='Ace', suit='Spades')"
      ]
     },
     "execution_count": 4,
     "metadata": {},
     "output_type": "execute_result"
    }
   ],
   "source": [
    "card"
   ]
  },
  {
   "cell_type": "code",
   "execution_count": 5,
   "id": "fbc02f32",
   "metadata": {},
   "outputs": [
    {
     "data": {
      "text/plain": [
       "Card(face='Queen', suit='Hearts')"
      ]
     },
     "execution_count": 5,
     "metadata": {},
     "output_type": "execute_result"
    }
   ],
   "source": [
    "values = ['Queen', 'Hearts']\n",
    "card = Card._make(values)\n",
    "card"
   ]
  },
  {
   "cell_type": "code",
   "execution_count": 6,
   "id": "77b31693",
   "metadata": {},
   "outputs": [
    {
     "data": {
      "text/plain": [
       "{'face': 'Queen', 'suit': 'Hearts'}"
      ]
     },
     "execution_count": 6,
     "metadata": {},
     "output_type": "execute_result"
    }
   ],
   "source": [
    " card._asdict()"
   ]
  },
  {
   "cell_type": "code",
   "execution_count": 7,
   "id": "fed6b27c",
   "metadata": {},
   "outputs": [
    {
     "name": "stdout",
     "output_type": "stream",
     "text": [
      "13 30 45\n"
     ]
    },
    {
     "data": {
      "text/plain": [
       "Time(hour=13, minute=30, second=45)"
      ]
     },
     "execution_count": 7,
     "metadata": {},
     "output_type": "execute_result"
    }
   ],
   "source": [
    "Time = namedtuple('Time', ['hour', 'minute', 'second'])\n",
    "t = Time(13, 30, 45)\n",
    "print(t.hour, t.minute, t.second)\n",
    "t"
   ]
  },
  {
   "cell_type": "code",
   "execution_count": 8,
   "id": "8ddc833e",
   "metadata": {},
   "outputs": [
    {
     "data": {
      "text/plain": [
       "'Queen'"
      ]
     },
     "execution_count": 8,
     "metadata": {},
     "output_type": "execute_result"
    }
   ],
   "source": [
    "card[0]"
   ]
  },
  {
   "cell_type": "markdown",
   "id": "3f11c81a",
   "metadata": {},
   "source": [
    "# Python 3.7’s New Data Classes\n",
    "[ Restart Kernel Here ]"
   ]
  },
  {
   "cell_type": "code",
   "execution_count": 1,
   "id": "461e0b01",
   "metadata": {},
   "outputs": [],
   "source": [
    "# carddataclass.py\n",
    "\"\"\"Card data class with class attributes, data attributes, \n",
    "autogenerated methods and explicitly defined methods.\"\"\"\n",
    "from dataclasses import dataclass\n",
    "from typing import ClassVar, List\n",
    "\n",
    "@dataclass\n",
    "class Card:\n",
    "    FACES: ClassVar[List[str]] = ['Ace', '2', '3', '4', '5', '6', '7', '8', '9', '10', 'Jack', 'Queen', 'King']\n",
    "    SUITS: ClassVar[List[str]] = ['Hearts', 'Diamonds', 'Clubs', 'Spades']\n",
    "\n",
    "    face: str\n",
    "    suit: str\n",
    "\n",
    "    #defining property and other methods:\n",
    "    @property\n",
    "    def image_name(self):\n",
    "        \"\"\"Return the Card's image file name.\"\"\"\n",
    "        return str(self).replace(' ', '_') + '.png'\n",
    "\n",
    "    def __str__(self):\n",
    "        \"\"\"Return string representation for str().\"\"\"\n",
    "        return f'{self.face} of {self.suit}'\n",
    "\n",
    "    def __format__(self, format):\n",
    "        \"\"\"Return formatted string representation.\"\"\"\n",
    "        return f'{str(self):{format}}'"
   ]
  },
  {
   "cell_type": "code",
   "execution_count": 2,
   "id": "8952d4b7",
   "metadata": {},
   "outputs": [
    {
     "name": "stdout",
     "output_type": "stream",
     "text": [
      "Ace of Spades\n"
     ]
    }
   ],
   "source": [
    "c1 = Card(Card.FACES[0], Card.SUITS[3])\n",
    "\n",
    "print(c1)"
   ]
  },
  {
   "cell_type": "code",
   "execution_count": 3,
   "id": "154884dd",
   "metadata": {},
   "outputs": [
    {
     "data": {
      "text/plain": [
       "Card(face='Ace', suit='Spades')"
      ]
     },
     "execution_count": 3,
     "metadata": {},
     "output_type": "execute_result"
    }
   ],
   "source": [
    "c1"
   ]
  },
  {
   "cell_type": "code",
   "execution_count": 4,
   "id": "b0e7e9a6",
   "metadata": {},
   "outputs": [
    {
     "data": {
      "text/plain": [
       "'Ace'"
      ]
     },
     "execution_count": 4,
     "metadata": {},
     "output_type": "execute_result"
    }
   ],
   "source": [
    "c1.face"
   ]
  },
  {
   "cell_type": "code",
   "execution_count": 5,
   "id": "342aed4e",
   "metadata": {},
   "outputs": [
    {
     "data": {
      "text/plain": [
       "'Spades'"
      ]
     },
     "execution_count": 5,
     "metadata": {},
     "output_type": "execute_result"
    }
   ],
   "source": [
    "c1.suit"
   ]
  },
  {
   "cell_type": "code",
   "execution_count": 6,
   "id": "232013d5",
   "metadata": {},
   "outputs": [
    {
     "data": {
      "text/plain": [
       "'Ace_of_Spades.png'"
      ]
     },
     "execution_count": 6,
     "metadata": {},
     "output_type": "execute_result"
    }
   ],
   "source": [
    "c1.image_name"
   ]
  },
  {
   "cell_type": "code",
   "execution_count": 7,
   "id": "5fa8dddf",
   "metadata": {},
   "outputs": [],
   "source": [
    "c2 = Card(Card.FACES[0], Card.SUITS[3])\n",
    "\n",
    "c3 = Card(Card.FACES[0], Card.SUITS[0])"
   ]
  },
  {
   "cell_type": "code",
   "execution_count": 8,
   "id": "7f96cdcf",
   "metadata": {},
   "outputs": [
    {
     "name": "stdout",
     "output_type": "stream",
     "text": [
      "c1 == c2 :  True\n",
      "c1 == c3 :  False\n",
      "c1 != c3 :  True\n"
     ]
    }
   ],
   "source": [
    "print(\"c1 == c2 : \", c1 == c2)\n",
    "print(\"c1 == c3 : \", c1 == c3)\n",
    "print(\"c1 != c3 : \", c1 != c3)"
   ]
  },
  {
   "cell_type": "markdown",
   "id": "7a728fc0",
   "metadata": {},
   "source": [
    "# Unit Testing with Docstrings and doctest\n",
    "[  Restart Kernel Here  ]"
   ]
  },
  {
   "cell_type": "code",
   "execution_count": 1,
   "id": "20aaeee4",
   "metadata": {},
   "outputs": [
    {
     "name": "stdout",
     "output_type": "stream",
     "text": [
      "Trying:\n",
      "    account1 = Account('John Green', Decimal('50.00'))\n",
      "Expecting nothing\n",
      "ok\n",
      "Trying:\n",
      "    account1.name\n",
      "Expecting:\n",
      "    'John Green'\n",
      "ok\n",
      "Trying:\n",
      "    account1.balance\n",
      "Expecting:\n",
      "    Decimal('50.00')\n",
      "ok\n",
      "Trying:\n",
      "    account2 = Account('John Green', Decimal('-50.00'))\n",
      "Expecting:\n",
      "    Traceback (most recent call last):\n",
      "        ...\n",
      "    ValueError: Initial balance must be >= to 0.00.\n",
      "ok\n",
      "3 items had no tests:\n",
      "    __main__\n",
      "    __main__.Account\n",
      "    __main__.Account.deposit\n",
      "1 items passed all tests:\n",
      "   4 tests in __main__.Account.__init__\n",
      "4 tests in 4 items.\n",
      "4 passed and 0 failed.\n",
      "Test passed.\n"
     ]
    }
   ],
   "source": [
    "# accountdoctest.py\n",
    "\"\"\"Account class definition.\"\"\"\n",
    "from decimal import Decimal\n",
    "\n",
    "class Account:\n",
    "    \"\"\"Account class for demonstrating doctest.\"\"\"\n",
    "    \n",
    "    def __init__(self, name, balance):\n",
    "        \"\"\"Initialize an Account object.\n",
    "        \n",
    "        >>> account1 = Account('John Green', Decimal('50.00'))\n",
    "        >>> account1.name\n",
    "        'John Green'\n",
    "        >>> account1.balance\n",
    "        Decimal('50.00')\n",
    "\n",
    "        The balance argument must be greater than or equal to 0.\n",
    "        >>> account2 = Account('John Green', Decimal('-50.00'))\n",
    "        Traceback (most recent call last):\n",
    "            ...\n",
    "        ValueError: Initial balance must be >= to 0.00.\n",
    "        \"\"\"\n",
    "\n",
    "        # if balance is less than 0.00, raise an exception\n",
    "        if balance < Decimal('0.00'):\n",
    "            raise ValueError('Initial balance must be >= to 0.00.')\n",
    "\n",
    "        self.name = name\n",
    "        self.balance = balance\n",
    "\n",
    "    def deposit(self, amount):\n",
    "        \"\"\"Deposit money to the account.\"\"\"\n",
    "\n",
    "        # if amount is less than 0.00, raise an exception\n",
    "        if amount < Decimal('0.00'):\n",
    "            raise ValueError('amount must be positive.')\n",
    "\n",
    "        self.balance += amount\n",
    "\n",
    "if __name__ == '__main__':\n",
    "    import doctest\n",
    "    doctest.testmod(verbose=True)"
   ]
  },
  {
   "cell_type": "markdown",
   "id": "66d676ac",
   "metadata": {},
   "source": [
    "# Key Points and Concepts:\n",
    "<B>1. Namespaces and Scopes:</B>  \n",
    "A <B>namespace</B> maps identifiers (like variable names) to objects. It's implemented as a\n",
    "dictionary in Python. There are four primary types:\n",
    "* Local: Exists within functions/methods and stores their local variables.\n",
    "* Global: Exists for a module and stores its global variables.\n",
    "* Built-in: Contains built-in functions and types (like print and int).\n",
    "* Enclosing: Found in nested functions.\n",
    "  \n",
    "<B>2. Search Order (LEGB Rule)</B>   \n",
    "Python resolves variable names in the following order:\n",
    "* Local\n",
    "* Enclosing (in nested functions)\n",
    "* Global\n",
    "* Built-in\n",
    "  \n",
    "<B>3. Shadowing</B>  \n",
    "If you define a variable with the same name as a built-in, local, or global variable, it\n",
    "\"shadows\" that variable in the namespace.\n",
    "  \n",
    "<B>4. Class and Object Namespaces</B>  \n",
    "Class attributes are stored in the class namespace, while object attributes are stored in\n",
    "the object namespace. "
   ]
  },
  {
   "cell_type": "markdown",
   "id": "bb4d3e9d",
   "metadata": {},
   "source": [
    "## Sample Code:-\n",
    "### [ Restart Kernel Here ]\n",
    "### Local, Global, and Built-in Namespaces:"
   ]
  },
  {
   "cell_type": "code",
   "execution_count": 1,
   "id": "934af43d",
   "metadata": {},
   "outputs": [
    {
     "name": "stdout",
     "output_type": "stream",
     "text": [
      "local x\n",
      "global x\n"
     ]
    }
   ],
   "source": [
    "x = \"global x\"                   # Global namespace\n",
    "def print_variables():\n",
    "    x = \"local x\"                # Local namespace\n",
    "    print(x)                     # Uses the local x\n",
    "print_variables()                # Output: local x\n",
    "print(x)                         # Output: global x"
   ]
  },
  {
   "cell_type": "markdown",
   "id": "90752fd2",
   "metadata": {},
   "source": [
    "### LEGB Rule with Nested Functions:"
   ]
  },
  {
   "cell_type": "code",
   "execution_count": 2,
   "id": "afbea8ad",
   "metadata": {},
   "outputs": [
    {
     "name": "stdout",
     "output_type": "stream",
     "text": [
      "local x\n"
     ]
    }
   ],
   "source": [
    "def outer_function():\n",
    "    x = \"enclosing x\"           # Enclosing namespace\n",
    "    def inner_function():\n",
    "        x = \"local x\"           # Local namespace\n",
    "        print(x)\n",
    "    inner_function()\n",
    "outer_function()                # Output: local x "
   ]
  },
  {
   "cell_type": "markdown",
   "id": "43ae4069",
   "metadata": {},
   "source": [
    "### Shadowing Example:"
   ]
  },
  {
   "cell_type": "code",
   "execution_count": 3,
   "id": "e91ced2c",
   "metadata": {},
   "outputs": [
    {
     "name": "stdout",
     "output_type": "stream",
     "text": [
      "Restored built-in print\n"
     ]
    }
   ],
   "source": [
    "def print(): \n",
    "    print(\"This shadows the built-in print function\")\n",
    "    \n",
    "# Uncommenting the below line will raise an error\n",
    "# print(\"Hello\")                        # TypeError: 'NoneType' object is not callable\n",
    "\n",
    "# Restore built-in print by deleting the shadowed version\n",
    "del print\n",
    "print(\"Restored built-in print\")        # Output: Restored built-in print"
   ]
  },
  {
   "cell_type": "code",
   "execution_count": 4,
   "id": "e833cbac",
   "metadata": {},
   "outputs": [
    {
     "name": "stdout",
     "output_type": "stream",
     "text": [
      "-2\n"
     ]
    }
   ],
   "source": [
    "def sum(x, y):\n",
    "    z = x-y;\n",
    "    print(z);\n",
    "    \n",
    "x = 5;\n",
    "y = 7;\n",
    "sum(x, y)"
   ]
  },
  {
   "cell_type": "markdown",
   "id": "803f287b",
   "metadata": {},
   "source": [
    "### Class and Object Namespaces:"
   ]
  },
  {
   "cell_type": "code",
   "execution_count": 5,
   "id": "94800349",
   "metadata": {},
   "outputs": [
    {
     "name": "stdout",
     "output_type": "stream",
     "text": [
      "I am a class attribute\n",
      "I am a class attribute\n",
      "I am an instance attribute\n"
     ]
    }
   ],
   "source": [
    "class MyClass:\n",
    "    class_attr = \"I am a class attribute\"\n",
    "    \n",
    "    def __init__(self, value):\n",
    "        self.instance_attr = value                    # Object namespace\n",
    "        \n",
    "obj = MyClass(\"I am an instance attribute\")\n",
    "print(obj.class_attr)                                 # Output: I am a class attribute\n",
    "print(MyClass.class_attr)\n",
    "print(obj.instance_attr)                              # Output: I am an instance attribute"
   ]
  },
  {
   "cell_type": "markdown",
   "id": "14676d38",
   "metadata": {},
   "source": [
    "### [ Restart Kernel Here ]¶  \n",
    "## 1. Time Series  \n",
    "A <b>time series</b> is a sequence of data points ordered by time. These can be univariate (single observation per time point) or multivariate (multiple observations per time point).  \n",
    "\n",
    "<b>Example: Creating and plotting a simple time series</b>   "
   ]
  },
  {
   "cell_type": "code",
   "execution_count": 1,
   "id": "39e0ada4",
   "metadata": {},
   "outputs": [
    {
     "data": {
      "image/png": "[encoded data removed]",
      "text/plain": [
       "<Figure size 640x480 with 1 Axes>"
      ]
     },
     "metadata": {},
     "output_type": "display_data"
    }
   ],
   "source": [
    "import pandas as pd\n",
    "import matplotlib.pyplot as plt\n",
    "\n",
    "# Sample time series data\n",
    "data = {'Year': [2015, 2016, 2017, 2018, 2019], 'Temperature': [30.1, 31.5, 32.0, 32.8, 33.5]}\n",
    "df = pd.DataFrame(data)\n",
    "\n",
    "# Plotting the time series\n",
    "plt.plot(df['Year'], df['Temperature'], marker='o')\n",
    "plt.title('Sample Temperature Time Series')\n",
    "plt.xlabel('Year')\n",
    "plt.ylabel('Temperature (°C)')\n",
    "plt.show()"
   ]
  },
  {
   "cell_type": "markdown",
   "id": "76787c0a",
   "metadata": {},
   "source": [
    "### [ Restart Kernel Here ]¶  \n",
    "## 2. Simple Linear Regression\n",
    "Simple linear regression finds a <b>linear relationship</b> between an <b>independent variable (x)</b> and a <b>dependent variable (y).  </b>  \n",
    "  \n",
    "<b>Formula:</b>    \n",
    "<center><b>y=mx+by = mx + by=mx+b</b></center>  \n",
    "  \n",
    "Where:  \n",
    "* m: Slope of the line\n",
    "* b: Intercept\n",
    "* x: Independent variable\n",
    "* y: Dependent variable\n",
    "  \n",
    "### Example: Simple linear regression using linregress : "
   ]
  },
  {
   "cell_type": "code",
   "execution_count": 1,
   "id": "e6068e04",
   "metadata": {},
   "outputs": [
    {
     "data": {
      "image/png": "[encoded data removed]",
      "text/plain": [
       "<Figure size 640x480 with 1 Axes>"
      ]
     },
     "metadata": {},
     "output_type": "display_data"
    }
   ],
   "source": [
    "import pandas as pd\n",
    "import matplotlib.pyplot as plt\n",
    "from scipy.stats import linregress\n",
    "\n",
    "# Sample data\n",
    "data = {'Year': [2015, 2016, 2017, 2018, 2019],\n",
    " 'Temperature': [30.1, 31.5, 32.0, 32.8, 33.5]}\n",
    "df = pd.DataFrame(data)\n",
    "\n",
    "# Perform linear regression\n",
    "slope, intercept, r_value, p_value, std_err = linregress(df['Year'],\n",
    "df['Temperature'])\n",
    "\n",
    "# Make predictions\n",
    "df['Predicted_Temperature'] = slope * df['Year'] + intercept\n",
    "\n",
    "# Plot the data and regression line\n",
    "plt.scatter(df['Year'], df['Temperature'], label='Observed Data')\n",
    "plt.plot(df['Year'], df['Predicted_Temperature'], color='red',\n",
    "label='Regression Line')\n",
    "plt.legend()\n",
    "plt.title('Simple Linear Regression Example')\n",
    "plt.xlabel('Year')\n",
    "plt.ylabel('Temperature (°C)')\n",
    "plt.show() \n",
    "# plt.savefig(\"D:\\...\", dpi=500) #to download the graph"
   ]
  },
  {
   "cell_type": "markdown",
   "id": "cda8136c",
   "metadata": {},
   "source": [
    "## 3. Loading and Cleaning Data  \n",
    "Often, data cleaning involves renaming columns and converting data types for easier analysis.  \n",
    "### Example: Loading and cleaning CSV data:  "
   ]
  },
  {
   "cell_type": "code",
   "execution_count": 2,
   "id": "366664fa",
   "metadata": {},
   "outputs": [
    {
     "name": "stdout",
     "output_type": "stream",
     "text": [
      "     Date  Temperature  Anomaly  Year\n",
      "0  189501         34.2     -3.2  1895\n",
      "1  189601         34.7     -2.7  1896\n",
      "2  189701         35.5     -1.9  1897\n",
      "3  189801         39.6      2.2  1898\n",
      "4  189901         36.4     -1.0  1899\n"
     ]
    }
   ],
   "source": [
    "# Load data from CSV file\n",
    "df = pd.read_csv('ave_hi_nyc_jan_1895-2018.csv')\n",
    "\n",
    "# Rename column for better readability\n",
    "df.rename(columns={'Value': 'Temperature'}, inplace=True)\n",
    "\n",
    "# Convert 'Date' to year format by integer division\n",
    "df['Year'] = df['Date'] // 100\n",
    "print(df.head())"
   ]
  },
  {
   "cell_type": "markdown",
   "id": "72664ca1",
   "metadata": {},
   "source": [
    "## 4. Descriptive Statistics   \n",
    "Use <b>.describe()</b> to get a summary of key statistics for a DataFrame.  \n",
    "### Example: Quick statistics:  "
   ]
  },
  {
   "cell_type": "code",
   "execution_count": 3,
   "id": "29c8f6fe",
   "metadata": {},
   "outputs": [
    {
     "name": "stdout",
     "output_type": "stream",
     "text": [
      "count    124.000000\n",
      "mean      37.595161\n",
      "std        4.539848\n",
      "min       26.100000\n",
      "25%       34.575000\n",
      "50%       37.600000\n",
      "75%       40.600000\n",
      "max       47.600000\n",
      "Name: Temperature, dtype: float64\n"
     ]
    }
   ],
   "source": [
    "print(df['Temperature'].describe())"
   ]
  },
  {
   "cell_type": "markdown",
   "id": "a5d0de09",
   "metadata": {},
   "source": [
    "## 5. Forecasting Future Values  \n",
    "Use the regression equation (y=mx+b)(y = mx + b)(y=mx+b) to predict future values.  \n",
    "### Example: Forecasting a future temperature:  \n",
    "```python\n",
    "# Forecast temperature for 2025\n",
    "year = 2025\n",
    "predicted_temperature = slope * year + intercept\n",
    "print(f'Predicted January high temperature for {year}:\n",
    "{predicted_temperature:.2f}°F')\n",
    "```\n",
    "  \n",
    "<hr>  \n",
    "  \n",
    "## 6. Plotting with Seaborn\n",
    "Seaborn provides a high-level interface for creating plots, including regression plots.  \n",
    "### Example: Regression plot with Seaborn:\n",
    "```python\n",
    "import seaborn as sns\n",
    "\n",
    "# Regression plot\n",
    "sns.regplot(x='Year', y='Temperature', data=df)\n",
    "plt.title('Regression Plot of January Temperatures')\n",
    "plt.show()\n",
    "```\n",
    "  \n",
    "    \n",
    "### Key Takeaways:\n",
    "1. <b>Time series data</b> is essential for trend analysis and forecasting.\n",
    "1. <b>Simple linear regression</b> fits a straight line to predict outcomes based on independent variables.\n",
    "1. <b>Data cleaning</b> ensures better readability and processing efficiency.\n",
    "1. <b>Descriptive statistics</b> provide insights into the data.\n",
    "1. <b>Forecasting</b> uses regression to estimate future values.\n",
    "1. <b>Visualization</b> with Seaborn enhances data interpretation. "
   ]
  },
  {
   "cell_type": "code",
   "execution_count": null,
   "id": "761beeb1",
   "metadata": {},
   "outputs": [],
   "source": []
  }
 ],
 "metadata": {
  "kernelspec": {
   "display_name": "Python 3 (ipykernel)",
   "language": "python",
   "name": "python3"
  },
  "language_info": {
   "codemirror_mode": {
    "name": "ipython",
    "version": 3
   },
   "file_extension": ".py",
   "mimetype": "text/x-python",
   "name": "python",
   "nbconvert_exporter": "python",
   "pygments_lexer": "ipython3",
   "version": "3.12.4"
  }
 },
 "nbformat": 4,
 "nbformat_minor": 5
}
