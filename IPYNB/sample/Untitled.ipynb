{
 "cells": [
  {
   "cell_type": "code",
   "execution_count": null,
   "id": "3c3bba99-f9bd-402a-970e-2df6907daadd",
   "metadata": {},
   "outputs": [],
   "source": [
    "# (a) Create a CSV file named iris_subset.csv:\n",
    "```\n",
    "SepalLength,SepalWidth,PetalLength,PetalWidth,Class\n",
    "5.1,3.5,1.4,0.2,setosa\n",
    "4.9,3.0,1.4,0.2,setosa\n",
    "4.6,3.1,1.5,0.2,setosa\n",
    "4.7,3.2,1.3,0.2,setosa\n",
    "7.0,3.2,4.5,1.5,versicolor\n",
    "6.4,3.2,4.5,1.5,versicolor\n",
    "6.9,3.1,4.9,1.5,versicolor\n",
    "6.3,3.3,6.0,2.5,virginica\n",
    "7.1,3.0,5.9,2.1,virginica\n",
    "6.3,2.9,5.6,1.8,virginica\n",
    "\n",
    "Save the above as iris_subset.csv.\n",
    "```"
   ]
  },
  {
   "cell_type": "code",
   "execution_count": null,
   "id": "757e77a3-8263-4671-a525-20d1a59e8395",
   "metadata": {},
   "outputs": [],
   "source": [
    "# (b) Python code to read and display the dataset:\n",
    "\n",
    "import pandas as pd\n",
    "\n",
    "# Read CSV\n",
    "df = pd.read_csv('iris_subset.csv')\n",
    "\n",
    "# Display the dataset\n",
    "print(df)"
   ]
  },
  {
   "cell_type": "code",
   "execution_count": null,
   "id": "411ba210-5e4f-4d94-88b0-a8827c72df75",
   "metadata": {},
   "outputs": [],
   "source": [
    "# 2. (a) Statistical Analysis and Visualization\n",
    "\n",
    "import pandas as pd\n",
    "import numpy as np\n",
    "import matplotlib.pyplot as plt\n",
    "\n",
    "# Load dataset\n",
    "df = pd.read_csv('iris_subset.csv')\n",
    "\n",
    "# Calculate standard deviations\n",
    "std_devs = df[['SepalLength', 'SepalWidth', 'PetalLength', 'PetalWidth']].std()\n",
    "print(\"Standard Deviations:\\n\", std_devs)\n",
    "\n",
    "# Scatter plot: Sepal Length vs Sepal Width\n",
    "plt.scatter(df['SepalLength'], df['SepalWidth'], c='blue', edgecolors='k')\n",
    "plt.xlabel('Sepal Length (cm)')\n",
    "plt.ylabel('Sepal Width (cm)')\n",
    "plt.title('Sepal Length vs Sepal Width')\n",
    "plt.grid(True)\n",
    "plt.show()"
   ]
  },
  {
   "cell_type": "code",
   "execution_count": null,
   "id": "57fc7ba6-b618-471d-ab49-afe4f76d8d9e",
   "metadata": {},
   "outputs": [],
   "source": [
    "# (b) KNN Classification\n",
    "\n",
    "from sklearn.preprocessing import LabelEncoder\n",
    "from sklearn.neighbors import KNeighborsClassifier\n",
    "\n",
    "# Encode class labels\n",
    "le = LabelEncoder()\n",
    "df['ClassEncoded'] = le.fit_transform(df['Class'])\n",
    "\n",
    "# Features and target\n",
    "X = df[['SepalLength', 'SepalWidth', 'PetalLength', 'PetalWidth']]\n",
    "y = df['ClassEncoded']\n",
    "\n",
    "# KNN with k=3\n",
    "knn = KNeighborsClassifier(n_neighbors=3)\n",
    "knn.fit(X, y)\n",
    "\n",
    "# Predict new sample\n",
    "new_sample = [[6.3, 2.8, 5.1, 1.5]]\n",
    "predicted = knn.predict(new_sample)\n",
    "predicted_class = le.inverse_transform(predicted)\n",
    "\n",
    "print(\"Predicted class for [6.3, 2.8, 5.1, 1.5]:\", predicted_class[0])"
   ]
  },
  {
   "cell_type": "code",
   "execution_count": null,
   "id": "72b57cf3-4ca4-4f9c-a349-987a6b7dab96",
   "metadata": {},
   "outputs": [],
   "source": [
    "# (b) KNN Classification with manual mapping:\n",
    "\n",
    "# Manual mapping\n",
    "class_map = {'setosa': 0, 'versicolor': 1, 'virginica': 2}\n",
    "df['ClassEncoded'] = df['Class'].map(class_map)\n",
    "\n",
    "# Then use this for training\n",
    "X = df[['SepalLength', 'SepalWidth', 'PetalLength', 'PetalWidth']]\n",
    "y = df['ClassEncoded']\n",
    "\n",
    "# Train KNN\n",
    "from sklearn.neighbors import KNeighborsClassifier\n",
    "knn = KNeighborsClassifier(n_neighbors=3)\n",
    "knn.fit(X, y)\n",
    "\n",
    "# Predict a new sample\n",
    "new_sample = [[6.3, 2.8, 5.1, 1.5]]\n",
    "pred = knn.predict(new_sample)\n",
    "\n",
    "# Reverse map the prediction\n",
    "reverse_map = {v: k for k, v in class_map.items()}\n",
    "print(\"Predicted class:\", reverse_map[pred[0]])\n",
    "\n"
   ]
  }
 ],
 "metadata": {
  "kernelspec": {
   "display_name": "Python 3 (ipykernel)",
   "language": "python",
   "name": "python3"
  },
  "language_info": {
   "codemirror_mode": {
    "name": "ipython",
    "version": 3
   },
   "file_extension": ".py",
   "mimetype": "text/x-python",
   "name": "python",
   "nbconvert_exporter": "python",
   "pygments_lexer": "ipython3",
   "version": "3.12.4"
  }
 },
 "nbformat": 4,
 "nbformat_minor": 5
}
