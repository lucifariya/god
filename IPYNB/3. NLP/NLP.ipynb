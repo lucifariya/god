{
 "cells": [
  {
   "cell_type": "markdown",
   "id": "7e4adabd",
   "metadata": {},
   "source": [
    "# Natural Language Processing [ NLP ]\n",
    "### github : https://github.com/pdeitel/IntroToPython/tree/master/examples/ch12 \n",
    "### book   : http://localhost:8888/files/2241016309/Python%202/Python%20Book.pdf \n",
    "            (only works in lab comp)"
   ]
  },
  {
   "cell_type": "markdown",
   "id": "2286ccd5",
   "metadata": {},
   "source": [
    "## TextBlob:  \n",
    "  \n",
    "**TextBlob is an object-oriented NLP text-processing library that is built on the NLTK and\n",
    "pattern NLP libraries and simplifies many of their capabilities**  \n",
    "  \n",
    "**Installing the TextBlob Module:**  \n",
    "To install TextBlob, open your Anaconda Prompt (Windows), Terminal (macOS/Linux) or shell (Linux), then execute the following command:\n",
    "> conda install -c conda-forge textblob  \n",
    "  \n",
    "Windows users might need to run the Anaconda Prompt as an Administrator for proper software installation privileges. To do so, right-click Anaconda Prompt in the start menu and select More > Run as administrator.\n",
    "Once installation completes, execute the following command to download the NLTK corpora used by TextBlob:\n",
    "> ipython -m textblob.download_corpora  \n",
    "  \n",
    "These include:  \n",
    "* The Brown Corpus (created at Brown University4) for parts-of-speech tagging.  \n",
    "* Punkt for English sentence tokenization.  \n",
    "* WordNet for word definitions, synonyms and antonyms.  \n",
    "* Averaged Perceptron Tagger for parts-of-speech tagging.  \n",
    "* conll2000 for breaking text into components, like nouns, verbs, noun phrasesand more—known as chunking the text. The name conll2000 is from the conference that created the chunking data—Conference on Computational Natural Language Learning.  \n",
    "* Movie Reviews for sentiment analysis.  \n",
    "  \n",
    "### **Creating a TextBlob :**  "
   ]
  },
  {
   "cell_type": "code",
   "execution_count": 1,
   "id": "82a0ffd1",
   "metadata": {},
   "outputs": [
    {
     "data": {
      "text/plain": [
       "TextBlob(\"Today is a beautiful day. Tomorrow looks like bad weather.\")"
      ]
     },
     "execution_count": 1,
     "metadata": {},
     "output_type": "execute_result"
    }
   ],
   "source": [
    "from textblob import TextBlob\n",
    "\n",
    "text = 'Today is a beautiful day. Tomorrow looks like bad weather.'\n",
    "blob = TextBlob(text)\n",
    "\n",
    "blob"
   ]
  },
  {
   "cell_type": "markdown",
   "id": "8777fdeb",
   "metadata": {},
   "source": [
    "TextBlobs—and, as you’ll see shortly, Sentences and Words—support string methods and can be compared with strings. They also provide methods for various NLP tasks. Sentences, Words and TextBlobs inherit from BaseBlob, so they have many common methods and properties. \n",
    "  \n",
    "### **Tokenizing Text into Sentences and Words :**  \n",
    "Natural language processing often requires tokenizing text before performing other NLP tasks. TextBlob provides convenient properties for accessing the sentences and words in TextBlobs. Let’s use the **sentence property** to get a list of **Sentence** objects:"
   ]
  },
  {
   "cell_type": "code",
   "execution_count": 2,
   "id": "b4de102d",
   "metadata": {},
   "outputs": [
    {
     "data": {
      "text/plain": [
       "[Sentence(\"Today is a beautiful day.\"),\n",
       " Sentence(\"Tomorrow looks like bad weather.\")]"
      ]
     },
     "execution_count": 2,
     "metadata": {},
     "output_type": "execute_result"
    }
   ],
   "source": [
    "blob.sentences"
   ]
  },
  {
   "cell_type": "markdown",
   "id": "1462b3ae",
   "metadata": {},
   "source": [
    "The **words property** returns a **WordList** object containing a list of **Word** objects, representing each word in the TextBlob with the punctuation removed:"
   ]
  },
  {
   "cell_type": "code",
   "execution_count": 3,
   "id": "0892664f",
   "metadata": {},
   "outputs": [
    {
     "data": {
      "text/plain": [
       "WordList(['Today', 'is', 'a', 'beautiful', 'day', 'Tomorrow', 'looks', 'like', 'bad', 'weather'])"
      ]
     },
     "execution_count": 3,
     "metadata": {},
     "output_type": "execute_result"
    }
   ],
   "source": [
    "blob.words"
   ]
  },
  {
   "cell_type": "markdown",
   "id": "1358d3b8",
   "metadata": {},
   "source": [
    "**Question:** Create a TextBlob with two sentences, then tokenize it into Sentences and Words, displaying all the tokens."
   ]
  },
  {
   "cell_type": "code",
   "execution_count": 4,
   "id": "86177443",
   "metadata": {},
   "outputs": [],
   "source": [
    "ex = TextBlob('My old computer is slow. My new one is fast.')"
   ]
  },
  {
   "cell_type": "code",
   "execution_count": 5,
   "id": "afef46ea",
   "metadata": {},
   "outputs": [
    {
     "data": {
      "text/plain": [
       "[Sentence(\"My old computer is slow.\"), Sentence(\"My new one is fast.\")]"
      ]
     },
     "execution_count": 5,
     "metadata": {},
     "output_type": "execute_result"
    }
   ],
   "source": [
    "ex.sentences"
   ]
  },
  {
   "cell_type": "code",
   "execution_count": 6,
   "id": "26d201a8",
   "metadata": {},
   "outputs": [
    {
     "data": {
      "text/plain": [
       "WordList(['My', 'old', 'computer', 'is', 'slow', 'My', 'new', 'one', 'is', 'fast'])"
      ]
     },
     "execution_count": 6,
     "metadata": {},
     "output_type": "execute_result"
    }
   ],
   "source": [
    "ex.words"
   ]
  },
  {
   "cell_type": "markdown",
   "id": "b7f91fe9",
   "metadata": {},
   "source": [
    "### Parts-of-Speech Tagging :\n",
    "  \n",
    "**Parts-of-speech (POS) tagging** is the process of evaluating words based on their context\n",
    "to determine each word’s part of speech. There are eight primary English parts of speech—\n",
    "nouns, pronouns, verbs, adjectives, adverbs, prepositions, conjunctions and interjections\n",
    "(words that express emotion and that are typically followed by punctuation, like “Yes!” or\n",
    "“Ha!”). Within each category there are many subcategories.\n",
    "Some words have multiple meanings. For example, the words “set” and “run” have\n",
    "hundreds of meanings each! If you look at the dictionary.com definitions of the word\n",
    "“run,” you’ll see that it can be a verb, a noun, an adjective or a part of a verb phrase. An\n",
    "important use of POS tagging is determining a word’s meaning among its possibly many\n",
    "meanings. This is important for helping computers “understand” natural language.\n",
    "The **tags property** returns a list of tuples, each containing a word and a string representing its part-of-speech tag: "
   ]
  },
  {
   "cell_type": "code",
   "execution_count": 7,
   "id": "2fb12778",
   "metadata": {},
   "outputs": [
    {
     "data": {
      "text/plain": [
       "TextBlob(\"Today is a beautiful day. Tomorrow looks like bad weather.\")"
      ]
     },
     "execution_count": 7,
     "metadata": {},
     "output_type": "execute_result"
    }
   ],
   "source": [
    "blob"
   ]
  },
  {
   "cell_type": "code",
   "execution_count": 8,
   "id": "a8cf661b",
   "metadata": {},
   "outputs": [
    {
     "data": {
      "text/plain": [
       "[('Today', 'NN'),\n",
       " ('is', 'VBZ'),\n",
       " ('a', 'DT'),\n",
       " ('beautiful', 'JJ'),\n",
       " ('day', 'NN'),\n",
       " ('Tomorrow', 'NNP'),\n",
       " ('looks', 'VBZ'),\n",
       " ('like', 'IN'),\n",
       " ('bad', 'JJ'),\n",
       " ('weather', 'NN')]"
      ]
     },
     "execution_count": 8,
     "metadata": {},
     "output_type": "execute_result"
    }
   ],
   "source": [
    "blob.tags"
   ]
  },
  {
   "cell_type": "code",
   "execution_count": 9,
   "id": "42cd4b40",
   "metadata": {},
   "outputs": [
    {
     "data": {
      "text/plain": [
       "WordList(['beautiful day', 'tomorrow', 'bad weather'])"
      ]
     },
     "execution_count": 9,
     "metadata": {},
     "output_type": "execute_result"
    }
   ],
   "source": [
    "blob.noun_phrases     #extracting nouns "
   ]
  },
  {
   "cell_type": "markdown",
   "id": "94056b8b",
   "metadata": {},
   "source": [
    "### Sentiment Analysis with TextBlob’s Default Sentiment Analyzer  \n",
    "  \n",
    "One of the most common and valuable NLP tasks is **sentiment analysis**, which determines\n",
    "whether text is positive, neutral or negative. For instance, companies might use this to\n",
    "determine whether people are speaking positively or negatively online about their products. Consider the positive word “good” and the negative word “bad.” Just because a sentence contains “good” or “bad” does not mean the sentence’s sentiment necessarily is\n",
    "positive or negative. For example, the sentence  \n",
    "  \n",
    "> The food is not good.  \n",
    "  \n",
    "clearly has negative sentiment. Similarly, the sentence  \n",
    "  \n",
    "> The movie was not bad.  \n",
    "\n",
    "clearly has positive sentiment, though perhaps not as positive as something like  \n",
    "  \n",
    "> The movie was excellent!  \n",
    "  \n",
    "Sentiment analysis is a complex machine-learning problem. However, libraries like\n",
    "TextBlob have pretrained machine learning models for performing sentiment analysis.  \n",
    "  \n",
    "### Getting the Sentiment of a TextBlob  \n",
    "  \n",
    "A TextBlob’s **sentiment property** returns a **Sentiment**  object indicating whether the text\n",
    "is positive or negative and whether it’s objective or subjective: "
   ]
  },
  {
   "cell_type": "code",
   "execution_count": 10,
   "id": "59948d60",
   "metadata": {},
   "outputs": [
    {
     "data": {
      "text/plain": [
       "Sentiment(polarity=0.07500000000000007, subjectivity=0.8333333333333333)"
      ]
     },
     "execution_count": 10,
     "metadata": {},
     "output_type": "execute_result"
    }
   ],
   "source": [
    "blob.sentiment"
   ]
  },
  {
   "cell_type": "code",
   "execution_count": 11,
   "id": "3dfcdaa2",
   "metadata": {},
   "outputs": [
    {
     "data": {
      "text/plain": [
       "'%.3f'"
      ]
     },
     "execution_count": 11,
     "metadata": {},
     "output_type": "execute_result"
    }
   ],
   "source": [
    " %precision 3"
   ]
  },
  {
   "cell_type": "code",
   "execution_count": 12,
   "id": "d2d4a3ce",
   "metadata": {},
   "outputs": [
    {
     "data": {
      "text/plain": [
       "0.075"
      ]
     },
     "execution_count": 12,
     "metadata": {},
     "output_type": "execute_result"
    }
   ],
   "source": [
    "blob.sentiment.polarity"
   ]
  },
  {
   "cell_type": "code",
   "execution_count": 13,
   "id": "0d2ebe1b",
   "metadata": {},
   "outputs": [
    {
     "data": {
      "text/plain": [
       "0.833"
      ]
     },
     "execution_count": 13,
     "metadata": {},
     "output_type": "execute_result"
    }
   ],
   "source": [
    "blob.sentiment.subjectivity"
   ]
  },
  {
   "cell_type": "code",
   "execution_count": 14,
   "id": "9d323dd9",
   "metadata": {},
   "outputs": [
    {
     "name": "stdout",
     "output_type": "stream",
     "text": [
      "Sentiment(polarity=0.85, subjectivity=1.0)\n",
      "Sentiment(polarity=-0.6999999999999998, subjectivity=0.6666666666666666)\n"
     ]
    }
   ],
   "source": [
    "for sentence in blob.sentences:\n",
    "    print(sentence.sentiment)"
   ]
  },
  {
   "cell_type": "code",
   "execution_count": 15,
   "id": "fe9d181c",
   "metadata": {},
   "outputs": [
    {
     "data": {
      "text/plain": [
       "Sentiment(polarity=-0.35, subjectivity=0.6000000000000001)"
      ]
     },
     "execution_count": 15,
     "metadata": {},
     "output_type": "execute_result"
    }
   ],
   "source": [
    "from textblob import Sentence\n",
    "\n",
    "Sentence('The food is not good.').sentiment"
   ]
  },
  {
   "cell_type": "code",
   "execution_count": 16,
   "id": "6e13a47e",
   "metadata": {},
   "outputs": [
    {
     "data": {
      "text/plain": [
       "Sentiment(polarity=0.3499999999999999, subjectivity=0.6666666666666666)"
      ]
     },
     "execution_count": 16,
     "metadata": {},
     "output_type": "execute_result"
    }
   ],
   "source": [
    "Sentence('The movie was not bad.').sentiment"
   ]
  },
  {
   "cell_type": "code",
   "execution_count": 17,
   "id": "5fbbba92",
   "metadata": {},
   "outputs": [
    {
     "data": {
      "text/plain": [
       "Sentiment(polarity=1.0, subjectivity=1.0)"
      ]
     },
     "execution_count": 17,
     "metadata": {},
     "output_type": "execute_result"
    }
   ],
   "source": [
    "Sentence('The movie was excellent!').sentiment"
   ]
  },
  {
   "cell_type": "markdown",
   "id": "1fa2ad35",
   "metadata": {},
   "source": [
    "### Sentiment Analysis with the NaiveBayesAnalyzer:  \n",
    "By default, a TextBlob and the Sentences and Words you get from it determine sentiment\n",
    "using a PatternAnalyzer, which uses the same sentiment analysis techniques as in the Pattern library. The TextBlob library also comes with a **NaiveBayesAnalyzer** (module **textblob.sentiments**), which was trained on a database of movie reviews. Naive Bayes10 is a\n",
    "commonly used machine learning text-classification algorithm. The following uses the\n",
    "analyzer keyword argument to specify a TextBlob’s sentiment analyzer. Recall from earlier in this ongoing IPython session that text contains 'Today is a beautiful day.\n",
    "Tomorrow looks like bad weather.':"
   ]
  },
  {
   "cell_type": "code",
   "execution_count": 18,
   "id": "531eadca",
   "metadata": {},
   "outputs": [
    {
     "data": {
      "text/plain": [
       "TextBlob(\"Today is a beautiful day. Tomorrow looks like bad weather.\")"
      ]
     },
     "execution_count": 18,
     "metadata": {},
     "output_type": "execute_result"
    }
   ],
   "source": [
    "from textblob.sentiments import NaiveBayesAnalyzer\n",
    "    \n",
    "blob = TextBlob(text, analyzer=NaiveBayesAnalyzer())\n",
    "\n",
    "blob"
   ]
  },
  {
   "cell_type": "code",
   "execution_count": 19,
   "id": "889066da",
   "metadata": {},
   "outputs": [
    {
     "data": {
      "text/plain": [
       "Sentiment(classification='neg', p_pos=0.47662917962091056, p_neg=0.5233708203790892)"
      ]
     },
     "execution_count": 19,
     "metadata": {},
     "output_type": "execute_result"
    }
   ],
   "source": [
    "blob.sentiment"
   ]
  },
  {
   "cell_type": "code",
   "execution_count": 20,
   "id": "7bdb9498",
   "metadata": {},
   "outputs": [
    {
     "name": "stdout",
     "output_type": "stream",
     "text": [
      "Sentiment(classification='pos', p_pos=0.8117563121751951, p_neg=0.18824368782480477)\n",
      "Sentiment(classification='neg', p_pos=0.174363226578349, p_neg=0.8256367734216521)\n"
     ]
    }
   ],
   "source": [
    "for sentence in blob.sentences:\n",
    "    print(sentence.sentiment)"
   ]
  },
  {
   "cell_type": "markdown",
   "id": "0ec632c5",
   "metadata": {},
   "source": [
    "[ Restart Kernel Here ]  \n",
    "  \n",
    "###  Inflection: Pluralization and Singularization  \n",
    "  \n",
    "**Inflections** are different forms of the same words, such as singular and plural (like “person”\n",
    "and “people”) and different verb tenses (like “run” and “ran”). When you’re calculating\n",
    "word frequencies, you might first want to convert all inflected words to the same form for\n",
    "more accurate word frequencies. Words and WordLists each support converting words to\n",
    "their singular or plural forms. Let’s pluralize and singularize a couple of Word objects:"
   ]
  },
  {
   "cell_type": "code",
   "execution_count": 1,
   "id": "c8e7b0b8",
   "metadata": {},
   "outputs": [
    {
     "data": {
      "text/plain": [
       "'indices'"
      ]
     },
     "execution_count": 1,
     "metadata": {},
     "output_type": "execute_result"
    }
   ],
   "source": [
    "from textblob import Word\n",
    "\n",
    "index = Word('index')\n",
    "\n",
    "index.pluralize()"
   ]
  },
  {
   "cell_type": "code",
   "execution_count": 2,
   "id": "b251c537",
   "metadata": {},
   "outputs": [
    {
     "data": {
      "text/plain": [
       "'cactus'"
      ]
     },
     "execution_count": 2,
     "metadata": {},
     "output_type": "execute_result"
    }
   ],
   "source": [
    "cacti = Word('cacti')\n",
    "cacti.singularize()"
   ]
  },
  {
   "cell_type": "markdown",
   "id": "a2caa369",
   "metadata": {},
   "source": [
    "Pluralizing and singularizing are sophisticated tasks which, as you can see above, are\n",
    "not as simple as adding or removing an “s” or “es” at the end of a word.\n",
    "You can do the same with a WordList: "
   ]
  },
  {
   "cell_type": "code",
   "execution_count": 3,
   "id": "b198a9be",
   "metadata": {},
   "outputs": [
    {
     "data": {
      "text/plain": [
       "WordList(['dogs', 'cats', 'fish', 'birds'])"
      ]
     },
     "execution_count": 3,
     "metadata": {},
     "output_type": "execute_result"
    }
   ],
   "source": [
    "from textblob import TextBlob\n",
    "\n",
    "animals = TextBlob('dog cat fish bird').words\n",
    "animals.pluralize()    #“fish” is the same in both its singular and plural forms."
   ]
  },
  {
   "cell_type": "markdown",
   "id": "d43db846",
   "metadata": {},
   "source": [
    "### Spell Checking and Correction  \n",
    "For natural language processing tasks, it’s important that the text be free of spelling errors.\n",
    "Software packages for writing and editing text, like Microsoft Word, Google Docs and\n",
    "others automatically check your spelling as you type and typically display a red line under\n",
    "misspelled words. Other tools enable you to manually invoke a spelling checker.  \n",
    "  \n",
    "You can check a Word’s spelling with its **spellcheck method**, which returns a list of\n",
    "tuples containing possible correct spellings and a confidence value. Let’s assume we meant\n",
    "to type the word “they” but we misspelled it as “theyr.” The spell checking results show\n",
    "two possible corrections with the word 'they' having the highest confidence value:"
   ]
  },
  {
   "cell_type": "code",
   "execution_count": 4,
   "id": "69f31c24",
   "metadata": {},
   "outputs": [],
   "source": [
    " word = Word('theyr')"
   ]
  },
  {
   "cell_type": "code",
   "execution_count": 5,
   "id": "a243f2a2",
   "metadata": {},
   "outputs": [
    {
     "data": {
      "text/plain": [
       "'%.2f'"
      ]
     },
     "execution_count": 5,
     "metadata": {},
     "output_type": "execute_result"
    }
   ],
   "source": [
    "%precision 2"
   ]
  },
  {
   "cell_type": "code",
   "execution_count": 6,
   "id": "967f92ed",
   "metadata": {},
   "outputs": [
    {
     "data": {
      "text/plain": [
       "[('they', 0.57), ('their', 0.43)]"
      ]
     },
     "execution_count": 6,
     "metadata": {},
     "output_type": "execute_result"
    }
   ],
   "source": [
    " word.spellcheck()"
   ]
  },
  {
   "cell_type": "markdown",
   "id": "e16bd1b1",
   "metadata": {},
   "source": [
    "Note that the word with the highest confidence value might not be the correct word for\n",
    "the given context.  \n",
    "  \n",
    "TextBlobs, Sentences and Words all have a **correct method** that you can call to correct spelling. Calling correct on a Word returns the correctly spelled word that has the\n",
    "highest confidence value (as returned by spellcheck):"
   ]
  },
  {
   "cell_type": "code",
   "execution_count": 7,
   "id": "9236bdc2",
   "metadata": {},
   "outputs": [
    {
     "data": {
      "text/plain": [
       "'they'"
      ]
     },
     "execution_count": 7,
     "metadata": {},
     "output_type": "execute_result"
    }
   ],
   "source": [
    "word.correct() # chooses word with the highest confidence value"
   ]
  },
  {
   "cell_type": "markdown",
   "id": "8b293e3d",
   "metadata": {},
   "source": [
    "Calling correct on a TextBlob or Sentence checks the spelling of each word. For each\n",
    "incorrect word, correct replaces it with the correctly spelled one that has the highest confidence value: "
   ]
  },
  {
   "cell_type": "code",
   "execution_count": 8,
   "id": "72afb991",
   "metadata": {},
   "outputs": [
    {
     "data": {
      "text/plain": [
       "TextBlob(\"The sentence has misspelled words.\")"
      ]
     },
     "execution_count": 8,
     "metadata": {},
     "output_type": "execute_result"
    }
   ],
   "source": [
    "sentence = TextBlob('Ths sentense has missplled wrds.')\n",
    "sentence.correct()"
   ]
  },
  {
   "cell_type": "markdown",
   "id": "45ac5223",
   "metadata": {},
   "source": [
    "[ Restart Kernel ]  \n",
    "  \n",
    "### Normalization: Stemming and Lemmatization :  \n",
    "  \n",
    "**Stemming** removes a prefix or suffix from a word leaving only a stem, which may or may\n",
    "not be a real word. **Lemmatization** is similar, but factors in the word’s part of speech and\n",
    "meaning and results in a real word.  \n",
    "  \n",
    "Stemming and lemmatization are **normalization** operations, in which you prepare\n",
    "words for analysis. For example, before calculating statistics on words in a body of text,\n",
    "you might convert all words to lowercase so that capitalized and lowercase words are not\n",
    "treated differently. Sometimes, you might want to use a word’s root to represent the word’s\n",
    "many forms. For example, in a given application, you might want to treat all of the following words as “program”: program, programs, programmer, programming and programmed (and perhaps U.K. English spellings, like programmes as well).\n",
    "Words and WordLists each support stemming and lemmatization via the methods\n",
    "**stem** and **lemmatize**. Let’s use both on a Word:"
   ]
  },
  {
   "cell_type": "code",
   "execution_count": 1,
   "id": "af04e6c8",
   "metadata": {},
   "outputs": [],
   "source": [
    "from textblob import Word\n",
    "    \n",
    "word = Word('varieties')"
   ]
  },
  {
   "cell_type": "code",
   "execution_count": 2,
   "id": "1cfa4484",
   "metadata": {},
   "outputs": [
    {
     "data": {
      "text/plain": [
       "'varieti'"
      ]
     },
     "execution_count": 2,
     "metadata": {},
     "output_type": "execute_result"
    }
   ],
   "source": [
    "word.stem()"
   ]
  },
  {
   "cell_type": "code",
   "execution_count": 3,
   "id": "8a82e45f",
   "metadata": {},
   "outputs": [
    {
     "data": {
      "text/plain": [
       "'variety'"
      ]
     },
     "execution_count": 3,
     "metadata": {},
     "output_type": "execute_result"
    }
   ],
   "source": [
    "word.lemmatize()"
   ]
  },
  {
   "cell_type": "markdown",
   "id": "4fbf34b5",
   "metadata": {},
   "source": [
    "[Restart Kernel]  \n",
    "  \n",
    "### Word Frequencies  \n",
    "  \n",
    "Various techniques for detecting similarity between documents rely on word frequencies.\n",
    "As you’ll see here, TextBlob automatically counts word frequencies. First, let’s load the ebook for Shakespeare’s Romeo and Juliet into a TextBlob. To do so, we’ll use the **Path class** from the Python Standard Library’s **pathlib module**:"
   ]
  },
  {
   "cell_type": "code",
   "execution_count": 1,
   "id": "a1a43b9b",
   "metadata": {},
   "outputs": [],
   "source": [
    "from pathlib import Path\n",
    "from textblob import TextBlob\n",
    "\n",
    "blob = TextBlob(Path('RomeoAndJuliet.txt').read_text())"
   ]
  },
  {
   "cell_type": "markdown",
   "id": "92d938d2",
   "metadata": {},
   "source": [
    "When you read a file with Path’s **read_text\n",
    "method**, it closes the file immediately after it finishes reading the file.\n",
    "You can access the word frequencies through the TextBlob’s **word_counts dictionary**.\n",
    "Let’s get the counts of several words in the play:"
   ]
  },
  {
   "cell_type": "code",
   "execution_count": 2,
   "id": "3ace1cab",
   "metadata": {},
   "outputs": [
    {
     "data": {
      "text/plain": [
       "190"
      ]
     },
     "execution_count": 2,
     "metadata": {},
     "output_type": "execute_result"
    }
   ],
   "source": [
    "blob.word_counts['juliet']"
   ]
  },
  {
   "cell_type": "code",
   "execution_count": 3,
   "id": "fdaa318e",
   "metadata": {},
   "outputs": [
    {
     "data": {
      "text/plain": [
       "315"
      ]
     },
     "execution_count": 3,
     "metadata": {},
     "output_type": "execute_result"
    }
   ],
   "source": [
    "blob.word_counts['romeo']"
   ]
  },
  {
   "cell_type": "code",
   "execution_count": 4,
   "id": "aeb404f7",
   "metadata": {},
   "outputs": [
    {
     "data": {
      "text/plain": [
       "278"
      ]
     },
     "execution_count": 4,
     "metadata": {},
     "output_type": "execute_result"
    }
   ],
   "source": [
    "blob.word_counts['thou']"
   ]
  },
  {
   "cell_type": "markdown",
   "id": "53fecbd6",
   "metadata": {},
   "source": [
    "If you already have tokenized a TextBlob into a WordList, you can count specific\n",
    "words in the list via the **count method**."
   ]
  },
  {
   "cell_type": "code",
   "execution_count": 5,
   "id": "091b4930",
   "metadata": {},
   "outputs": [
    {
     "data": {
      "text/plain": [
       "14"
      ]
     },
     "execution_count": 5,
     "metadata": {},
     "output_type": "execute_result"
    }
   ],
   "source": [
    "blob.words.count('joy')"
   ]
  },
  {
   "cell_type": "code",
   "execution_count": null,
   "id": "63baaf7e",
   "metadata": {},
   "outputs": [],
   "source": [
    "blob.noun_phrases.count('lady capulet')"
   ]
  },
  {
   "cell_type": "markdown",
   "id": "41d0ea06",
   "metadata": {},
   "source": [
    "[ Restart Kernel ]  \n",
    "  \n",
    "### Getting Definitions, Synonyms and Antonyms from WordNet  \n",
    "  \n",
    "**WordNet** is a word database created by Princeton University. The TextBlob library uses\n",
    "the NLTK library’s WordNet interface, enabling you to look up word definitions, and get\n",
    "synonyms and antonyms. For more information, check out the NLTK WordNet interface\n",
    "documentation at:  \n",
    "  \n",
    "> https://www.nltk.org/api/nltk.corpus.reader.html#modulenltk.corpus.reader.wordnet  \n",
    "  \n",
    "### Getting Definitions  \n",
    "  \n",
    "First, let’s create a Word:"
   ]
  },
  {
   "cell_type": "code",
   "execution_count": 1,
   "id": "83e43d0d",
   "metadata": {},
   "outputs": [],
   "source": [
    "from textblob import Word\n",
    "\n",
    "happy = Word('happy')"
   ]
  },
  {
   "cell_type": "markdown",
   "id": "a9ab611b",
   "metadata": {},
   "source": [
    "The Word class’s **definitions property** returns a list of all the word’s definitions in\n",
    "the WordNet database:"
   ]
  },
  {
   "cell_type": "code",
   "execution_count": 2,
   "id": "6ae03128",
   "metadata": {},
   "outputs": [
    {
     "data": {
      "text/plain": [
       "['enjoying or showing or marked by joy or pleasure',\n",
       " 'marked by good fortune',\n",
       " 'eagerly disposed to act or to be of service',\n",
       " 'well expressed and to the point']"
      ]
     },
     "execution_count": 2,
     "metadata": {},
     "output_type": "execute_result"
    }
   ],
   "source": [
    " happy.definitions"
   ]
  },
  {
   "cell_type": "code",
   "execution_count": 3,
   "id": "6e8ae3da",
   "metadata": {},
   "outputs": [
    {
     "data": {
      "text/plain": [
       "['one of 7 to 12 sons of Aditi; Hindu gods of celestial light']"
      ]
     },
     "execution_count": 3,
     "metadata": {},
     "output_type": "execute_result"
    }
   ],
   "source": [
    "name = Word('Aditya')\n",
    "name.definitions"
   ]
  },
  {
   "cell_type": "markdown",
   "id": "f937f54d",
   "metadata": {},
   "source": [
    "The database does not necessarily contain every dictionary definition of a given word.\n",
    "There’s also a **define method** that enables you to pass a part of speech as an argument so\n",
    "you can get definitions matching only that part of speech.  \n",
    "  \n",
    "### Getting Synonyms  \n",
    "  \n",
    "You can get a Word’s **synsets**—that is, its sets of synonyms—via the **synsets property**. The\n",
    "result is a list of Synset objects: "
   ]
  },
  {
   "cell_type": "code",
   "execution_count": 4,
   "id": "a3a3eca5",
   "metadata": {},
   "outputs": [
    {
     "data": {
      "text/plain": [
       "[Synset('happy.a.01'),\n",
       " Synset('felicitous.s.02'),\n",
       " Synset('glad.s.02'),\n",
       " Synset('happy.s.04')]"
      ]
     },
     "execution_count": 4,
     "metadata": {},
     "output_type": "execute_result"
    }
   ],
   "source": [
    "happy.synsets"
   ]
  },
  {
   "cell_type": "markdown",
   "id": "57115b46",
   "metadata": {},
   "source": [
    "Each Synset represents a group of synonyms. In the notation happy.a.01:\n",
    "* happy is the original Word’s lemmatized form (in this case, it’s the same).  \n",
    "* a is the part of speech, which can be a for adjective, n for noun, v for verb, r for adverb or s for adjective satellite. Many adjective synsets in WordNet have satellite synsets that represent similar adjectives.  \n",
    "* 01 is a 0-based index number. Many words have multiple meanings, and this is the index number of the corresponding meaning in the WordNet database.  \n",
    "  \n",
    "There’s also a **get_synsets method** that enables you to pass a part of speech as an argument so you can get Synsets matching only that part of speech.  \n",
    "  \n",
    "You can iterate through the synsets list to find the original word’s synonyms. Each Synset has a **lemmas method** that returns a list of Lemma objects representing the synonyms. A Lemma’s name method returns the synonymous word as a string. In the following code, for each Synset in the synsets list, the nested for loop iterates through that Synset’s Lemmas (if any). Then we add the synonym to the set named synonyms. We used a set collection because it automatically eliminates any duplicates we add to it: "
   ]
  },
  {
   "cell_type": "code",
   "execution_count": 5,
   "id": "b981526b",
   "metadata": {},
   "outputs": [
    {
     "data": {
      "text/plain": [
       "{'felicitous', 'glad', 'happy', 'well-chosen'}"
      ]
     },
     "execution_count": 5,
     "metadata": {},
     "output_type": "execute_result"
    }
   ],
   "source": [
    "synonyms = set()\n",
    "\n",
    "for synset in happy.synsets:\n",
    "    for lemma in synset.lemmas():\n",
    "        synonyms.add(lemma.name())\n",
    "        \n",
    "synonyms"
   ]
  },
  {
   "cell_type": "markdown",
   "id": "c8ae7d1c",
   "metadata": {},
   "source": [
    "### Getting Antonyms  \n",
    "  \n",
    "If the word represented by a Lemma has antonyms in the WordNet database, invoking the\n",
    "Lemma’s antonyms method returns a list of Lemmas representing the antonyms (or an empty\n",
    "list if there are no antonyms in the database). In snippet [4] you saw there were four Synsets for 'happy'. First, let’s get the Lemmas for the Synset at index 0 of the synsets list:"
   ]
  },
  {
   "cell_type": "code",
   "execution_count": 6,
   "id": "858c387d",
   "metadata": {},
   "outputs": [
    {
     "data": {
      "text/plain": [
       "[Lemma('happy.a.01.happy')]"
      ]
     },
     "execution_count": 6,
     "metadata": {},
     "output_type": "execute_result"
    }
   ],
   "source": [
    "lemmas = happy.synsets[0].lemmas()\n",
    "\n",
    "lemmas"
   ]
  },
  {
   "cell_type": "markdown",
   "id": "38890d59",
   "metadata": {},
   "source": [
    "> In this case, lemmas returned a list of one Lemma element. We can now check whether the database has any corresponding antonyms for that Lemma: "
   ]
  },
  {
   "cell_type": "code",
   "execution_count": 7,
   "id": "cbbc178d",
   "metadata": {},
   "outputs": [
    {
     "data": {
      "text/plain": [
       "[Lemma('unhappy.a.01.unhappy')]"
      ]
     },
     "execution_count": 7,
     "metadata": {},
     "output_type": "execute_result"
    }
   ],
   "source": [
    "lemmas[0].antonyms()"
   ]
  },
  {
   "cell_type": "markdown",
   "id": "0e7f5829",
   "metadata": {},
   "source": [
    "> The result is list of Lemmas representing the antonym(s). Here, we see that the one antonym for 'happy' in the database is 'unhappy'. "
   ]
  },
  {
   "cell_type": "markdown",
   "id": "ea061311",
   "metadata": {},
   "source": [
    "[ Restart Kernel ]  \n",
    "  \n",
    "### Readability Assessment with Textatistic  \n",
    "  \n",
    "An interesting use of natural language processing is assessing text readability, which is\n",
    "affected by the vocabulary used, sentence structure, sentence length, topic and more.\n",
    "While writing this book, we used the paid tool Grammarly to help tune the writing and\n",
    "ensure the text’s readability for a wide audience.  \n",
    "  \n",
    "In this section, we’ll use the **Textatistic library** to assess readability.25 There are\n",
    "many formulas used in natural language processing to calculate readability. Textatistic uses\n",
    "five popular readability formulas—Flesch Reading Ease, Flesch-Kincaid, Gunning Fog,\n",
    "Simple Measure of Gobbledygook (SMOG) and Dale-Chall.  \n",
    "  \n",
    "### Install Textatistic  \n",
    "  \n",
    "To install Textatistic, open your Anaconda Prompt (Windows), Terminal (macOS/\n",
    "Linux) or shell (Linux), then execute the following command:  \n",
    "> pip install textatistic  \n",
    "  \n",
    "Windows users might need to run the Anaconda Prompt as an Administrator for proper\n",
    "software installation privileges. To do so, right-click Anaconda Prompt in the start menu\n",
    "and select More > Run as administrator.   "
   ]
  },
  {
   "cell_type": "code",
   "execution_count": 1,
   "id": "5ec9d22f",
   "metadata": {
    "collapsed": true,
    "jupyter": {
     "outputs_hidden": true
    }
   },
   "outputs": [
    {
     "name": "stdout",
     "output_type": "stream",
     "text": [
      "Defaulting to user installation because normal site-packages is not writeable\n",
      "Requirement already satisfied: textatistic in /home/student/.local/lib/python3.11/site-packages (0.0.1)\n",
      "Requirement already satisfied: pyhyphen>=2.0.5 in /home/student/.local/lib/python3.11/site-packages (from textatistic) (4.0.4)\n",
      "Requirement already satisfied: wheel>=0.40.0 in /home/student/.local/lib/python3.11/site-packages (from pyhyphen>=2.0.5->textatistic) (0.45.1)\n",
      "Requirement already satisfied: setuptools>=68.0 in /home/iter/anaconda3/lib/python3.11/site-packages (from pyhyphen>=2.0.5->textatistic) (68.0.0)\n",
      "Requirement already satisfied: appdirs>=1.4.0 in /home/iter/anaconda3/lib/python3.11/site-packages (from pyhyphen>=2.0.5->textatistic) (1.4.4)\n",
      "Requirement already satisfied: requests>=2.25 in /home/iter/anaconda3/lib/python3.11/site-packages (from pyhyphen>=2.0.5->textatistic) (2.31.0)\n",
      "Requirement already satisfied: charset-normalizer<4,>=2 in /home/iter/anaconda3/lib/python3.11/site-packages (from requests>=2.25->pyhyphen>=2.0.5->textatistic) (2.0.4)\n",
      "Requirement already satisfied: idna<4,>=2.5 in /home/iter/anaconda3/lib/python3.11/site-packages (from requests>=2.25->pyhyphen>=2.0.5->textatistic) (3.4)\n",
      "Requirement already satisfied: urllib3<3,>=1.21.1 in /home/iter/anaconda3/lib/python3.11/site-packages (from requests>=2.25->pyhyphen>=2.0.5->textatistic) (1.26.16)\n",
      "Requirement already satisfied: certifi>=2017.4.17 in /home/iter/anaconda3/lib/python3.11/site-packages (from requests>=2.25->pyhyphen>=2.0.5->textatistic) (2024.2.2)\n",
      "Note: you may need to restart the kernel to use updated packages.\n"
     ]
    }
   ],
   "source": [
    "pip install textatistic"
   ]
  },
  {
   "cell_type": "markdown",
   "id": "90a152cb",
   "metadata": {},
   "source": [
    "### Calculating Statistics and Readability Scores  \n",
    "  \n",
    "First, let’s load Romeo and Juliet into the text variable:  "
   ]
  },
  {
   "cell_type": "code",
   "execution_count": 2,
   "id": "e36c6299",
   "metadata": {},
   "outputs": [],
   "source": [
    "from pathlib import Path\n",
    "\n",
    "text = Path('RomeoAndJuliet.txt').read_text()"
   ]
  },
  {
   "cell_type": "markdown",
   "id": "4fd404d1",
   "metadata": {},
   "source": [
    "Calculating statistics and readability scores requires a **Textatistic** object that’s initialized with the text you want to assess:"
   ]
  },
  {
   "cell_type": "code",
   "execution_count": 3,
   "id": "b00b80f7",
   "metadata": {},
   "outputs": [],
   "source": [
    "from textatistic import Textatistic\n",
    "\n",
    "readability = Textatistic(text)"
   ]
  },
  {
   "cell_type": "markdown",
   "id": "d43ace21",
   "metadata": {},
   "source": [
    "Textatistic method **dict** returns a dictionary containing various statistics and the readability scores:"
   ]
  },
  {
   "cell_type": "code",
   "execution_count": 4,
   "id": "d99ea1e4",
   "metadata": {},
   "outputs": [
    {
     "data": {
      "text/plain": [
       "'%.3f'"
      ]
     },
     "execution_count": 4,
     "metadata": {},
     "output_type": "execute_result"
    }
   ],
   "source": [
    "%precision 3"
   ]
  },
  {
   "cell_type": "code",
   "execution_count": 5,
   "id": "3f5fbbf6",
   "metadata": {},
   "outputs": [
    {
     "data": {
      "text/plain": [
       "{'char_count': 115141,\n",
       " 'word_count': 26120,\n",
       " 'sent_count': 3218,\n",
       " 'sybl_count': 30678,\n",
       " 'notdalechall_count': 5823,\n",
       " 'polysyblword_count': 693,\n",
       " 'flesch_score': 99.234,\n",
       " 'fleschkincaid_score': 1.435,\n",
       " 'gunningfog_score': 4.308,\n",
       " 'smog_score': 5.780,\n",
       " 'dalechall_score': 7.559}"
      ]
     },
     "execution_count": 5,
     "metadata": {},
     "output_type": "execute_result"
    }
   ],
   "source": [
    "readability.dict()"
   ]
  },
  {
   "cell_type": "markdown",
   "id": "881e5035",
   "metadata": {},
   "source": [
    "Each of the values in the dictionary is also accessible via a Textatistic property of\n",
    "the same name as the keys shown in the preceding output. The statistics produced include:  \n",
    "* char_count—The number of characters in the text.  \n",
    "* word_count—The number of words in the text.  \n",
    "* sent_count—The number of sentences in the text.  \n",
    "* sybl_count—The number of syllables in the text.  \n",
    "* notdalechall_count—A count of the words that are not on the Dale-Chall list, which is a list of words understood by 80% of 5th graders.27 The higher this number is compared to the total word count, the less readable the text is considered to be.  \n",
    "* polysyblword_count—The number of words with three or more syllables.  \n",
    "* flesch_score—The Flesch Reading Ease score, which can be mapped to a grade level. Scores over 90 are considered readable by 5th graders. Scores under 30 require a college degree. Ranges in between correspond to the other grade levels.  \n",
    "* fleschkincaid_score—The Flesch-Kincaid score, which corresponds to a specific grade level.  \n",
    "* gunningfog_score—The Gunning Fog index value, which corresponds to a specific grade level.  \n",
    "* smog_score—The Simple Measure of Gobbledygook (SMOG), which corresponds to the years of education required to understand text. This measure is considered particularly effective for healthcare materials.  \n",
    "* dalechall_score—The Dale-Chall score, which can be mapped to grade levels from 4 and below to college graduate (grade 16) and above. This score considered to be most reliable for a broad range of text types.  \n",
    "  \n",
    "You can learn about each of these readability scores produced here and several others at  \n",
    "> https://en.wikipedia.org/wiki/Readability  \n",
    "  \n",
    "The Textatistic documentation also shows the readability formulas used:  \n",
    "> http://www.erinhengel.com/software/textatistic/"
   ]
  },
  {
   "cell_type": "code",
   "execution_count": 6,
   "id": "3fc01165",
   "metadata": {
    "scrolled": true
   },
   "outputs": [
    {
     "data": {
      "text/plain": [
       "8.117"
      ]
     },
     "execution_count": 6,
     "metadata": {},
     "output_type": "execute_result"
    }
   ],
   "source": [
    "readability.word_count / readability.sent_count # sentence length"
   ]
  },
  {
   "cell_type": "code",
   "execution_count": 7,
   "id": "2eaf6191",
   "metadata": {},
   "outputs": [
    {
     "data": {
      "text/plain": [
       "4.408"
      ]
     },
     "execution_count": 7,
     "metadata": {},
     "output_type": "execute_result"
    }
   ],
   "source": [
    "readability.char_count / readability.word_count # word length"
   ]
  },
  {
   "cell_type": "code",
   "execution_count": 8,
   "id": "fa779efe",
   "metadata": {},
   "outputs": [
    {
     "data": {
      "text/plain": [
       "1.175"
      ]
     },
     "execution_count": 8,
     "metadata": {},
     "output_type": "execute_result"
    }
   ],
   "source": [
    "readability.sybl_count / readability.word_count # syllables"
   ]
  },
  {
   "cell_type": "markdown",
   "id": "55132a7c",
   "metadata": {},
   "source": [
    "[ Restart Kernel ]  \n",
    "  \n",
    "### Named Entity Recognition with spaCy  \n",
    "  \n",
    "NLP can determine what a text is about. A key aspect of this is **named entity recognition**, which attempts to locate and categorize items like dates, times, quantities, places, people, things, organizations and more. In this section, we’ll use the named entity recognition capabilities in the **spaCy NLP library** to analyze text.  \n",
    "  \n",
    "### Install spaCy\n",
    "  \n",
    "To install spaCy, open your Anaconda Prompt (Windows), Terminal (macOS/Linux) or shell (Linux), then execute the following command:  "
   ]
  },
  {
   "cell_type": "code",
   "execution_count": 4,
   "id": "150038d1",
   "metadata": {
    "scrolled": true
   },
   "outputs": [
    {
     "name": "stdout",
     "output_type": "stream",
     "text": [
      "Defaulting to user installation because normal site-packages is not writeable\n",
      "Collecting spacy\n",
      "  Obtaining dependency information for spacy from https://files.pythonhosted.org/packages/f9/36/4f95922a22c32bd6fdda50ae5780c55b72d75ff76fd94cafa24950601330/spacy-3.8.4-cp311-cp311-manylinux_2_17_x86_64.manylinux2014_x86_64.whl.metadata\n",
      "  Downloading spacy-3.8.4-cp311-cp311-manylinux_2_17_x86_64.manylinux2014_x86_64.whl.metadata (27 kB)\n",
      "Collecting spacy-legacy<3.1.0,>=3.0.11 (from spacy)\n",
      "  Obtaining dependency information for spacy-legacy<3.1.0,>=3.0.11 from https://files.pythonhosted.org/packages/c3/55/12e842c70ff8828e34e543a2c7176dac4da006ca6901c9e8b43efab8bc6b/spacy_legacy-3.0.12-py2.py3-none-any.whl.metadata\n",
      "  Downloading spacy_legacy-3.0.12-py2.py3-none-any.whl.metadata (2.8 kB)\n",
      "Collecting spacy-loggers<2.0.0,>=1.0.0 (from spacy)\n",
      "  Obtaining dependency information for spacy-loggers<2.0.0,>=1.0.0 from https://files.pythonhosted.org/packages/33/78/d1a1a026ef3af911159398c939b1509d5c36fe524c7b644f34a5146c4e16/spacy_loggers-1.0.5-py3-none-any.whl.metadata\n",
      "  Downloading spacy_loggers-1.0.5-py3-none-any.whl.metadata (23 kB)\n",
      "Collecting murmurhash<1.1.0,>=0.28.0 (from spacy)\n",
      "  Obtaining dependency information for murmurhash<1.1.0,>=0.28.0 from https://files.pythonhosted.org/packages/0b/d5/6f1b561d8b14ef01d28d9cec278870bec01d8a569cfbc694e68ac05a5615/murmurhash-1.0.12-cp311-cp311-manylinux_2_5_x86_64.manylinux1_x86_64.manylinux_2_17_x86_64.manylinux2014_x86_64.whl.metadata\n",
      "  Downloading murmurhash-1.0.12-cp311-cp311-manylinux_2_5_x86_64.manylinux1_x86_64.manylinux_2_17_x86_64.manylinux2014_x86_64.whl.metadata (2.1 kB)\n",
      "Collecting cymem<2.1.0,>=2.0.2 (from spacy)\n",
      "  Obtaining dependency information for cymem<2.1.0,>=2.0.2 from https://files.pythonhosted.org/packages/48/cb/2207679e4b92701f78cf141e1ab4f81f55247dbe154eb426b842a0a993de/cymem-2.0.11-cp311-cp311-manylinux_2_17_x86_64.manylinux2014_x86_64.whl.metadata\n",
      "  Downloading cymem-2.0.11-cp311-cp311-manylinux_2_17_x86_64.manylinux2014_x86_64.whl.metadata (8.5 kB)\n",
      "Collecting preshed<3.1.0,>=3.0.2 (from spacy)\n",
      "  Obtaining dependency information for preshed<3.1.0,>=3.0.2 from https://files.pythonhosted.org/packages/db/69/d9ab108dc670b5be9e292bbd555f39e6eb0a4baab25cd28f792850d5e65b/preshed-3.0.9-cp311-cp311-manylinux_2_5_x86_64.manylinux1_x86_64.manylinux_2_17_x86_64.manylinux2014_x86_64.whl.metadata\n",
      "  Downloading preshed-3.0.9-cp311-cp311-manylinux_2_5_x86_64.manylinux1_x86_64.manylinux_2_17_x86_64.manylinux2014_x86_64.whl.metadata (2.2 kB)\n",
      "Collecting thinc<8.4.0,>=8.3.4 (from spacy)\n",
      "  Obtaining dependency information for thinc<8.4.0,>=8.3.4 from https://files.pythonhosted.org/packages/8c/68/36c1a92a374891e0d496677c59f5f9fdc1e57bbb214c487bb8bb3e9290c2/thinc-8.3.4-cp311-cp311-manylinux_2_17_x86_64.manylinux2014_x86_64.whl.metadata\n",
      "  Downloading thinc-8.3.4-cp311-cp311-manylinux_2_17_x86_64.manylinux2014_x86_64.whl.metadata (15 kB)\n",
      "Collecting wasabi<1.2.0,>=0.9.1 (from spacy)\n",
      "  Obtaining dependency information for wasabi<1.2.0,>=0.9.1 from https://files.pythonhosted.org/packages/06/7c/34330a89da55610daa5f245ddce5aab81244321101614751e7537f125133/wasabi-1.1.3-py3-none-any.whl.metadata\n",
      "  Downloading wasabi-1.1.3-py3-none-any.whl.metadata (28 kB)\n",
      "Collecting srsly<3.0.0,>=2.4.3 (from spacy)\n",
      "  Obtaining dependency information for srsly<3.0.0,>=2.4.3 from https://files.pythonhosted.org/packages/35/a3/9eda9997a8bd011caed18fdaa5ce606714eb06d8dab587ed0522b3e92ab1/srsly-2.5.1-cp311-cp311-manylinux_2_17_x86_64.manylinux2014_x86_64.whl.metadata\n",
      "  Downloading srsly-2.5.1-cp311-cp311-manylinux_2_17_x86_64.manylinux2014_x86_64.whl.metadata (19 kB)\n",
      "Collecting catalogue<2.1.0,>=2.0.6 (from spacy)\n",
      "  Obtaining dependency information for catalogue<2.1.0,>=2.0.6 from https://files.pythonhosted.org/packages/9e/96/d32b941a501ab566a16358d68b6eb4e4acc373fab3c3c4d7d9e649f7b4bb/catalogue-2.0.10-py3-none-any.whl.metadata\n",
      "  Downloading catalogue-2.0.10-py3-none-any.whl.metadata (14 kB)\n",
      "Collecting weasel<0.5.0,>=0.1.0 (from spacy)\n",
      "  Obtaining dependency information for weasel<0.5.0,>=0.1.0 from https://files.pythonhosted.org/packages/2a/87/abd57374044e1f627f0a905ac33c1a7daab35a3a815abfea4e1bafd3fdb1/weasel-0.4.1-py3-none-any.whl.metadata\n",
      "  Downloading weasel-0.4.1-py3-none-any.whl.metadata (4.6 kB)\n",
      "Collecting typer<1.0.0,>=0.3.0 (from spacy)\n",
      "  Obtaining dependency information for typer<1.0.0,>=0.3.0 from https://files.pythonhosted.org/packages/7f/fc/5b29fea8cee020515ca82cc68e3b8e1e34bb19a3535ad854cac9257b414c/typer-0.15.2-py3-none-any.whl.metadata\n",
      "  Downloading typer-0.15.2-py3-none-any.whl.metadata (15 kB)\n",
      "Requirement already satisfied: tqdm<5.0.0,>=4.38.0 in /home/iter/anaconda3/lib/python3.11/site-packages (from spacy) (4.65.0)\n",
      "Requirement already satisfied: numpy>=1.19.0 in /home/iter/anaconda3/lib/python3.11/site-packages (from spacy) (1.24.3)\n",
      "Requirement already satisfied: requests<3.0.0,>=2.13.0 in /home/iter/anaconda3/lib/python3.11/site-packages (from spacy) (2.31.0)\n",
      "Requirement already satisfied: pydantic!=1.8,!=1.8.1,<3.0.0,>=1.7.4 in /home/iter/anaconda3/lib/python3.11/site-packages (from spacy) (2.5.3)\n",
      "Requirement already satisfied: jinja2 in /home/iter/anaconda3/lib/python3.11/site-packages (from spacy) (3.1.2)\n",
      "Requirement already satisfied: setuptools in /home/iter/anaconda3/lib/python3.11/site-packages (from spacy) (68.0.0)\n",
      "Requirement already satisfied: packaging>=20.0 in /home/iter/anaconda3/lib/python3.11/site-packages (from spacy) (23.0)\n",
      "Collecting langcodes<4.0.0,>=3.2.0 (from spacy)\n",
      "  Obtaining dependency information for langcodes<4.0.0,>=3.2.0 from https://files.pythonhosted.org/packages/c3/6b/068c2ea7a712bf805c62445bd9e9c06d7340358ef2824150eceac027444b/langcodes-3.5.0-py3-none-any.whl.metadata\n",
      "  Downloading langcodes-3.5.0-py3-none-any.whl.metadata (29 kB)\n",
      "Collecting language-data>=1.2 (from langcodes<4.0.0,>=3.2.0->spacy)\n",
      "  Obtaining dependency information for language-data>=1.2 from https://files.pythonhosted.org/packages/5d/e9/5a5ffd9b286db82be70d677d0a91e4d58f7912bb8dd026ddeeb4abe70679/language_data-1.3.0-py3-none-any.whl.metadata\n",
      "  Downloading language_data-1.3.0-py3-none-any.whl.metadata (4.3 kB)\n",
      "Requirement already satisfied: annotated-types>=0.4.0 in /home/iter/anaconda3/lib/python3.11/site-packages (from pydantic!=1.8,!=1.8.1,<3.0.0,>=1.7.4->spacy) (0.6.0)\n",
      "Requirement already satisfied: pydantic-core==2.14.6 in /home/iter/anaconda3/lib/python3.11/site-packages (from pydantic!=1.8,!=1.8.1,<3.0.0,>=1.7.4->spacy) (2.14.6)\n",
      "Requirement already satisfied: typing-extensions>=4.6.1 in /home/iter/anaconda3/lib/python3.11/site-packages (from pydantic!=1.8,!=1.8.1,<3.0.0,>=1.7.4->spacy) (4.7.1)\n",
      "Requirement already satisfied: charset-normalizer<4,>=2 in /home/iter/anaconda3/lib/python3.11/site-packages (from requests<3.0.0,>=2.13.0->spacy) (2.0.4)\n",
      "Requirement already satisfied: idna<4,>=2.5 in /home/iter/anaconda3/lib/python3.11/site-packages (from requests<3.0.0,>=2.13.0->spacy) (3.4)\n",
      "Requirement already satisfied: urllib3<3,>=1.21.1 in /home/iter/anaconda3/lib/python3.11/site-packages (from requests<3.0.0,>=2.13.0->spacy) (1.26.16)\n",
      "Requirement already satisfied: certifi>=2017.4.17 in /home/iter/anaconda3/lib/python3.11/site-packages (from requests<3.0.0,>=2.13.0->spacy) (2024.2.2)\n",
      "Collecting blis<1.3.0,>=1.2.0 (from thinc<8.4.0,>=8.3.4->spacy)\n",
      "  Obtaining dependency information for blis<1.3.0,>=1.2.0 from https://files.pythonhosted.org/packages/73/e7/95ae571ccfe5c43fb65fce5921e8a6213c4443a2e18a9ca5b6bad2fc8aab/blis-1.2.0-cp311-cp311-manylinux_2_17_x86_64.manylinux2014_x86_64.whl.metadata\n",
      "  Downloading blis-1.2.0-cp311-cp311-manylinux_2_17_x86_64.manylinux2014_x86_64.whl.metadata (7.7 kB)\n",
      "Collecting confection<1.0.0,>=0.0.1 (from thinc<8.4.0,>=8.3.4->spacy)\n",
      "  Obtaining dependency information for confection<1.0.0,>=0.0.1 from https://files.pythonhosted.org/packages/0c/00/3106b1854b45bd0474ced037dfe6b73b90fe68a68968cef47c23de3d43d2/confection-0.1.5-py3-none-any.whl.metadata\n",
      "  Downloading confection-0.1.5-py3-none-any.whl.metadata (19 kB)\n",
      "Requirement already satisfied: click>=8.0.0 in /home/iter/anaconda3/lib/python3.11/site-packages (from typer<1.0.0,>=0.3.0->spacy) (8.0.4)\n",
      "Collecting shellingham>=1.3.0 (from typer<1.0.0,>=0.3.0->spacy)\n",
      "  Obtaining dependency information for shellingham>=1.3.0 from https://files.pythonhosted.org/packages/e0/f9/0595336914c5619e5f28a1fb793285925a8cd4b432c9da0a987836c7f822/shellingham-1.5.4-py2.py3-none-any.whl.metadata\n"
     ]
    },
    {
     "name": "stdout",
     "output_type": "stream",
     "text": [
      "  Downloading shellingham-1.5.4-py2.py3-none-any.whl.metadata (3.5 kB)\n",
      "Collecting rich>=10.11.0 (from typer<1.0.0,>=0.3.0->spacy)\n",
      "  Obtaining dependency information for rich>=10.11.0 from https://files.pythonhosted.org/packages/19/71/39c7c0d87f8d4e6c020a393182060eaefeeae6c01dab6a84ec346f2567df/rich-13.9.4-py3-none-any.whl.metadata\n",
      "  Downloading rich-13.9.4-py3-none-any.whl.metadata (18 kB)\n",
      "Collecting cloudpathlib<1.0.0,>=0.7.0 (from weasel<0.5.0,>=0.1.0->spacy)\n",
      "  Obtaining dependency information for cloudpathlib<1.0.0,>=0.7.0 from https://files.pythonhosted.org/packages/e8/0f/b1a9b09a84ef98b9fc38d50c6b2815cb2256b804a78e7d838ddfbdc035c7/cloudpathlib-0.21.0-py3-none-any.whl.metadata\n",
      "  Downloading cloudpathlib-0.21.0-py3-none-any.whl.metadata (14 kB)\n",
      "Requirement already satisfied: smart-open<8.0.0,>=5.2.1 in /home/iter/anaconda3/lib/python3.11/site-packages (from weasel<0.5.0,>=0.1.0->spacy) (5.2.1)\n",
      "Requirement already satisfied: MarkupSafe>=2.0 in /home/iter/anaconda3/lib/python3.11/site-packages (from jinja2->spacy) (2.1.1)\n",
      "Collecting marisa-trie>=1.1.0 (from language-data>=1.2->langcodes<4.0.0,>=3.2.0->spacy)\n",
      "  Obtaining dependency information for marisa-trie>=1.1.0 from https://files.pythonhosted.org/packages/e8/3f/7362a5ac60c2b0aad0f52cd57e7bd0c708f20d2660d8df85360f3d8f1c4b/marisa_trie-1.2.1-cp311-cp311-manylinux_2_17_x86_64.manylinux2014_x86_64.whl.metadata\n",
      "  Downloading marisa_trie-1.2.1-cp311-cp311-manylinux_2_17_x86_64.manylinux2014_x86_64.whl.metadata (9.0 kB)\n",
      "Requirement already satisfied: markdown-it-py>=2.2.0 in /home/iter/anaconda3/lib/python3.11/site-packages (from rich>=10.11.0->typer<1.0.0,>=0.3.0->spacy) (2.2.0)\n",
      "Requirement already satisfied: pygments<3.0.0,>=2.13.0 in /home/iter/anaconda3/lib/python3.11/site-packages (from rich>=10.11.0->typer<1.0.0,>=0.3.0->spacy) (2.15.1)\n",
      "Requirement already satisfied: mdurl~=0.1 in /home/iter/anaconda3/lib/python3.11/site-packages (from markdown-it-py>=2.2.0->rich>=10.11.0->typer<1.0.0,>=0.3.0->spacy) (0.1.0)\n",
      "Downloading spacy-3.8.4-cp311-cp311-manylinux_2_17_x86_64.manylinux2014_x86_64.whl (30.6 MB)\n",
      "\u001b[2K   \u001b[90m━━━━━━━━━━━━━━━━━━━━━━━━━━━━━━━━━━━━━━━━\u001b[0m \u001b[32m30.6/30.6 MB\u001b[0m \u001b[31m31.2 MB/s\u001b[0m eta \u001b[36m0:00:00\u001b[0m00:01\u001b[0m00:01\u001b[0m\n",
      "\u001b[?25hDownloading catalogue-2.0.10-py3-none-any.whl (17 kB)\n",
      "Downloading cymem-2.0.11-cp311-cp311-manylinux_2_17_x86_64.manylinux2014_x86_64.whl (218 kB)\n",
      "\u001b[2K   \u001b[90m━━━━━━━━━━━━━━━━━━━━━━━━━━━━━━━━━━━━━━━━\u001b[0m \u001b[32m218.9/218.9 kB\u001b[0m \u001b[31m19.5 MB/s\u001b[0m eta \u001b[36m0:00:00\u001b[0m\n",
      "\u001b[?25hDownloading langcodes-3.5.0-py3-none-any.whl (182 kB)\n",
      "\u001b[2K   \u001b[90m━━━━━━━━━━━━━━━━━━━━━━━━━━━━━━━━━━━━━━━━\u001b[0m \u001b[32m183.0/183.0 kB\u001b[0m \u001b[31m15.5 MB/s\u001b[0m eta \u001b[36m0:00:00\u001b[0m\n",
      "\u001b[?25hDownloading murmurhash-1.0.12-cp311-cp311-manylinux_2_5_x86_64.manylinux1_x86_64.manylinux_2_17_x86_64.manylinux2014_x86_64.whl (134 kB)\n",
      "\u001b[2K   \u001b[90m━━━━━━━━━━━━━━━━━━━━━━━━━━━━━━━━━━━━━━━━\u001b[0m \u001b[32m134.3/134.3 kB\u001b[0m \u001b[31m12.3 MB/s\u001b[0m eta \u001b[36m0:00:00\u001b[0m\n",
      "\u001b[?25hDownloading preshed-3.0.9-cp311-cp311-manylinux_2_5_x86_64.manylinux1_x86_64.manylinux_2_17_x86_64.manylinux2014_x86_64.whl (157 kB)\n",
      "\u001b[2K   \u001b[90m━━━━━━━━━━━━━━━━━━━━━━━━━━━━━━━━━━━━━━━━\u001b[0m \u001b[32m157.2/157.2 kB\u001b[0m \u001b[31m15.6 MB/s\u001b[0m eta \u001b[36m0:00:00\u001b[0m\n",
      "\u001b[?25hDownloading spacy_legacy-3.0.12-py2.py3-none-any.whl (29 kB)\n",
      "Downloading spacy_loggers-1.0.5-py3-none-any.whl (22 kB)\n",
      "Downloading srsly-2.5.1-cp311-cp311-manylinux_2_17_x86_64.manylinux2014_x86_64.whl (1.1 MB)\n",
      "\u001b[2K   \u001b[90m━━━━━━━━━━━━━━━━━━━━━━━━━━━━━━━━━━━━━━━━\u001b[0m \u001b[32m1.1/1.1 MB\u001b[0m \u001b[31m27.9 MB/s\u001b[0m eta \u001b[36m0:00:00\u001b[0m00:01\u001b[0m\n",
      "\u001b[?25hDownloading thinc-8.3.4-cp311-cp311-manylinux_2_17_x86_64.manylinux2014_x86_64.whl (3.9 MB)\n",
      "\u001b[2K   \u001b[90m━━━━━━━━━━━━━━━━━━━━━━━━━━━━━━━━━━━━━━━━\u001b[0m \u001b[32m3.9/3.9 MB\u001b[0m \u001b[31m47.8 MB/s\u001b[0m eta \u001b[36m0:00:00\u001b[0m00:01\u001b[0m00:01\u001b[0m\n",
      "\u001b[?25hDownloading typer-0.15.2-py3-none-any.whl (45 kB)\n",
      "\u001b[2K   \u001b[90m━━━━━━━━━━━━━━━━━━━━━━━━━━━━━━━━━━━━━━━━\u001b[0m \u001b[32m45.1/45.1 kB\u001b[0m \u001b[31m5.9 MB/s\u001b[0m eta \u001b[36m0:00:00\u001b[0m\n",
      "\u001b[?25hDownloading wasabi-1.1.3-py3-none-any.whl (27 kB)\n",
      "Downloading weasel-0.4.1-py3-none-any.whl (50 kB)\n",
      "\u001b[2K   \u001b[90m━━━━━━━━━━━━━━━━━━━━━━━━━━━━━━━━━━━━━━━━\u001b[0m \u001b[32m50.3/50.3 kB\u001b[0m \u001b[31m6.0 MB/s\u001b[0m eta \u001b[36m0:00:00\u001b[0m\n",
      "\u001b[?25hDownloading blis-1.2.0-cp311-cp311-manylinux_2_17_x86_64.manylinux2014_x86_64.whl (11.7 MB)\n",
      "\u001b[2K   \u001b[90m━━━━━━━━━━━━━━━━━━━━━━━━━━━━━━━━━━━━━━━━\u001b[0m \u001b[32m11.7/11.7 MB\u001b[0m \u001b[31m51.4 MB/s\u001b[0m eta \u001b[36m0:00:00\u001b[0m00:01\u001b[0m0:01\u001b[0m\n",
      "\u001b[?25hDownloading cloudpathlib-0.21.0-py3-none-any.whl (52 kB)\n",
      "\u001b[2K   \u001b[90m━━━━━━━━━━━━━━━━━━━━━━━━━━━━━━━━━━━━━━━━\u001b[0m \u001b[32m52.7/52.7 kB\u001b[0m \u001b[31m6.9 MB/s\u001b[0m eta \u001b[36m0:00:00\u001b[0m\n",
      "\u001b[?25hDownloading confection-0.1.5-py3-none-any.whl (35 kB)\n",
      "Downloading language_data-1.3.0-py3-none-any.whl (5.4 MB)\n",
      "\u001b[2K   \u001b[90m━━━━━━━━━━━━━━━━━━━━━━━━━━━━━━━━━━━━━━━━\u001b[0m \u001b[32m5.4/5.4 MB\u001b[0m \u001b[31m44.5 MB/s\u001b[0m eta \u001b[36m0:00:00\u001b[0m00:01\u001b[0m00:01\u001b[0m\n",
      "\u001b[?25hDownloading rich-13.9.4-py3-none-any.whl (242 kB)\n",
      "\u001b[2K   \u001b[90m━━━━━━━━━━━━━━━━━━━━━━━━━━━━━━━━━━━━━━━━\u001b[0m \u001b[32m242.4/242.4 kB\u001b[0m \u001b[31m25.3 MB/s\u001b[0m eta \u001b[36m0:00:00\u001b[0m\n",
      "\u001b[?25hDownloading shellingham-1.5.4-py2.py3-none-any.whl (9.8 kB)\n",
      "Downloading marisa_trie-1.2.1-cp311-cp311-manylinux_2_17_x86_64.manylinux2014_x86_64.whl (1.4 MB)\n",
      "\u001b[2K   \u001b[90m━━━━━━━━━━━━━━━━━━━━━━━━━━━━━━━━━━━━━━━━\u001b[0m \u001b[32m1.4/1.4 MB\u001b[0m \u001b[31m38.6 MB/s\u001b[0m eta \u001b[36m0:00:00\u001b[0m00:01\u001b[0m\n",
      "\u001b[?25hInstalling collected packages: cymem, wasabi, spacy-loggers, spacy-legacy, shellingham, murmurhash, marisa-trie, cloudpathlib, catalogue, blis, srsly, rich, preshed, language-data, typer, langcodes, confection, weasel, thinc, spacy\n",
      "Successfully installed blis-1.2.0 catalogue-2.0.10 cloudpathlib-0.21.0 confection-0.1.5 cymem-2.0.11 langcodes-3.5.0 language-data-1.3.0 marisa-trie-1.2.1 murmurhash-1.0.12 preshed-3.0.9 rich-13.9.4 shellingham-1.5.4 spacy-3.8.4 spacy-legacy-3.0.12 spacy-loggers-1.0.5 srsly-2.5.1 thinc-8.3.4 typer-0.15.2 wasabi-1.1.3 weasel-0.4.1\n",
      "Note: you may need to restart the kernel to use updated packages.\n"
     ]
    }
   ],
   "source": [
    "%pip install spacy"
   ]
  },
  {
   "cell_type": "markdown",
   "id": "7193b207",
   "metadata": {},
   "source": [
    "Windows users might need to run the Anaconda Prompt as an Administrator for proper software installation privileges. To do so, right-click Anaconda Prompt in the start menu and select **More > Run as administrator**.  \n",
    "  \n",
    "Once the install completes, you also need to execute the following command, so spaCy can download additional components it needs for processing English (en) text:  "
   ]
  },
  {
   "cell_type": "code",
   "execution_count": 5,
   "id": "6b5e369a",
   "metadata": {},
   "outputs": [
    {
     "name": "stdout",
     "output_type": "stream",
     "text": [
      "Defaulting to user installation because normal site-packages is not writeable\n",
      "Collecting en-core-web-sm==3.8.0\n",
      "  Downloading https://github.com/explosion/spacy-models/releases/download/en_core_web_sm-3.8.0/en_core_web_sm-3.8.0-py3-none-any.whl (12.8 MB)\n",
      "\u001b[2K     \u001b[90m━━━━━━━━━━━━━━━━━━━━━━━━━━━━━━━━━━━━━━━━\u001b[0m \u001b[32m12.8/12.8 MB\u001b[0m \u001b[31m43.4 MB/s\u001b[0m eta \u001b[36m0:00:00\u001b[0m00:01\u001b[0m00:01\u001b[0m\n",
      "\u001b[?25hInstalling collected packages: en-core-web-sm\n",
      "Successfully installed en-core-web-sm-3.8.0\n",
      "\u001b[38;5;2m✔ Download and installation successful\u001b[0m\n",
      "You can now load the package via spacy.load('en_core_web_sm')\n"
     ]
    }
   ],
   "source": [
    "!python -m spacy download en_core_web_sm"
   ]
  },
  {
   "cell_type": "markdown",
   "id": "bb90ce19",
   "metadata": {},
   "source": [
    "### Loading the Language Model  \n",
    "  \n",
    "The first step in using spaCy is to load the language model representing the natural language of the text you’re analyzing. To do this, you’ll call the spacy module’s **load function**. Let’s load the English model that we downloaded above:   "
   ]
  },
  {
   "cell_type": "code",
   "execution_count": 7,
   "id": "436a5c9f",
   "metadata": {},
   "outputs": [],
   "source": [
    "import spacy\n",
    "\n",
    "nlp = spacy.load('en_core_web_sm')"
   ]
  },
  {
   "cell_type": "markdown",
   "id": "d2d13936",
   "metadata": {},
   "source": [
    "The spaCy documentation recommends the variable name nlp.  \n",
    "  \n",
    "### Creating a spaCy Doc(())  \n",
    "  \n",
    "Next, you use the nlp object to create a spaCy **Doc** object representing the document to process. Here we used a sentence from the introduction to the World Wide Web in many of our books:  "
   ]
  },
  {
   "cell_type": "code",
   "execution_count": 8,
   "id": "676d3092",
   "metadata": {},
   "outputs": [],
   "source": [
    " document = nlp('In 1994, Tim Berners-Lee founded the ' + 'World Wide Web Consortium (W3C), devoted to ' + 'developing web technologies')"
   ]
  },
  {
   "cell_type": "markdown",
   "id": "40ebe819",
   "metadata": {},
   "source": [
    "### Getting the Named Entities  \n",
    "  \n",
    "The Doc object’s **ents property** returns a tuple of **Span** objects representing the named\n",
    "entities found in the Doc. Each Span has many properties.34 Let’s iterate through the Spans\n",
    "and display the text and label_ properties:"
   ]
  },
  {
   "cell_type": "code",
   "execution_count": 9,
   "id": "ee03fb30",
   "metadata": {},
   "outputs": [
    {
     "name": "stdout",
     "output_type": "stream",
     "text": [
      "1994: DATE\n",
      "Tim Berners-Lee: PERSON\n",
      "the World Wide Web Consortium: EVENT\n"
     ]
    }
   ],
   "source": [
    "for entity in document.ents:\n",
    "    print(f'{entity.text}: {entity.label_}')"
   ]
  },
  {
   "cell_type": "markdown",
   "id": "f7955646",
   "metadata": {},
   "source": [
    "Each Span’s **text property** returns the entity as a string, and the **label_ property** returns a string indicating the entity’s kind. Here, spaCy found three entities representing a DATE (1994), a PERSON (Tim Berners-Lee) and an ORG (organization; the World Wide Web Consortium). To learn more about spaCy, take a look at its Quickstart guide at  \n",
    "> https://spacy.io/usage/models#section-quickstart"
   ]
  },
  {
   "cell_type": "markdown",
   "id": "80c42ed5",
   "metadata": {},
   "source": [
    "### Similarity Detection with spaCy  \n",
    "  \n",
    "**Similarity detection** is the process of analyzing documents to determine how alike they\n",
    "are. One possible similarity detection technique is word frequency counting. For example,\n",
    "some people believe that the works of William Shakespeare actually might have been written by Sir Francis Bacon, Christopher Marlowe or others. Comparing the word frequencies of their works with those of Shakespeare can reveal writing-style similarities.\n",
    "Various machine-learning techniques we’ll discuss in later chapters can be used to\n",
    "study document similarity. However, as is often the case in Python, there are libraries such\n",
    "as spaCy and Gensim that can do this for you. Here, we’ll use spaCy’s similarity detection\n",
    "features to compare Doc objects representing Shakespeare’s Romeo and Juliet with Christopher Marlowe’s Edward the Second. You can download Edward the Second from Project\n",
    "Gutenberg as we did for Romeo and Juliet earlier in the chapter."
   ]
  },
  {
   "cell_type": "code",
   "execution_count": 11,
   "id": "dff4c045",
   "metadata": {},
   "outputs": [],
   "source": [
    "from pathlib import Path\n",
    "document1 = nlp(Path('RomeoAndJuliet.txt').read_text())\n",
    "document2 = nlp(Path('RomeoAndJuliet.txt').read_text())"
   ]
  },
  {
   "cell_type": "markdown",
   "id": "2cba8c1f",
   "metadata": {},
   "source": [
    "### Comparing the Books’ Similarity  \n",
    "  \n",
    "Finally, we use the Doc class’s **similarity method** to get a value from 0.0 (not similar) to\n",
    "1.0 (identical) indicating how similar the documents are:"
   ]
  },
  {
   "cell_type": "code",
   "execution_count": 12,
   "id": "42bda186",
   "metadata": {},
   "outputs": [
    {
     "data": {
      "text/plain": [
       "1.0"
      ]
     },
     "execution_count": 12,
     "metadata": {},
     "output_type": "execute_result"
    }
   ],
   "source": [
    "document1.similarity(document2)"
   ]
  },
  {
   "cell_type": "code",
   "execution_count": null,
   "id": "3865d7b8",
   "metadata": {},
   "outputs": [],
   "source": []
  }
 ],
 "metadata": {
  "kernelspec": {
   "display_name": "Python 3 (ipykernel)",
   "language": "python",
   "name": "python3"
  },
  "language_info": {
   "codemirror_mode": {
    "name": "ipython",
    "version": 3
   },
   "file_extension": ".py",
   "mimetype": "text/x-python",
   "name": "python",
   "nbconvert_exporter": "python",
   "pygments_lexer": "ipython3",
   "version": "3.12.4"
  }
 },
 "nbformat": 4,
 "nbformat_minor": 5
}
