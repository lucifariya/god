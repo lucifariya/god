{
 "cells": [
  {
   "cell_type": "markdown",
   "id": "346a98e6",
   "metadata": {},
   "source": [
    "## Questions:\n",
    "1. Define Cognitive Computing.\n",
    "2. Services of IBM Watson.\n",
    "3. Services of T. C. T. App.\n",
    "4. Mashup means?\n",
    "5. Speech Synthesis Means?\n",
    "6. Functions of IBM Watson.\n",
    "7. Applications of IBM Watson."
   ]
  },
  {
   "cell_type": "markdown",
   "id": "3596708a",
   "metadata": {},
   "source": [
    "## 1:\n",
    "### Cognitive Computing\n",
    "- Simulates human brain functions like pattern recognition and decision-making.\n",
    "- Learns as it processes more data.\n",
    "- Used in diverse real-world applications (e.g., healthcare, customer service, fraud detection).  "
   ]
  },
  {
   "cell_type": "markdown",
   "id": "800c835f",
   "metadata": {},
   "source": [
    "## 2:\n",
    "### Watson Services (Lite Tier)  \n",
    "- Free tier available for experimentation (\"no credit card required\").\n",
    "- Services include:\n",
    "    * **Speech to Text –** Converts spoken audio to text.\n",
    "    * **Text to Speech –** Synthesizes speech from text (supports multiple languages).\n",
    "    * **Language Translator –** Translates text between languages and identifies languages.\n",
    "    * **Natural Language Understanding –** Analyzes sentiment, emotion, and keywords.\n",
    "    * **Visual Recognition –** Identifies objects, faces, and text in images/videos.\n",
    "    * **Watson Assistant –** Builds chatbots and virtual assistants.\n",
    "    * **Personality Insights –** Analyzes personality traits from text.\n",
    "    * **Tone Analyzer –** Detects emotional and social tones in text."
   ]
  },
  {
   "cell_type": "markdown",
   "id": "d4f986aa",
   "metadata": {},
   "source": [
    "## 3:\n",
    "### Traveler’s Companion Translation App (Case Study)\n",
    "- **Mashup** of three Watson services:\n",
    "    1. **Speech to Text** – Transcribes spoken English/Spanish.\n",
    "    2. **Language Translator –** Translates between English mand Spanish.\n",
    "    3. **Text to Speech –** Converts translated text back to speech.\n",
    "- Steps:\n",
    "    * Record a question (English) → Transcribe → Translate → Speak (Spanish).\n",
    "    * Record a response (Spanish) → Transcribe → Translate → Speak (English).\n",
    "    * Requires API keys for each service (stored in keys.py). "
   ]
  },
  {
   "cell_type": "markdown",
   "id": "be08e481",
   "metadata": {},
   "source": [
    "## 4-5:\n",
    "### Key Terms\n",
    "- **Mashup –** Combining multiple services into one application.\n",
    "- **SSML (Speech Synthesis Markup Language) –** Controls speech synthesis (e.g., pitch, pauses).\n",
    "- **Cognitive Computing –** AI systems that mimic human reasoning."
   ]
  },
  {
   "cell_type": "markdown",
   "id": "1c97ac36",
   "metadata": {},
   "source": [
    "## 6:\n",
    "### Key Functions\n",
    "#### speech_to_text(file_name, model_id)\n",
    "- **Process:**\n",
    "    1. Opens audio file ('rb' mode for binary read).\n",
    "    2. Calls Watson’s recognize method with:\n",
    "        * audio: File object.\n",
    "        * content_type: 'audio/wav'.\n",
    "        * model: Language model (e.g., en-US_BroadbandModel).\n",
    "    3. Parses JSON response to extract transcript. \n",
    "    \n",
    "#### translate(text_to_translate, model)\n",
    "- **Process:**\n",
    "    1. Calls Watson’s translate method with:\n",
    "        * text: String to translate.\n",
    "        * model_id: Translation model (e.g., en-es).\n",
    "    2. Returns translated text from JSON (translations[0}['translation']).\n",
    "    \n",
    "#### text_to_speech(text_to_speak, voice_to_use, file_name)\n",
    "- **Process:**\n",
    "    1. Opens output file ('wb' mode for binary write).\n",
    "    2. Calls Watson’s synthesize method with:\n",
    "        * text: String to speak.\n",
    "        * accept: 'audio/wav'.\n",
    "        * voice: Voice model (e.g., es-US_SofiaVoice).\n",
    "    3. Writes audio bytes to file.\n",
    "\n",
    "#### record_audio(file_name)\n",
    "- **Uses PyAudio:**\n",
    "    * Configures audio stream (44.1 kHz, 16-bit, stereo).\n",
    "    * Records 5 seconds of audio in chunks (1024 frames per chunk).\n",
    "    * Saves as WAV file using wave module.\n",
    "\n",
    "#### play_audio(file_name)\n",
    "- **Uses PyDub:**\n",
    "    * Loads WAV file with AudioSegment.from_wav().\n",
    "    * Plays audio with pydub.playback.play()."
   ]
  },
  {
   "cell_type": "markdown",
   "id": "df2c60ae",
   "metadata": {},
   "source": [
    "## 7:\n",
    "### Applications of IBM Cognitive Computing\n",
    "* Healthcare: Diagnosing diseases, personalized treatment, drug discovery.\n",
    "* Finance: Fraud detection, risk analysis, automated customer support.\n",
    "* Retail: AI-driven recommendations, personalized shopping experiences.\n",
    "* Manufacturing: Predictive maintenance, process optimization.\n",
    "* Cyber security: AI-powered threat detection and prevention."
   ]
  },
  {
   "cell_type": "code",
   "execution_count": null,
   "id": "1ee6b19f",
   "metadata": {},
   "outputs": [],
   "source": [
    "# \n",
    "# 12: barchart wager aibani\n",
    "# 13.8, 13.9, 13.10, 13.11\n",
    "# \n",
    "# syllabus upto pg book page 624 (15.5)"
   ]
  }
 ],
 "metadata": {
  "kernelspec": {
   "display_name": "Python 3 (ipykernel)",
   "language": "python",
   "name": "python3"
  },
  "language_info": {
   "codemirror_mode": {
    "name": "ipython",
    "version": 3
   },
   "file_extension": ".py",
   "mimetype": "text/x-python",
   "name": "python",
   "nbconvert_exporter": "python",
   "pygments_lexer": "ipython3",
   "version": "3.12.4"
  }
 },
 "nbformat": 4,
 "nbformat_minor": 5
}
